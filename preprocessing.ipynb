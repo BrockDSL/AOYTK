{
 "cells": [
  {
   "cell_type": "markdown",
   "id": "69806bf2-0031-43b6-b26a-480a990f395b",
   "metadata": {},
   "source": [
    "# Preprocessing text\n",
    "This notebook preprocesses text so that it can be used in further downstream processing operations.\n",
    "\n",
    "It does the following\n",
    " - Normalizes text\n",
    " - Lowercases text\n",
    " - Removes stopwords\n",
    " - Lematizes text\n",
    " - Removes special characters\n",
    " - Increases tokenization accuracy by using named entity recognition to create custom tokenization rules\n",
    " - Saves your the processed text in csv file, one document per line, with tokens separated by commas\n",
    "\n",
    "## Attribution: \n",
    "Many of the ideas and/or code in this notebook were taken from \"Blueprints for Text Analytics Using Python\" - Jens Albrecht, Sidharth Ramachandran, Christian Winkler\n",
    "Chapter 4: Preparing Textual Data For Statistics And Machine Learning\n",
    "\n",
    "The data used as an example in this notebook is the [\"UN General Debate Corpus (UNGDC)\"](https://github.com/sjankin/UnitedNations) an English language corpus of 8,093 texts of General Debate statements from 1970 (Session 25) to 2018 (Session 73). "
   ]
  },
  {
   "cell_type": "code",
   "execution_count": 1,
   "id": "928a3976-b6f5-4785-9f82-e6416c0bafd3",
   "metadata": {
    "tags": []
   },
   "outputs": [
    {
     "name": "stderr",
     "output_type": "stream",
     "text": [
      "2023-04-19 19:55:33.032905: I tensorflow/core/platform/cpu_feature_guard.cc:182] This TensorFlow binary is optimized to use available CPU instructions in performance-critical operations.\n",
      "To enable the following instructions: AVX2 FMA, in other operations, rebuild TensorFlow with the appropriate compiler flags.\n",
      "2023-04-19 19:55:33.660140: W tensorflow/compiler/tf2tensorrt/utils/py_utils.cc:38] TF-TRT Warning: Could not find TensorRT\n"
     ]
    }
   ],
   "source": [
    "import pandas as pd\n",
    "import re\n",
    "import spacy\n",
    "from spacy.symbols import ORTH  #ORTH = exact verbatim text of a token\n",
    "import textacy\n",
    "\n",
    "from tqdm import tqdm\n",
    "from pprint import pprint\n",
    "\n",
    "entities_file = 'entities.txt'\n",
    "preprocessed_savepath = 'out.csv'\n",
    "lemmatize = True\n",
    "keep_stop = False\n"
   ]
  },
  {
   "cell_type": "code",
   "execution_count": 2,
   "id": "0c2518d9-6398-4f96-ac38-bfa4a2bbe4d1",
   "metadata": {
    "tags": []
   },
   "outputs": [],
   "source": [
    "#pd.set_option('display.max_rows', 500)\n",
    "#pd.set_option('display.max_columns', 500)\n",
    "#pd.set_option('display.width', 1000)\n",
    "pd.set_option('max_colwidth', 800)"
   ]
  },
  {
   "cell_type": "markdown",
   "id": "ed6a1056-b8ed-42f2-ad50-7f5af8ce9533",
   "metadata": {},
   "source": [
    "Load data in CSV format into a dataframe. Here we load the UNGDC Corpus."
   ]
  },
  {
   "cell_type": "code",
   "execution_count": 3,
   "id": "8ed4e2a9-9161-4344-acf4-8a98544c725b",
   "metadata": {
    "tags": []
   },
   "outputs": [],
   "source": [
    "#https://github.com/blueprints-for-text-analytics-python/blueprints-text/blob/master/data/un-general-debates/un-general-debates-blueprint.csv.gz\n",
    "df = pd.read_csv(\"un.gz\")"
   ]
  },
  {
   "cell_type": "markdown",
   "id": "5ed12c12-b810-432d-ad57-30d9f5485589",
   "metadata": {},
   "source": [
    "Normalize text in a number of different ways. Read more [https://textacy.readthedocs.io/en/0.12.0/api_reference/preprocessing.html](https://textacy.readthedocs.io/en/0.12.0/api_reference/preprocessing.html) "
   ]
  },
  {
   "cell_type": "code",
   "execution_count": 4,
   "id": "4a50b8e9-8243-49b1-9796-df42cc0c78de",
   "metadata": {
    "tags": []
   },
   "outputs": [],
   "source": [
    "#Taken from \"Blueprints for Text Analytics Using Python\" - Jens Albrecht, Sidharth Ramachandran, Christian Winkler\n",
    "#Chapter 4: Preparing Textual Data For Statistics And Machine Learning\n",
    "import textacy.preprocessing as tprep\n",
    "\n",
    "def normalize(text):\n",
    "    text = tprep.normalize.bullet_points(text)\n",
    "    text = tprep.normalize.hyphenated_words(text)\n",
    "    text = tprep.normalize.quotation_marks(text)\n",
    "    text = tprep.normalize.whitespace(text)\n",
    "    text = tprep.normalize.unicode(text)\n",
    "    text = tprep.remove.accents(text)\n",
    "    #Don't lowercase text here, if going on to extract named entities. The Spacy's named entity parser relies heavily on \n",
    "    #capitalization of words to determine if a combination of tokens is an entity\n",
    "    return text"
   ]
  },
  {
   "cell_type": "markdown",
   "id": "f18671ed-aedc-4b2d-9a9e-e7f69132d478",
   "metadata": {},
   "source": [
    "Create a function \"impurity\" that returns the percentage of unusual characters in a text. Show the top three texts with the highest percentage of these characters."
   ]
  },
  {
   "cell_type": "code",
   "execution_count": 5,
   "id": "06dc8228-c626-48ec-b8e4-0dd3bb85cdb2",
   "metadata": {
    "tags": []
   },
   "outputs": [],
   "source": [
    "#Taken from \"Blueprints for Text Analytics Using Python\" - Jens Albrecht, Sidharth Ramachandran, Christian Winkler\n",
    "#Chapter 4: Preparing Textual Data For Statistics And Machine Learning\n",
    "RE_SUSPICIOUS = re.compile(r'[\\^\\~&#<>{}\\[\\]\\\\]')\n",
    "\n",
    "def impurity(text, min_len=10):\n",
    "    \"\"\"returns the share of suspicious characters in a text\"\"\"\n",
    "    if text == None or len(text) < min_len:\n",
    "        return 0\n",
    "    return len(RE_SUSPICIOUS.findall(text))/len(text)"
   ]
  },
  {
   "cell_type": "code",
   "execution_count": 6,
   "id": "b4177f75-0228-4b81-a295-136651b7d23c",
   "metadata": {
    "tags": []
   },
   "outputs": [
    {
     "data": {
      "text/html": [
       "<div>\n",
       "<style scoped>\n",
       "    .dataframe tbody tr th:only-of-type {\n",
       "        vertical-align: middle;\n",
       "    }\n",
       "\n",
       "    .dataframe tbody tr th {\n",
       "        vertical-align: top;\n",
       "    }\n",
       "\n",
       "    .dataframe thead th {\n",
       "        text-align: right;\n",
       "    }\n",
       "</style>\n",
       "<table border=\"1\" class=\"dataframe\">\n",
       "  <thead>\n",
       "    <tr style=\"text-align: right;\">\n",
       "      <th></th>\n",
       "      <th>text</th>\n",
       "      <th>impurity</th>\n",
       "    </tr>\n",
       "  </thead>\n",
       "  <tbody>\n",
       "    <tr>\n",
       "      <th>599</th>\n",
       "      <td>Sir, I have the honor to congratulate you on behalf of the Finnish Government on your important election to the presidency. We greet you as an eminent European statesman who has contributed much to European reconciliation and to international co-operation in general.\\n2. The thirtieth anniversary of the United Nations gives us an opportunity to survey the full spectrum of our activities in order to understand better the value of the Organization in present-day international politics. An examination of the main trends in the development of the United Nations gives us confidence in the future, The Organization has been able to enlarge its membership, which now approaches universality. We very warmly welcome this trend: it makes the United Nations unique as a tool for international co-ope...</td>\n",
       "      <td>0.001708</td>\n",
       "    </tr>\n",
       "    <tr>\n",
       "      <th>2319</th>\n",
       "      <td>My delegation warmly congratulates you, Sir, on your election to the presidency of the forty-second session of the General Assembly. Our thanks and compliments go to your predecessor, Mr. Humayun Rasheed Choudhury, the Foreign Minister of Bangladesh, for his outstanding leadership of the forty-first session.\\nThe international community is aware of the recent political and constitutional developments which have led to the change of Government in Fiji. The situation is an Internal matter which the people of Fiji must be allowed to resolve in their own way. Interference of any kind from outside will not help in resolving our domestic difficulties, and we urge all Member States to show understanding of our situation.\\nLooking back at the international scene over this past year, my Governm...</td>\n",
       "      <td>0.001378</td>\n",
       "    </tr>\n",
       "    <tr>\n",
       "      <th>115</th>\n",
       "      <td>116. I should like, Sir, on behalf of the Irish delegation, to add my warm congratulations on your election as President of the twenty-sixth session of the General Assembly. The Assembly has chosen a President who knows how to bear wisdom lightly and, in electing you to this high honor, has paid tribute to you as a distinguished leader and statesman of your great country, a country of rich cultural 'diversity in unity' and one which has such an important role in the affairs of your region and among all the nations.\\n117. I am happy to join in the universal tribute that has also been paid to. Mr. Hambro, the distinguished representative of Norway, whose patience, skill and dynamism were so brilliantly displayed as President of the twenty-fifth session of the Assembly.\\n113. It is my ple...</td>\n",
       "      <td>0.001312</td>\n",
       "    </tr>\n",
       "  </tbody>\n",
       "</table>\n",
       "</div>"
      ],
      "text/plain": [
       "                                                                                                                                                                                                                                                                                                                                                                                                                                                                                                                                                                                                                                                                                                                                                                                                                                 text  \\\n",
       "599   Sir, I have the honor to congratulate you on behalf of the Finnish Government on your important election to the presidency. We greet you as an eminent European statesman who has contributed much to European reconciliation and to international co-operation in general.\\n2. The thirtieth anniversary of the United Nations gives us an opportunity to survey the full spectrum of our activities in order to understand better the value of the Organization in present-day international politics. An examination of the main trends in the development of the United Nations gives us confidence in the future, The Organization has been able to enlarge its membership, which now approaches universality. We very warmly welcome this trend: it makes the United Nations unique as a tool for international co-ope...   \n",
       "2319  My delegation warmly congratulates you, Sir, on your election to the presidency of the forty-second session of the General Assembly. Our thanks and compliments go to your predecessor, Mr. Humayun Rasheed Choudhury, the Foreign Minister of Bangladesh, for his outstanding leadership of the forty-first session.\\nThe international community is aware of the recent political and constitutional developments which have led to the change of Government in Fiji. The situation is an Internal matter which the people of Fiji must be allowed to resolve in their own way. Interference of any kind from outside will not help in resolving our domestic difficulties, and we urge all Member States to show understanding of our situation.\\nLooking back at the international scene over this past year, my Governm...   \n",
       "115   116. I should like, Sir, on behalf of the Irish delegation, to add my warm congratulations on your election as President of the twenty-sixth session of the General Assembly. The Assembly has chosen a President who knows how to bear wisdom lightly and, in electing you to this high honor, has paid tribute to you as a distinguished leader and statesman of your great country, a country of rich cultural 'diversity in unity' and one which has such an important role in the affairs of your region and among all the nations.\\n117. I am happy to join in the universal tribute that has also been paid to. Mr. Hambro, the distinguished representative of Norway, whose patience, skill and dynamism were so brilliantly displayed as President of the twenty-fifth session of the Assembly.\\n113. It is my ple...   \n",
       "\n",
       "      impurity  \n",
       "599   0.001708  \n",
       "2319  0.001378  \n",
       "115   0.001312  "
      ]
     },
     "execution_count": 6,
     "metadata": {},
     "output_type": "execute_result"
    }
   ],
   "source": [
    "df['text'] = df['text'].apply(normalize)\n",
    "df['impurity'] = df['text'].apply(impurity, min_len=10)\n",
    "df[['text', 'impurity']].sort_values(by='impurity', ascending=False).head(3)"
   ]
  },
  {
   "cell_type": "markdown",
   "id": "658933de-013b-4b23-bfae-a92469e61bfa",
   "metadata": {},
   "source": [
    "Now create a function that removes patterns based on regular expressions."
   ]
  },
  {
   "cell_type": "code",
   "execution_count": 7,
   "id": "fa31c977-0e15-45c8-926a-cd294fb06bf9",
   "metadata": {
    "tags": []
   },
   "outputs": [],
   "source": [
    "#Taken from \"Blueprints for Text Analytics Using Python\" - Jens Albrecht, Sidharth Ramachandran, Christian Winkler\n",
    "#Chapter 4: Preparing Textual Data For Statistics And Machine Learning\n",
    "\n",
    "#clean/masking step after determining impurity\n",
    "def clean(text, min_len=10):\n",
    "    if text == None or len(text) < min_len:\n",
    "        return text\n",
    "    \n",
    "    patterns = [\n",
    "                (\"\\n\", \" \"), #change new lines to white space \n",
    "                (r\"(\\[|\\()ibid\\..*?(\\]|\\))\", \"\"), #remove ibid references \n",
    "                (r\"\\[.*?\\d+.*?\\]\", \"\"), #remove resolution references\n",
    "               ]\n",
    "    for regex, sub in patterns:\n",
    "        text = re.sub(regex, sub, text)\n",
    "    return text\n"
   ]
  },
  {
   "cell_type": "markdown",
   "id": "6ae9cc5e-2dac-4f3c-a506-feb4c8cf981d",
   "metadata": {},
   "source": [
    "Repeat this block of code - updating the clean function - until the level of impurity is acceptable."
   ]
  },
  {
   "cell_type": "code",
   "execution_count": 8,
   "id": "48e05fc5-3e39-45c1-a96f-5e1715f52b45",
   "metadata": {
    "tags": []
   },
   "outputs": [
    {
     "data": {
      "text/html": [
       "<div>\n",
       "<style scoped>\n",
       "    .dataframe tbody tr th:only-of-type {\n",
       "        vertical-align: middle;\n",
       "    }\n",
       "\n",
       "    .dataframe tbody tr th {\n",
       "        vertical-align: top;\n",
       "    }\n",
       "\n",
       "    .dataframe thead th {\n",
       "        text-align: right;\n",
       "    }\n",
       "</style>\n",
       "<table border=\"1\" class=\"dataframe\">\n",
       "  <thead>\n",
       "    <tr style=\"text-align: right;\">\n",
       "      <th></th>\n",
       "      <th>text</th>\n",
       "      <th>impurity</th>\n",
       "    </tr>\n",
       "  </thead>\n",
       "  <tbody>\n",
       "    <tr>\n",
       "      <th>2319</th>\n",
       "      <td>My delegation warmly congratulates you, Sir, on your election to the presidency of the forty-second session of the General Assembly. Our thanks and compliments go to your predecessor, Mr. Humayun Rasheed Choudhury, the Foreign Minister of Bangladesh, for his outstanding leadership of the forty-first session. The international community is aware of the recent political and constitutional developments which have led to the change of Government in Fiji. The situation is an Internal matter which the people of Fiji must be allowed to resolve in their own way. Interference of any kind from outside will not help in resolving our domestic difficulties, and we urge all Member States to show understanding of our situation. Looking back at the international scene over this past year, my Governmen...</td>\n",
       "      <td>0.001378</td>\n",
       "    </tr>\n",
       "    <tr>\n",
       "      <th>3079</th>\n",
       "      <td>Mr. President, the contribution that your country, Bulgaria, is making to the building of a new world order accords with the genius of its people. He are gratified by your election to the presidency of the General Assembly at its forty-seventh session, and we wish you every success in the discharge of your mandate. He take pleasure in hailing and paying tribute to His Excellency Ambassador Shihabi of Saudi Arabia, who skilfully handled his responsibilities at the forty-sixth session, which was marked by, among other major events, the election of the new Secretary-General of our Organization. He also take pleasure in addressing heartfelt congratulations to His Excellency Mr. Boutros Boutros Ghali. The energy and distinction with which he has assumed his new functions reinforce our convi...</td>\n",
       "      <td>0.000785</td>\n",
       "    </tr>\n",
       "    <tr>\n",
       "      <th>2724</th>\n",
       "      <td>Mr. President, ascending the steps which lead to this podium# and speaking before the United Nations General Assembly is always a great honour and privilege. Today this honour and privilege take on added significance for our delegation. I have the pleasure of conveying to you, and to the Government and people of the Federal Republic of Nigeria# congratulations and best wishes on your unanimous election as President of the forty-fourth session of the General Assembly. Furthermore# I have the honour of conveying to you a personal congratulatory message from Father Halter Prime Minister of the Republic of Vanuatu. The Prime Minister: sends his fondest regards to you, a friend and a man he knows to be not only a proud son of Nigeria, but also a proud son of Vanuatu. We recall that the hono...</td>\n",
       "      <td>0.000620</td>\n",
       "    </tr>\n",
       "  </tbody>\n",
       "</table>\n",
       "</div>"
      ],
      "text/plain": [
       "                                                                                                                                                                                                                                                                                                                                                                                                                                                                                                                                                                                                                                                                                                                                                                                                                                 text  \\\n",
       "2319  My delegation warmly congratulates you, Sir, on your election to the presidency of the forty-second session of the General Assembly. Our thanks and compliments go to your predecessor, Mr. Humayun Rasheed Choudhury, the Foreign Minister of Bangladesh, for his outstanding leadership of the forty-first session. The international community is aware of the recent political and constitutional developments which have led to the change of Government in Fiji. The situation is an Internal matter which the people of Fiji must be allowed to resolve in their own way. Interference of any kind from outside will not help in resolving our domestic difficulties, and we urge all Member States to show understanding of our situation. Looking back at the international scene over this past year, my Governmen...   \n",
       "3079  Mr. President, the contribution that your country, Bulgaria, is making to the building of a new world order accords with the genius of its people. He are gratified by your election to the presidency of the General Assembly at its forty-seventh session, and we wish you every success in the discharge of your mandate. He take pleasure in hailing and paying tribute to His Excellency Ambassador Shihabi of Saudi Arabia, who skilfully handled his responsibilities at the forty-sixth session, which was marked by, among other major events, the election of the new Secretary-General of our Organization. He also take pleasure in addressing heartfelt congratulations to His Excellency Mr. Boutros Boutros Ghali. The energy and distinction with which he has assumed his new functions reinforce our convi...   \n",
       "2724  Mr. President, ascending the steps which lead to this podium# and speaking before the United Nations General Assembly is always a great honour and privilege. Today this honour and privilege take on added significance for our delegation. I have the pleasure of conveying to you, and to the Government and people of the Federal Republic of Nigeria# congratulations and best wishes on your unanimous election as President of the forty-fourth session of the General Assembly. Furthermore# I have the honour of conveying to you a personal congratulatory message from Father Halter Prime Minister of the Republic of Vanuatu. The Prime Minister: sends his fondest regards to you, a friend and a man he knows to be not only a proud son of Nigeria, but also a proud son of Vanuatu. We recall that the hono...   \n",
       "\n",
       "      impurity  \n",
       "2319  0.001378  \n",
       "3079  0.000785  \n",
       "2724  0.000620  "
      ]
     },
     "execution_count": 8,
     "metadata": {},
     "output_type": "execute_result"
    }
   ],
   "source": [
    "df['text'] = df['text'].apply(clean, min_len=10)\n",
    "df['impurity'] = df['text'].apply(impurity, min_len=10)\n",
    "df[['text', 'impurity']].sort_values(by='impurity', ascending=False).head(3)"
   ]
  },
  {
   "cell_type": "markdown",
   "id": "b8677989-971c-4f4d-874e-37d313eff313",
   "metadata": {},
   "source": [
    "Next improve tokenization accuracy by relying on Spacy's ability for named entity recognition. It is highly likely that custom tokenization rules will need to be written depending on the particular domain. Unfortunately this may mean writing hundreds if not thousands of rules. However, if we use Spacy's NER, we may be able to cut down on the number of rules that we need to write.\n",
    "\n",
    "Let's take a look at an example of how this works. "
   ]
  },
  {
   "cell_type": "code",
   "execution_count": 9,
   "id": "398d4a15-94a0-44a9-9389-73e42c16562f",
   "metadata": {
    "tags": []
   },
   "outputs": [
    {
     "name": "stdout",
     "output_type": "stream",
     "text": [
      "The People's Republic of China has a large population. Boutros Boutros-Ghali is a former Secretary-General of the United Nations. The Red Army had a decisive victory over the Nazi hordes. Vietnam is in East Asia.\n",
      "\n",
      "This is a set (no duplicates present) of the tokens that were parsed from the above sentence\n",
      "\n",
      "{'over', 'hordes', \"'s\", 'East', 'in', 'Republic', 'Vietnam', '-', 'large', 'has', 'Red', 'Army', 'former', 'Nations', 'Secretary', 'victory', 'China', '.', 'Ghali', 'General', 'decisive', 'population', 'had', 'Asia', 'of', 'Boutros', 'is', 'Nazi', 'People', 'the', 'a', 'United', 'The'}\n",
      "\n",
      "These are the named entities\n",
      "\n",
      "{'the United Nations', 'East Asia', 'Vietnam', 'Boutros Boutros-Ghali', 'Nazi', 'The Red Army', \"The People's Republic of China\"}\n"
     ]
    }
   ],
   "source": [
    "nlp = spacy.load(\"en_core_web_sm\")\n",
    "sentence_text = 'The People\\'s Republic of China has a large population. Boutros Boutros-Ghali is a former Secretary-General of the United Nations. The Red Army had a decisive victory over the Nazi hordes. Vietnam is in East Asia.'\n",
    "print(sentence_text)\n",
    "print()\n",
    "sentence = nlp(sentence_text)\n",
    "tokens = {token.text for token in sentence}\n",
    "print(\"This is a set (no duplicates present) of the tokens that were parsed from the above sentence\")\n",
    "print()\n",
    "print(tokens)\n",
    "print()\n",
    "print(\"These are the named entities\")\n",
    "print()\n",
    "ents = {ent.text for ent in sentence.ents}\n",
    "print(ents)"
   ]
  },
  {
   "cell_type": "markdown",
   "id": "3912b1b9-42e4-4910-a58b-83c9d01b6759",
   "metadata": {},
   "source": [
    "As you can see, 'Boutros Boutros-Ghali' was tokenized as 'Boutros','Boutros','Ghali', 'East Asia' as 'East' and 'Asia', 'the United Nations' as 'the', 'United', 'Nations' and so on. So the tokenization failed to preserve phrases but the NER got it right. When text is tokenized in this way, we loose information that these words were ever joined together in the first place. It's important that we keep this information available for future processing steps.\n",
    "\n",
    "Spacy has a number of different NER types we are interested in. Run the code below to see what they are. Excluded from this list are DATE,TIME,PERCENT,MONEY,QUANTITY,ORDINAL, and CARDINAL."
   ]
  },
  {
   "cell_type": "code",
   "execution_count": 10,
   "id": "582f7758-05d3-4731-a7c9-82e38f7de485",
   "metadata": {
    "tags": []
   },
   "outputs": [
    {
     "name": "stdout",
     "output_type": "stream",
     "text": [
      "EVENT:Named hurricanes, battles, wars, sports events, etc.\n",
      "FAC:Buildings, airports, highways, bridges, etc.\n",
      "GPE:Countries, cities, states\n",
      "LANGUAGE:Any named language\n",
      "LAW:Named documents made into laws.\n",
      "LOC:Non-GPE locations, mountain ranges, bodies of water\n",
      "NORP:Nationalities or religious or political groups\n",
      "ORG:Companies, agencies, institutions, etc.\n",
      "PERSON:People, including fictional\n",
      "PRODUCT:Objects, vehicles, foods, etc. (not services)\n",
      "WORK_OF_ART:Titles of books, songs, etc.\n"
     ]
    }
   ],
   "source": [
    "einterest = ['EVENT','FAC','GPE','LANGUAGE','LAW','LOC','NORP','ORG','PERSON','PRODUCT','WORK_OF_ART']\n",
    "for ner_type in einterest:\n",
    "    print(f\"{ner_type}:{spacy.explain(ner_type)}\") "
   ]
  },
  {
   "cell_type": "markdown",
   "id": "15e5f1cb-3544-43b5-a003-cec5b9900ed5",
   "metadata": {},
   "source": [
    "This next code section extracts sets of tokens and entities from the corpus and compares them. The idea is to create custom tokenizer rules for any entities not found in the tokens. Since NER is a statistical process and is prone to error, we also need to verify the entities are correct.\n",
    "\n",
    "The process looks like this\n",
    " - Compare entities to tokens\n",
    " - Write out a list of entities (one per line)\n",
    " - Manually inspect entities, fixing as necessary\n",
    " - Transform the list of entities into tokenization rules "
   ]
  },
  {
   "cell_type": "code",
   "execution_count": null,
   "id": "d29e689a-9207-4dfc-b02d-5061d6a4f4ff",
   "metadata": {
    "tags": []
   },
   "outputs": [
    {
     "name": "stdout",
     "output_type": "stream",
     "text": [
      "Determining entities\n"
     ]
    },
    {
     "name": "stderr",
     "output_type": "stream",
     "text": [
      "100%|██████████| 7507/7507 [10:00<00:00, 12.50it/s]\n"
     ]
    },
    {
     "name": "stdout",
     "output_type": "stream",
     "text": [
      "Determining tokens\n"
     ]
    },
    {
     "name": "stderr",
     "output_type": "stream",
     "text": [
      " 47%|████▋     | 3565/7507 [05:46<02:37, 25.00it/s]"
     ]
    }
   ],
   "source": [
    "def extract_entities(text, output=entities_file):\n",
    "    nlp = spacy.load(\"en_core_web_sm\")\n",
    "    for pipe_component in ['tok2vec','lemmatizer','tagger','parser','senter','attribute_ruler']:\n",
    "        nlp.disable_pipe(pipe_component)\n",
    "\n",
    "    print(\"Determining entities\")\n",
    "    with tqdm(total=len(text)) as pbar:\n",
    "        entities = set()\n",
    "        for doc in nlp.pipe(text):\n",
    "            for ent in doc.ents:\n",
    "                if ent.label_ in einterest:\n",
    "                    entities.add(ent.text.lower())\n",
    "            pbar.update(1)\n",
    "\n",
    "    print(\"Determining tokens\")\n",
    "    with tqdm(total=len(text)) as pbar:\n",
    "        tokens = set()\n",
    "        for doc in nlp.pipe(text):\n",
    "            for token in doc:\n",
    "                tokens.add(token.text.lower())\n",
    "            pbar.update(1)\n",
    "\n",
    "    print(\"Determining difference\")\n",
    "    difference = entities - tokens\n",
    "\n",
    "    print(\"Saving difference\")\n",
    "    with open(output,'w') as ent_file:\n",
    "        ent_file.writelines('\\n'.join(sorted(difference)))\n",
    "    print(\"Done\")\n",
    "\n",
    "extract_entities(df['text'])"
   ]
  },
  {
   "cell_type": "markdown",
   "id": "d4333060-d6d8-47fe-a1b3-fd47802c6e31",
   "metadata": {},
   "source": [
    "Once any necessary edits to the entities.txt file have been made run this code block to add load the entities as special tokenization rules. This will ensure that these entities are treated as single tokens.\n",
    "\n",
    "The code then tokenizes the texts in the corpus and saves the tokens in a file \"out.csv\". Each line in the output represents a single processed text and tokens are lemmatized after excluding stopwords."
   ]
  },
  {
   "cell_type": "code",
   "execution_count": null,
   "id": "bbead6e6-ee00-4c60-ba8f-159d47c4e77f",
   "metadata": {
    "tags": []
   },
   "outputs": [],
   "source": [
    "nlp = spacy.load(\"en_core_web_sm\")\n",
    "with open(entities_file,'r') as ent_file:\n",
    "    for entity in ent_file.readlines():\n",
    "        entity = entity.strip()\n",
    "        nlp.tokenizer.add_special_case(entity, [{ORTH:entity}])\n",
    "        \n",
    "for pipe_component in ['tok2vec','parser','senter','attribute_ruler','ner']:\n",
    "    nlp.disable_pipe(pipe_component)\n",
    "\n",
    "#lowercase the text so that our lowercased tokenization rules can match\n",
    "lowercased_text = df['text'].apply(lambda t:t.lower())    \n",
    "\n",
    "with tqdm(total=len(lowercased_text)) as pbar:\n",
    "    sentences = []                                   \n",
    "    for doc in nlp.pipe(lowercased_text):\n",
    "        if lemmatize:\n",
    "            sentences.append([token.lemma_ for token in doc if keep_stop or not token.is_stop])\n",
    "        else:\n",
    "            sentences.append([token.text for token in doc if keep_stop or not token.is_stop])\n",
    "        pbar.update(1)\n",
    "\n",
    "textacy.io.csv.write_csv(sentences, preprocessed_savepath)    "
   ]
  }
 ],
 "metadata": {
  "kernelspec": {
   "display_name": "Python 3 (ipykernel)",
   "language": "python",
   "name": "python3"
  },
  "language_info": {
   "codemirror_mode": {
    "name": "ipython",
    "version": 3
   },
   "file_extension": ".py",
   "mimetype": "text/x-python",
   "name": "python",
   "nbconvert_exporter": "python",
   "pygments_lexer": "ipython3",
   "version": "3.10.9"
  }
 },
 "nbformat": 4,
 "nbformat_minor": 5
}
