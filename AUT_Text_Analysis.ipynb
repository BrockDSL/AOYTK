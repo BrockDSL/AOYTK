{
  "nbformat": 4,
  "nbformat_minor": 0,
  "metadata": {
    "colab": {
      "provenance": [],
      "collapsed_sections": []
    },
    "kernelspec": {
      "name": "python3",
      "display_name": "Python 3"
    },
    "language_info": {
      "name": "python"
    },
    "widgets": {
      "application/vnd.jupyter.widget-state+json": {
        "07a07a2942264a26afe3371aeb7a7001": {
          "model_module": "@jupyter-widgets/controls",
          "model_name": "TextModel",
          "model_module_version": "1.5.0",
          "state": {
            "_dom_classes": [],
            "_model_module": "@jupyter-widgets/controls",
            "_model_module_version": "1.5.0",
            "_model_name": "TextModel",
            "_view_count": null,
            "_view_module": "@jupyter-widgets/controls",
            "_view_module_version": "1.5.0",
            "_view_name": "TextView",
            "continuous_update": true,
            "description": "W/ARC file:",
            "description_tooltip": null,
            "disabled": false,
            "layout": "IPY_MODEL_ff50489ce89a4e52a7ba80e130df7a90",
            "placeholder": "​",
            "style": "IPY_MODEL_6d24f95f02424544898a9ac028253e06",
            "value": "/content/data/ARCHIVEIT-227-QUARTERLY-XUGECV-20091218231727-00039-crawling06.us.archive.org-8091.warc.gz"
          }
        },
        "ff50489ce89a4e52a7ba80e130df7a90": {
          "model_module": "@jupyter-widgets/base",
          "model_name": "LayoutModel",
          "model_module_version": "1.2.0",
          "state": {
            "_model_module": "@jupyter-widgets/base",
            "_model_module_version": "1.2.0",
            "_model_name": "LayoutModel",
            "_view_count": null,
            "_view_module": "@jupyter-widgets/base",
            "_view_module_version": "1.2.0",
            "_view_name": "LayoutView",
            "align_content": null,
            "align_items": null,
            "align_self": null,
            "border": null,
            "bottom": null,
            "display": null,
            "flex": null,
            "flex_flow": null,
            "grid_area": null,
            "grid_auto_columns": null,
            "grid_auto_flow": null,
            "grid_auto_rows": null,
            "grid_column": null,
            "grid_gap": null,
            "grid_row": null,
            "grid_template_areas": null,
            "grid_template_columns": null,
            "grid_template_rows": null,
            "height": null,
            "justify_content": null,
            "justify_items": null,
            "left": null,
            "margin": null,
            "max_height": null,
            "max_width": null,
            "min_height": null,
            "min_width": null,
            "object_fit": null,
            "object_position": null,
            "order": null,
            "overflow": null,
            "overflow_x": null,
            "overflow_y": null,
            "padding": null,
            "right": null,
            "top": null,
            "visibility": null,
            "width": null
          }
        },
        "6d24f95f02424544898a9ac028253e06": {
          "model_module": "@jupyter-widgets/controls",
          "model_name": "DescriptionStyleModel",
          "model_module_version": "1.5.0",
          "state": {
            "_model_module": "@jupyter-widgets/controls",
            "_model_module_version": "1.5.0",
            "_model_name": "DescriptionStyleModel",
            "_view_count": null,
            "_view_module": "@jupyter-widgets/base",
            "_view_module_version": "1.2.0",
            "_view_name": "StyleView",
            "description_width": ""
          }
        },
        "95350a4c7174420598b9219f00e75d7c": {
          "model_module": "@jupyter-widgets/controls",
          "model_name": "TextModel",
          "model_module_version": "1.5.0",
          "state": {
            "_dom_classes": [],
            "_model_module": "@jupyter-widgets/controls",
            "_model_module_version": "1.5.0",
            "_model_name": "TextModel",
            "_view_count": null,
            "_view_module": "@jupyter-widgets/controls",
            "_view_module_version": "1.5.0",
            "_view_name": "TextView",
            "continuous_update": true,
            "description": "Output folder:",
            "description_tooltip": null,
            "disabled": false,
            "layout": "IPY_MODEL_5e680229568f4b558560e470d248e635",
            "placeholder": "​",
            "style": "IPY_MODEL_a0c942e37aa242faa7e4367d5768dc37",
            "value": "output-no-boilertext/"
          }
        },
        "5e680229568f4b558560e470d248e635": {
          "model_module": "@jupyter-widgets/base",
          "model_name": "LayoutModel",
          "model_module_version": "1.2.0",
          "state": {
            "_model_module": "@jupyter-widgets/base",
            "_model_module_version": "1.2.0",
            "_model_name": "LayoutModel",
            "_view_count": null,
            "_view_module": "@jupyter-widgets/base",
            "_view_module_version": "1.2.0",
            "_view_name": "LayoutView",
            "align_content": null,
            "align_items": null,
            "align_self": null,
            "border": null,
            "bottom": null,
            "display": null,
            "flex": null,
            "flex_flow": null,
            "grid_area": null,
            "grid_auto_columns": null,
            "grid_auto_flow": null,
            "grid_auto_rows": null,
            "grid_column": null,
            "grid_gap": null,
            "grid_row": null,
            "grid_template_areas": null,
            "grid_template_columns": null,
            "grid_template_rows": null,
            "height": null,
            "justify_content": null,
            "justify_items": null,
            "left": null,
            "margin": null,
            "max_height": null,
            "max_width": null,
            "min_height": null,
            "min_width": null,
            "object_fit": null,
            "object_position": null,
            "order": null,
            "overflow": null,
            "overflow_x": null,
            "overflow_y": null,
            "padding": null,
            "right": null,
            "top": null,
            "visibility": null,
            "width": null
          }
        },
        "a0c942e37aa242faa7e4367d5768dc37": {
          "model_module": "@jupyter-widgets/controls",
          "model_name": "DescriptionStyleModel",
          "model_module_version": "1.5.0",
          "state": {
            "_model_module": "@jupyter-widgets/controls",
            "_model_module_version": "1.5.0",
            "_model_name": "DescriptionStyleModel",
            "_view_count": null,
            "_view_module": "@jupyter-widgets/base",
            "_view_module_version": "1.2.0",
            "_view_name": "StyleView",
            "description_width": ""
          }
        },
        "eac3c31cb87f4040b23783565fd005b9": {
          "model_module": "@jupyter-widgets/controls",
          "model_name": "DropdownModel",
          "model_module_version": "1.5.0",
          "state": {
            "_dom_classes": [],
            "_model_module": "@jupyter-widgets/controls",
            "_model_module_version": "1.5.0",
            "_model_name": "DropdownModel",
            "_options_labels": [
              "csv",
              "parquet"
            ],
            "_view_count": null,
            "_view_module": "@jupyter-widgets/controls",
            "_view_module_version": "1.5.0",
            "_view_name": "DropdownView",
            "description": "File type:",
            "description_tooltip": null,
            "disabled": false,
            "index": 0,
            "layout": "IPY_MODEL_13956be49f6348749cd28b86ab9c8e34",
            "style": "IPY_MODEL_07005281c579452f9216885c03bef812"
          }
        },
        "13956be49f6348749cd28b86ab9c8e34": {
          "model_module": "@jupyter-widgets/base",
          "model_name": "LayoutModel",
          "model_module_version": "1.2.0",
          "state": {
            "_model_module": "@jupyter-widgets/base",
            "_model_module_version": "1.2.0",
            "_model_name": "LayoutModel",
            "_view_count": null,
            "_view_module": "@jupyter-widgets/base",
            "_view_module_version": "1.2.0",
            "_view_name": "LayoutView",
            "align_content": null,
            "align_items": null,
            "align_self": null,
            "border": null,
            "bottom": null,
            "display": null,
            "flex": null,
            "flex_flow": null,
            "grid_area": null,
            "grid_auto_columns": null,
            "grid_auto_flow": null,
            "grid_auto_rows": null,
            "grid_column": null,
            "grid_gap": null,
            "grid_row": null,
            "grid_template_areas": null,
            "grid_template_columns": null,
            "grid_template_rows": null,
            "height": null,
            "justify_content": null,
            "justify_items": null,
            "left": null,
            "margin": null,
            "max_height": null,
            "max_width": null,
            "min_height": null,
            "min_width": null,
            "object_fit": null,
            "object_position": null,
            "order": null,
            "overflow": null,
            "overflow_x": null,
            "overflow_y": null,
            "padding": null,
            "right": null,
            "top": null,
            "visibility": null,
            "width": null
          }
        },
        "07005281c579452f9216885c03bef812": {
          "model_module": "@jupyter-widgets/controls",
          "model_name": "DescriptionStyleModel",
          "model_module_version": "1.5.0",
          "state": {
            "_model_module": "@jupyter-widgets/controls",
            "_model_module_version": "1.5.0",
            "_model_name": "DescriptionStyleModel",
            "_view_count": null,
            "_view_module": "@jupyter-widgets/base",
            "_view_module_version": "1.2.0",
            "_view_name": "StyleView",
            "description_width": ""
          }
        },
        "81f59e46c634418fafbb6186924e0ba8": {
          "model_module": "@jupyter-widgets/controls",
          "model_name": "DropdownModel",
          "model_module_version": "1.5.0",
          "state": {
            "_dom_classes": [],
            "_model_module": "@jupyter-widgets/controls",
            "_model_module_version": "1.5.0",
            "_model_name": "DropdownModel",
            "_options_labels": [
              "All text content",
              "Text content without HTTP headers",
              "Text content without boilerplate"
            ],
            "_view_count": null,
            "_view_module": "@jupyter-widgets/controls",
            "_view_module_version": "1.5.0",
            "_view_name": "DropdownView",
            "description": "Content:",
            "description_tooltip": null,
            "disabled": false,
            "index": 2,
            "layout": "IPY_MODEL_bb4e27f494c641168dcc2faee1f1d1c7",
            "style": "IPY_MODEL_13b077eb436845caa4beb60b709b582e"
          }
        },
        "bb4e27f494c641168dcc2faee1f1d1c7": {
          "model_module": "@jupyter-widgets/base",
          "model_name": "LayoutModel",
          "model_module_version": "1.2.0",
          "state": {
            "_model_module": "@jupyter-widgets/base",
            "_model_module_version": "1.2.0",
            "_model_name": "LayoutModel",
            "_view_count": null,
            "_view_module": "@jupyter-widgets/base",
            "_view_module_version": "1.2.0",
            "_view_name": "LayoutView",
            "align_content": null,
            "align_items": null,
            "align_self": null,
            "border": null,
            "bottom": null,
            "display": null,
            "flex": null,
            "flex_flow": null,
            "grid_area": null,
            "grid_auto_columns": null,
            "grid_auto_flow": null,
            "grid_auto_rows": null,
            "grid_column": null,
            "grid_gap": null,
            "grid_row": null,
            "grid_template_areas": null,
            "grid_template_columns": null,
            "grid_template_rows": null,
            "height": null,
            "justify_content": null,
            "justify_items": null,
            "left": null,
            "margin": null,
            "max_height": null,
            "max_width": null,
            "min_height": null,
            "min_width": null,
            "object_fit": null,
            "object_position": null,
            "order": null,
            "overflow": null,
            "overflow_x": null,
            "overflow_y": null,
            "padding": null,
            "right": null,
            "top": null,
            "visibility": null,
            "width": null
          }
        },
        "13b077eb436845caa4beb60b709b582e": {
          "model_module": "@jupyter-widgets/controls",
          "model_name": "DescriptionStyleModel",
          "model_module_version": "1.5.0",
          "state": {
            "_model_module": "@jupyter-widgets/controls",
            "_model_module_version": "1.5.0",
            "_model_name": "DescriptionStyleModel",
            "_view_count": null,
            "_view_module": "@jupyter-widgets/base",
            "_view_module_version": "1.2.0",
            "_view_name": "StyleView",
            "description_width": ""
          }
        }
      }
    }
  },
  "cells": [
    {
      "cell_type": "markdown",
      "source": [
        "## Setup AUT and PySpark\n",
        "This section downloads and installs all of the required dependencies for setting up the AUT and PySpark within Google Colab. \n",
        "\n",
        "It is taken directly from [this notebook](https://github.com/archivesunleashed/notebooks/blob/main/PySpark%20Examples/aut_pyspark.ipynb) created by the Archives Unleashed team. "
      ],
      "metadata": {
        "id": "Bs13aDpV3bIX"
      }
    },
    {
      "cell_type": "code",
      "execution_count": 1,
      "metadata": {
        "id": "YHA8ZK_i3WB5"
      },
      "outputs": [],
      "source": [
        "# download the AUT\n",
        "%%capture\n",
        "!wget \"https://github.com/archivesunleashed/aut/releases/download/aut-1.1.0/aut-1.1.0.zip\"\n",
        "!wget \"https://github.com/archivesunleashed/aut/releases/download/aut-1.1.0/aut-1.1.0-fatjar.jar\""
      ]
    },
    {
      "cell_type": "code",
      "source": [
        "# download the dependencies (Java, Apache Spark, FindSpark (for PySpark))\n",
        "%%capture\n",
        "!apt-get update\n",
        "!apt-get install -y openjdk-11-jdk-headless -qq \n",
        "!apt-get install maven -qq\n",
        "\n",
        "!curl -L \"https://archive.apache.org/dist/spark/spark-3.1.1/spark-3.1.1-bin-hadoop2.7.tgz\" > spark-3.1.1-bin-hadoop2.7.tgz\n",
        "!tar -xvf spark-3.1.1-bin-hadoop2.7.tgz\n",
        "!pip install -q findspark"
      ],
      "metadata": {
        "id": "ijd_LpV34JLi"
      },
      "execution_count": 2,
      "outputs": []
    },
    {
      "cell_type": "code",
      "source": [
        "# create the appropriate environment variables to be able to use Java, Spark and PySpark\n",
        "import os\n",
        "os.environ[\"JAVA_HOME\"] = \"/usr/lib/jvm/java-1.11.0-openjdk-amd64\"\n",
        "os.environ[\"SPARK_HOME\"] = \"/content/spark-3.1.1-bin-hadoop2.7\"\n",
        "os.environ['PYSPARK_SUBMIT_ARGS'] = '--jars aut-1.1.0-fatjar.jar --py-files aut-1.1.0.zip pyspark-shell'\n",
        "# initialize PySpark and the appropriate context variables for use with the AUT\n",
        "import findspark\n",
        "findspark.init()\n",
        "import pyspark\n",
        "sc = pyspark.SparkContext()\n",
        "from pyspark.sql import SQLContext\n",
        "sqlContext = SQLContext(sc)"
      ],
      "metadata": {
        "id": "YhiwEl2r4SzJ"
      },
      "execution_count": 3,
      "outputs": []
    },
    {
      "cell_type": "code",
      "execution_count": 4,
      "metadata": {
        "id": "AB47vlXOtAzM"
      },
      "outputs": [],
      "source": [
        "# borrowing their sample data too for now! (from University of Toronto Libraries, Canadian Political Parties and Interest Groups, Archive-It Collection 227, Canadian Action Party, http://wayback.archive-it.org/227/20051004191340/http://canadianactionparty.ca/Default2.asp)\n",
        "%%capture\n",
        "!mkdir data\n",
        "!wget \"https://github.com/archivesunleashed/aut-resources/blob/master/Sample-Data/ARCHIVEIT-227-UOFTORONTO-CANPOLPINT-20060622205612-00009-crawling025.archive.org.arc.gz?raw=true\" -O data/ARCHIVEIT-227-UOFTORONTO-CANPOLPINT-20060622205612-00009-crawling025.archive.org.arc.gz\n",
        "!wget \"https://github.com/archivesunleashed/aut-resources/blob/master/Sample-Data/ARCHIVEIT-227-QUARTERLY-XUGECV-20091218231727-00039-crawling06.us.archive.org-8091.warc.gz?raw=true\" -O data/ARCHIVEIT-227-QUARTERLY-XUGECV-20091218231727-00039-crawling06.us.archive.org-8091.warc.gz"
      ]
    },
    {
      "cell_type": "markdown",
      "source": [
        "## Produce a text derivative file\n",
        "\n",
        "Given an ARC or WARC file, produce a text derivative. "
      ],
      "metadata": {
        "id": "RFl_u1z54idA"
      }
    },
    {
      "cell_type": "code",
      "source": [
        "# import the AUT\n",
        "from aut import *\n",
        "from pyspark.sql.functions import col, desc\n",
        "import ipywidgets as widgets "
      ],
      "metadata": {
        "id": "eDN3SF5bBnxR"
      },
      "execution_count": 13,
      "outputs": []
    },
    {
      "cell_type": "code",
      "source": [
        "# a messy first guess at derivative generation\n",
        "def generate_derivative(source_file, output_folder, file_type=\"csv\", text_filters=0):\n",
        "    # create our WebArchive object from the W/ARC file\n",
        "    archive = WebArchive(sc, sqlContext, source_file)\n",
        "\n",
        "    # almost certainly there is a simpler way of doing this, but I don't know how to modularize out the text filtering options\n",
        "    if text_filters == 0: # all content\n",
        "        archive.webpages() \\\n",
        "            .select(\"crawl_date\", \"domain\", \"url\", remove_html(\"content\")) \\\n",
        "            .write \\\n",
        "            .option(\"timestampFormat\", \"yyyy/MM/dd HH:mm:ss ZZ\") \\\n",
        "            .format(file_type) \\\n",
        "            .option(\"escape\", \"\\\"\") \\\n",
        "            .option(\"encoding\", \"utf-8\") \\\n",
        "            .save(output_folder)\n",
        "    elif text_filters == 1: # remove HTTP headers\n",
        "        archive.webpages() \\\n",
        "            .select(\"crawl_date\", \"domain\", \"url\", remove_html(remove_http_header(\"content\"))) \\\n",
        "            .write \\\n",
        "            .option(\"timestampFormat\", \"yyyy/MM/dd HH:mm:ss ZZ\") \\\n",
        "            .format(file_type) \\\n",
        "            .option(\"escape\", \"\\\"\") \\\n",
        "            .option(\"encoding\", \"utf-8\") \\\n",
        "            .save(output_folder)\n",
        "    else: # remove boilerplate text\n",
        "        archive.webpages() \\\n",
        "            .select(\"crawl_date\", \"domain\", \"url\", extract_boilerplate(remove_http_header(\"content\")).alias(\"content\")) \\\n",
        "            .write \\\n",
        "            .option(\"timestampFormat\", \"yyyy/MM/dd HH:mm:ss ZZ\") \\\n",
        "            .format(file_type) \\\n",
        "            .option(\"escape\", \"\\\"\") \\\n",
        "            .option(\"encoding\", \"utf-8\") \\\n",
        "            .save(output_folder)"
      ],
      "metadata": {
        "id": "2atPnwFl5fal"
      },
      "execution_count": 14,
      "outputs": []
    },
    {
      "cell_type": "code",
      "source": [
        "# text content choices \n",
        "content_options = [\"All text content\", \"Text content without HTTP headers\", \"Text content without boilerplate\"]\n",
        "# *simplest* implementation of input boxes \n",
        "input_text = widgets.Text(description=\"W/ARC file:\")\n",
        "out_text = widgets.Text(description=\"Output folder:\", value=\"output/\")\n",
        "format_choice = widgets.Dropdown(description=\"File type:\",options=[\"csv\", \"parquet\"], value=\"csv\")\n",
        "content_choice = widgets.Dropdown(description=\"Content:\", options=content_options)\n",
        "display(input_text)\n",
        "display(out_text)\n",
        "display(format_choice)\n",
        "display(content_choice)"
      ],
      "metadata": {
        "colab": {
          "base_uri": "https://localhost:8080/",
          "height": 140,
          "referenced_widgets": [
            "07a07a2942264a26afe3371aeb7a7001",
            "ff50489ce89a4e52a7ba80e130df7a90",
            "6d24f95f02424544898a9ac028253e06",
            "95350a4c7174420598b9219f00e75d7c",
            "5e680229568f4b558560e470d248e635",
            "a0c942e37aa242faa7e4367d5768dc37",
            "eac3c31cb87f4040b23783565fd005b9",
            "13956be49f6348749cd28b86ab9c8e34",
            "07005281c579452f9216885c03bef812",
            "81f59e46c634418fafbb6186924e0ba8",
            "bb4e27f494c641168dcc2faee1f1d1c7",
            "13b077eb436845caa4beb60b709b582e"
          ]
        },
        "id": "Zj7WB6RH5ArD",
        "outputId": "b8b6c37a-04c7-48aa-9f16-f1210fed23fa"
      },
      "execution_count": 23,
      "outputs": [
        {
          "output_type": "display_data",
          "data": {
            "text/plain": [
              "Text(value='', description='W/ARC file:')"
            ],
            "application/vnd.jupyter.widget-view+json": {
              "version_major": 2,
              "version_minor": 0,
              "model_id": "07a07a2942264a26afe3371aeb7a7001"
            }
          },
          "metadata": {}
        },
        {
          "output_type": "display_data",
          "data": {
            "text/plain": [
              "Text(value='output/', description='Output folder:')"
            ],
            "application/vnd.jupyter.widget-view+json": {
              "version_major": 2,
              "version_minor": 0,
              "model_id": "95350a4c7174420598b9219f00e75d7c"
            }
          },
          "metadata": {}
        },
        {
          "output_type": "display_data",
          "data": {
            "text/plain": [
              "Dropdown(description='File type:', options=('csv', 'parquet'), value='csv')"
            ],
            "application/vnd.jupyter.widget-view+json": {
              "version_major": 2,
              "version_minor": 0,
              "model_id": "eac3c31cb87f4040b23783565fd005b9"
            }
          },
          "metadata": {}
        },
        {
          "output_type": "display_data",
          "data": {
            "text/plain": [
              "Dropdown(description='Content:', options=('All text content', 'Text content without HTTP headers', 'Text conte…"
            ],
            "application/vnd.jupyter.widget-view+json": {
              "version_major": 2,
              "version_minor": 0,
              "model_id": "81f59e46c634418fafbb6186924e0ba8"
            }
          },
          "metadata": {}
        }
      ]
    },
    {
      "cell_type": "code",
      "source": [
        "# will someday be a button? \n",
        "generate_derivative(input_text.value, out_text.value, format_choice.value, content_options.index(content_choice.value))"
      ],
      "metadata": {
        "id": "p2EouVEA_aUg"
      },
      "execution_count": 26,
      "outputs": []
    }
  ]
}