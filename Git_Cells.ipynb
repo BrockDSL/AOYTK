{
  "nbformat": 4,
  "nbformat_minor": 0,
  "metadata": {
    "colab": {
      "provenance": [],
      "authorship_tag": "ABX9TyOAvpaz0rbdHEZKLfE9S742",
      "include_colab_link": true
    },
    "kernelspec": {
      "name": "python3",
      "display_name": "Python 3"
    },
    "language_info": {
      "name": "python"
    }
  },
  "cells": [
    {
      "cell_type": "markdown",
      "metadata": {
        "id": "view-in-github",
        "colab_type": "text"
      },
      "source": [
        "<a href=\"https://colab.research.google.com/github/BrockDSL/AOYTK/blob/main/Git_Cells.ipynb\" target=\"_parent\"><img src=\"https://colab.research.google.com/assets/colab-badge.svg\" alt=\"Open In Colab\"/></a>"
      ]
    },
    {
      "cell_type": "markdown",
      "source": [
        "\n",
        "# Dev Checkout\n",
        "\n",
        "Add the following cell to the top (somewhere) of your notebook as you develop it and fill in the details you need to have in there. This will clone `aoytk.py` from the repo and switch it to your development branch."
      ],
      "metadata": {
        "id": "K5vi2XNyqibY"
      }
    },
    {
      "cell_type": "code",
      "execution_count": null,
      "metadata": {
        "id": "jG-QqVyXqbuT"
      },
      "outputs": [],
      "source": [
        "gh_url = \"git@github.com:BrockDSL/AOYTK.git\"\n",
        "gh_branch = \"tim_branch\"\n",
        "#gh_branch = \"sam_branch\"\n",
        "#gh_branch = \"fletcher_branch\"\n",
        "\n",
        "\n",
        "#modify so that it only pulls aoytk.py and puts it in present directory.\n",
        "!git clone $gh_url\n",
        "\n",
        "#switch to correct branch\n",
        "!git checkout -b $gh_branch\n",
        "\n"
      ]
    },
    {
      "cell_type": "markdown",
      "source": [
        "# Dev Checkin\n",
        "\n",
        "Add the following cell to your development notebook and run it to check in your changes to `aoytk.py`. This should be the last thing you run. You'll need to give it commit messages etc."
      ],
      "metadata": {
        "id": "ytqzmAEzrB08"
      }
    },
    {
      "cell_type": "code",
      "source": [
        "commit_message = \"\"\"\n",
        "\n",
        "message\n",
        "\n",
        "\"\"\"\n",
        "\n",
        "!git add aoytk.py\n",
        "!git commit -am \"$commit_message\"\n",
        "!git push -u origin $gh_branch"
      ],
      "metadata": {
        "id": "vDJWA9mMsXgc"
      },
      "execution_count": null,
      "outputs": []
    }
  ]
}