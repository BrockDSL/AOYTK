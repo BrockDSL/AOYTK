{
  "nbformat": 4,
  "nbformat_minor": 0,
  "metadata": {
    "colab": {
      "provenance": [],
      "authorship_tag": "ABX9TyMZtdOq+mzBt80ZRCCssf1M",
      "include_colab_link": true
    },
    "kernelspec": {
      "name": "python3",
      "display_name": "Python 3"
    },
    "language_info": {
      "name": "python"
    }
  },
  "cells": [
    {
      "cell_type": "markdown",
      "metadata": {
        "id": "view-in-github",
        "colab_type": "text"
      },
      "source": [
        "<a href=\"https://colab.research.google.com/github/BrockDSL/AOYTK/blob/main/Git_Cells.ipynb\" target=\"_parent\"><img src=\"https://colab.research.google.com/assets/colab-badge.svg\" alt=\"Open In Colab\"/></a>"
      ]
    },
    {
      "cell_type": "markdown",
      "source": [
        "\n",
        "# Dev Checkout\n",
        "\n",
        "Add the following cell to the top (somewhere) of your notebook as you develop it and fill in the details you need to have in there. This will clone `aoytk.py` from the repo and switch it to your development branch.\n",
        "\n",
        "Since we are HTTP based with our git interactions you'll need to make a Git Hub [access token](https://github.com/settings/tokens?type=beta)\n",
        "\n",
        "- Tokens at Organizational level don't seem to work without much fussying...\n"
      ],
      "metadata": {
        "id": "K5vi2XNyqibY"
      }
    },
    {
      "cell_type": "code",
      "execution_count": null,
      "metadata": {
        "id": "jG-QqVyXqbuT"
      },
      "outputs": [],
      "source": [
        "gh_username = \"\"\n",
        "gh_token = \"\"\n",
        "github_url = \"https://github.com/BrockDSL/AOYTK.git\"\n",
        "\n",
        "\n",
        "clone_url = github_url.replace(\"https://\",\"@\")\n",
        "gh_folder = github_url.split(\"/\")[4].split(\".\")[0]\n",
        "\n",
        "gh_branch = \"tim_branch\"\n",
        "#gh_branch = \"sam_branch\"\n",
        "#gh_branch = \"fletcher_branch\"\n",
        "\n",
        "\n",
        "!git clone https://$gh_username:$gh_token$clone_url\n",
        "!git checkout -b $gh_branch\n",
        "!git remote add upstream https://github.com/BrockDSL/AOYTK\n",
        "\n",
        "!mv $gh_folder/aoytk.py .\n"
      ]
    },
    {
      "cell_type": "markdown",
      "source": [
        "# Dev Checkin\n",
        "\n",
        "Add the following cell to your development notebook and run it to check in your changes to `aoytk.py`. This should be the last thing you run. You'll need to give it commit messages etc."
      ],
      "metadata": {
        "id": "ytqzmAEzrB08"
      }
    },
    {
      "cell_type": "code",
      "source": [
        "gh_username = \"\"\n",
        "gh_token = \"\"\n",
        "github_url = \"https://github.com/BrockDSL/AOYTK.git\"\n",
        "\n",
        "\n",
        "clone_url = github_url.replace(\"https://\",\"@\")\n",
        "gh_folder = github_url.split(\"/\")[4].split(\".\")[0]\n",
        "\n",
        "gh_branch = \"tim_branch\"\n",
        "#gh_branch = \"sam_branch\"\n",
        "#gh_branch = \"fletcher_branch\"\n",
        "\n",
        "\n",
        "\n",
        "commit_message = \"\"\"\n",
        "\n",
        "message\n",
        "\n",
        "\"\"\"\n",
        "!mv aoytk.py $gh_folder\n",
        "%cd $gh_folder\n",
        "!git add aoytk.py\n",
        "!git status\n",
        "!git commit -am \"$commit_message\"\n",
        "!git push -u origin $gh_branch #This will create a link to complete pull-request for final merge\n"
      ],
      "metadata": {
        "id": "vDJWA9mMsXgc"
      },
      "execution_count": null,
      "outputs": []
    },
    {
      "cell_type": "markdown",
      "source": [
        "\n",
        "# Down and Dirty\n",
        "\n",
        "The down and dirty way of doing development will be via the following "
      ],
      "metadata": {
        "id": "ys06fB7k4ZN1"
      }
    },
    {
      "cell_type": "markdown",
      "source": [
        "\n",
        "# DD Dev setup"
      ],
      "metadata": {
        "id": "GsBrLcur4m8x"
      }
    },
    {
      "cell_type": "code",
      "source": [
        "!wget \"https://github.com/BrockDSL/AOYTK/blob/main/aoytk.py\""
      ],
      "metadata": {
        "id": "f__muXKZ4pvL"
      },
      "execution_count": null,
      "outputs": []
    },
    {
      "cell_type": "markdown",
      "source": [
        "\n",
        "## Dev Checkin\n",
        "\n",
        "You can now upload via [web interface](https://github.com/BrockDSL/AOYTK/upload/main)\n",
        "\n",
        "Do it against your branch so that a PR will be triggered when writing it back to main and hopefully not lost work.\n",
        "\n",
        "eg. for Tim\n",
        "\n",
        "[https://github.com/BrockDSL/AOYTK/upload/tim_branch](https://github.com/BrockDSL/AOYTK/upload/tim_branch)"
      ],
      "metadata": {
        "id": "T2YxEKrn45aG"
      }
    },
    {
      "cell_type": "code",
      "source": [
        "from google.colab import files\n",
        "files.download('aoytk.py')"
      ],
      "metadata": {
        "id": "8MJRhf0X48W0"
      },
      "execution_count": null,
      "outputs": []
    }
  ]
}