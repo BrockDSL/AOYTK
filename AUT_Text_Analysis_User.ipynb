{
 "cells": [
  {
   "cell_type": "markdown",
   "id": "1b37d0db-647a-40d1-84d6-d447e181b7ec",
   "metadata": {},
   "source": [
    "# AOY-TK User Notebook\n"
   ]
  },
  {
   "cell_type": "code",
   "execution_count": 1,
   "id": "bbb05618-3dc2-4878-9dc6-5f810132accd",
   "metadata": {},
   "outputs": [
    {
     "ename": "NameError",
     "evalue": "name 'widgets' is not defined",
     "output_type": "error",
     "traceback": [
      "\u001b[0;31m---------------------------------------------------------------------------\u001b[0m",
      "\u001b[0;31mNameError\u001b[0m                                 Traceback (most recent call last)",
      "Cell \u001b[0;32mIn [1], line 5\u001b[0m\n\u001b[1;32m      2\u001b[0m \u001b[38;5;28;01mimport\u001b[39;00m \u001b[38;5;21;01maoytk\u001b[39;00m\n\u001b[1;32m      4\u001b[0m \u001b[38;5;66;03m# set the default path for reading/writing files\u001b[39;00m\n\u001b[0;32m----> 5\u001b[0m \u001b[43maoytk\u001b[49m\u001b[38;5;241;43m.\u001b[39;49m\u001b[43mdisplay_path_select\u001b[49m\u001b[43m(\u001b[49m\u001b[43m)\u001b[49m\n",
      "File \u001b[0;32m~/data/data/aoytk.py:6\u001b[0m, in \u001b[0;36mdisplay_path_select\u001b[0;34m()\u001b[0m\n\u001b[1;32m      3\u001b[0m \u001b[38;5;28;01mdef\u001b[39;00m \u001b[38;5;21mdisplay_path_select\u001b[39m(): \n\u001b[1;32m      4\u001b[0m     \u001b[38;5;124;03m\"\"\"Displays a text box to set the default path for reading / writing data\u001b[39;00m\n\u001b[1;32m      5\u001b[0m \u001b[38;5;124;03m    \"\"\"\u001b[39;00m\n\u001b[0;32m----> 6\u001b[0m     txt_path \u001b[38;5;241m=\u001b[39m \u001b[43mwidgets\u001b[49m\u001b[38;5;241m.\u001b[39mText(description\u001b[38;5;241m=\u001b[39m\u001b[38;5;124m\"\u001b[39m\u001b[38;5;124mFolder path:\u001b[39m\u001b[38;5;124m\"\u001b[39m)\n\u001b[1;32m      7\u001b[0m     \u001b[38;5;28;01mdef\u001b[39;00m \u001b[38;5;21mbtn_set_path\u001b[39m(btn): \n\u001b[1;32m      8\u001b[0m         \u001b[38;5;28;01mglobal\u001b[39;00m path\n",
      "\u001b[0;31mNameError\u001b[0m: name 'widgets' is not defined"
     ]
    }
   ],
   "source": [
    "# import the toolkit\n",
    "import aoytk\n",
    "\n",
    "# set the default path for reading/writing files\n",
    "aoytk.display_path_select()"
   ]
  },
  {
   "cell_type": "code",
   "execution_count": null,
   "id": "2b0b2603-67b4-4121-a968-06494b67ccdc",
   "metadata": {},
   "outputs": [],
   "source": [
    "# give the option to download file from a specified URL\n",
    "aoytk.download_file()"
   ]
  }
 ],
 "metadata": {
  "kernelspec": {
   "display_name": "Python 3 (ipykernel)",
   "language": "python",
   "name": "python3"
  },
  "language_info": {
   "codemirror_mode": {
    "name": "ipython",
    "version": 3
   },
   "file_extension": ".py",
   "mimetype": "text/x-python",
   "name": "python",
   "nbconvert_exporter": "python",
   "pygments_lexer": "ipython3",
   "version": "3.10.6"
  }
 },
 "nbformat": 4,
 "nbformat_minor": 5
}
