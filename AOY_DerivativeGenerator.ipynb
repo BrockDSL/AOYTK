{
  "cells": [
    {
      "cell_type": "markdown",
      "id": "Zvgax_yFk9yp",
      "metadata": {
        "id": "Zvgax_yFk9yp"
      },
      "source": [
        "![AOY Logo](https://raw.githubusercontent.com/BrockDSL/AOYTK/main/AOY_Logo.png)\n",
        "\n",
        "All Our Yesterdays - A toolkit to explore web archives\n",
        "\n",
        "[Homepage](https://brockdsl.github.io/AOTYK)"
      ]
    },
    {
      "cell_type": "markdown",
      "id": "1b37d0db-647a-40d1-84d6-d447e181b7ec",
      "metadata": {
        "id": "1b37d0db-647a-40d1-84d6-d447e181b7ec"
      },
      "source": [
        "# Derivative Generation\n",
        "\n",
        "This notebook provides a simplified user interface for producing some basic text derivatives using the Archives Unleashed Toolkit (AUT).\n"
      ]
    },
    {
      "cell_type": "markdown",
      "id": "a2WI_TYuJ3q0",
      "metadata": {
        "id": "a2WI_TYuJ3q0"
      },
      "source": [
        "### Load Libraries and Configure Google Drive\n",
        "\n",
        "The next cell will create the workspace and authorize the connection to Google Drive to save your output.\n",
        "\n",
        "**Please be patient!** This cell can take up to 2 minutes to run."
      ]
    },
    {
      "cell_type": "code",
      "execution_count": null,
      "id": "13Tgg2HismiX",
      "metadata": {
        "colab": {
          "base_uri": "https://localhost:8080/"
        },
        "id": "13Tgg2HismiX",
        "outputId": "c02237f2-d103-41d2-ae81-a5ebad6134ec"
      },
      "outputs": [],
      "source": [
        "print(\"Loading Libraries\")\n",
        "# this cell downloads and installs the required dependencies for running the AUT\n",
        "# and creates the environment variables required to use Java, Spark and PySpark\n",
        "# this cell only needs to be run in Colab, when running this script from the Docker image\n",
        "# these variables will already have been set appropriately\n",
        "# create the appropriate environment variables to be able to use Java, Spark and PySpark\n",
        "!apt-get -qq update\n",
        "!apt-get -qq install -y openjdk-11-jdk-headless \n",
        "!apt-get -qq install maven \n",
        "\n",
        "# download the AUT\n",
        "!wget \"https://github.com/archivesunleashed/aut/releases/download/aut-1.1.0/aut-1.1.0.zip\"\n",
        "!wget \"https://github.com/archivesunleashed/aut/releases/download/aut-1.1.0/aut-1.1.0-fatjar.jar\"\n",
        "\n",
        "!curl -L \"https://archive.apache.org/dist/spark/spark-3.1.1/spark-3.1.1-bin-hadoop2.7.tgz\" > spark-3.1.1-bin-hadoop2.7.tgz\n",
        "!tar -xf spark-3.1.1-bin-hadoop2.7.tgz\n",
        "!pip install -q findspark\n",
        "\n",
        "# set environment variables\n",
        "import os\n",
        "os.environ[\"JAVA_HOME\"] = \"/usr/lib/jvm/java-1.11.0-openjdk-amd64\"\n",
        "os.environ[\"SPARK_HOME\"] = \"spark-3.1.1-bin-hadoop2.7\"\n",
        "os.environ['PYSPARK_SUBMIT_ARGS'] = '--jars aut-1.1.0-fatjar.jar --py-files aut-1.1.0.zip pyspark-shell'\n",
        "\n",
        "# allow access to Google Drive for reading and writing files\n",
        "from google.colab import drive \n",
        "drive.mount(\"/content/drive/\")\n",
        "\n",
        "#grab copy of aoytk helper library and import\n",
        "!wget \"https://raw.githubusercontent.com/BrockDSL/AOYTK/SL/aoytk.py\"\n",
        "import aoytk\n",
        "\n",
        "from IPython.display import clear_output\n",
        "clear_output()\n",
        "print(\"Setup Complete.\")"
      ]
    },
    {
      "attachments": {},
      "cell_type": "markdown",
      "id": "f50R7Mw_tafk",
      "metadata": {
        "id": "f50R7Mw_tafk"
      },
      "source": [
        "\n",
        "### Set your folder\n",
        "\n",
        "Run the next cell to begin AOY and to set your Google Drive location."
      ]
    },
    {
      "cell_type": "code",
      "execution_count": null,
      "id": "vxoAuDwJ9fkJ",
      "metadata": {
        "id": "vxoAuDwJ9fkJ"
      },
      "outputs": [],
      "source": [
        "# create a DerivativeGenerator object \n",
        "dg = aoytk.DerivativeGenerator()\n",
        "# set the default path for reading/writing files (working directory)\n",
        "aoytk.display_path_select()"
      ]
    },
    {
      "attachments": {},
      "cell_type": "markdown",
      "id": "wEI6NOLckIU2",
      "metadata": {
        "id": "wEI6NOLckIU2"
      },
      "source": [
        "The following cell can be used to download W/ARC files from the given URL. Files will be saved in the working folder set in the previous cell. \n",
        "\n",
        "A sample W/ARC file can be found at the following URL: https://github.com/archivesunleashed/aut-resources/raw/master/Sample-Data/ARCHIVEIT-227-UOFTORONTO-CANPOLPINT-20060622205612-00009-crawling025.archive.org.arc.gz\n",
        "\n",
        "This sample file is part of the [Canadian Political Parties and Interest Groups Archive-It Collection](https://archive-it.org/collections/227) collected by the University of Toronto Libraries. "
      ]
    },
    {
      "cell_type": "code",
      "execution_count": null,
      "id": "2b0b2603-67b4-4121-a968-06494b67ccdc",
      "metadata": {
        "colab": {
          "base_uri": "https://localhost:8080/",
          "height": 81,
          "referenced_widgets": [
            "694de876419a46ff9006b533765468fd",
            "f3d2ab74651047bd8ec1be056c279ccc",
            "bd423484514e42cdac7bf3f1c21f33d2",
            "4c3ad42f8cae4055b3150579858b2f80",
            "60bf43941fda41ea8d4da34d609cbc1e",
            "b0b3714cddfc4878b5c9da61a68d2e71"
          ]
        },
        "id": "2b0b2603-67b4-4121-a968-06494b67ccdc",
        "outputId": "1e11b459-bea4-4fa3-a8ce-b371301a4008"
      },
      "outputs": [],
      "source": [
        "# give the option to download file from a specified URL\n",
        "aoytk.display_download_file()"
      ]
    },
    {
      "cell_type": "markdown",
      "id": "FsgznAAgkREQ",
      "metadata": {
        "id": "FsgznAAgkREQ"
      },
      "source": [
        "The following cell can be used to create text derivatives from the chosen W/ARC file. The derivative will be saved in the specified output folder. Note that the output folder name needs to be unique (Spark will not output a file to a folder that already exists / has content in it). The output folder path is relative to the working folder set earlier in the notebook, so the output folder will be a sub-directory inside the working folder. "
      ]
    },
    {
      "cell_type": "code",
      "execution_count": null,
      "id": "C3pFTN-ifLOR",
      "metadata": {
        "colab": {
          "base_uri": "https://localhost:8080/",
          "height": 276,
          "referenced_widgets": [
            "59a0275052d647fb961bc6047db5d7fe",
            "7c2f5dfc0c86446db9ad5f90a150a55a",
            "0407bedd1f46450091633cb82744b58a",
            "b955eb612fbd4ab0a9d2e51f53e0bbdc",
            "de71693c625f4a4a83df3f69c3ad6935",
            "4b9b4f8f44b74fbe88ec2d739c740bcf",
            "6006c8e580404906ad5021ae7b90b3d8",
            "47d17ecd9c684bedb031b17ce982172a",
            "470be8906e054b9282c3026947250941",
            "8c8f2380570a4b1187a63d140152c3ed",
            "dacea094df0444ad873d37cfb2dbf8a9",
            "026a0b5794d643048d514085397983d7",
            "f896b528c63c45beaee650b3fbb069b7",
            "8869a04880c941d6a8217418365bafcd",
            "826b4600911946aa9e922012588cd6bb"
          ]
        },
        "id": "C3pFTN-ifLOR",
        "outputId": "e368d770-f625-49b9-de91-3f3bc7b534a4"
      },
      "outputs": [],
      "source": [
        "dg.display_derivative_creation_options()"
      ]
    }
  ],
  "metadata": {
    "colab": {
      "provenance": []
    },
    "kernelspec": {
      "display_name": "Python 3 (ipykernel)",
      "language": "python",
      "name": "python3"
    },
    "language_info": {
      "codemirror_mode": {
        "name": "ipython",
        "version": 3
      },
      "file_extension": ".py",
      "mimetype": "text/x-python",
      "name": "python",
      "nbconvert_exporter": "python",
      "pygments_lexer": "ipython3",
      "version": "3.10.9"
    },
    "widgets": {
      "application/vnd.jupyter.widget-state+json": {
        "026a0b5794d643048d514085397983d7": {
          "model_module": "@jupyter-widgets/controls",
          "model_module_version": "1.5.0",
          "model_name": "DescriptionStyleModel",
          "state": {
            "_model_module": "@jupyter-widgets/controls",
            "_model_module_version": "1.5.0",
            "_model_name": "DescriptionStyleModel",
            "_view_count": null,
            "_view_module": "@jupyter-widgets/base",
            "_view_module_version": "1.2.0",
            "_view_name": "StyleView",
            "description_width": ""
          }
        },
        "0407bedd1f46450091633cb82744b58a": {
          "model_module": "@jupyter-widgets/controls",
          "model_module_version": "1.5.0",
          "model_name": "DescriptionStyleModel",
          "state": {
            "_model_module": "@jupyter-widgets/controls",
            "_model_module_version": "1.5.0",
            "_model_name": "DescriptionStyleModel",
            "_view_count": null,
            "_view_module": "@jupyter-widgets/base",
            "_view_module_version": "1.2.0",
            "_view_name": "StyleView",
            "description_width": ""
          }
        },
        "470be8906e054b9282c3026947250941": {
          "model_module": "@jupyter-widgets/controls",
          "model_module_version": "1.5.0",
          "model_name": "DescriptionStyleModel",
          "state": {
            "_model_module": "@jupyter-widgets/controls",
            "_model_module_version": "1.5.0",
            "_model_name": "DescriptionStyleModel",
            "_view_count": null,
            "_view_module": "@jupyter-widgets/base",
            "_view_module_version": "1.2.0",
            "_view_name": "StyleView",
            "description_width": ""
          }
        },
        "47d17ecd9c684bedb031b17ce982172a": {
          "model_module": "@jupyter-widgets/base",
          "model_module_version": "1.2.0",
          "model_name": "LayoutModel",
          "state": {
            "_model_module": "@jupyter-widgets/base",
            "_model_module_version": "1.2.0",
            "_model_name": "LayoutModel",
            "_view_count": null,
            "_view_module": "@jupyter-widgets/base",
            "_view_module_version": "1.2.0",
            "_view_name": "LayoutView",
            "align_content": null,
            "align_items": null,
            "align_self": null,
            "border": null,
            "bottom": null,
            "display": null,
            "flex": null,
            "flex_flow": null,
            "grid_area": null,
            "grid_auto_columns": null,
            "grid_auto_flow": null,
            "grid_auto_rows": null,
            "grid_column": null,
            "grid_gap": null,
            "grid_row": null,
            "grid_template_areas": null,
            "grid_template_columns": null,
            "grid_template_rows": null,
            "height": null,
            "justify_content": null,
            "justify_items": null,
            "left": null,
            "margin": null,
            "max_height": null,
            "max_width": null,
            "min_height": null,
            "min_width": null,
            "object_fit": null,
            "object_position": null,
            "order": null,
            "overflow": null,
            "overflow_x": null,
            "overflow_y": null,
            "padding": null,
            "right": null,
            "top": null,
            "visibility": null,
            "width": null
          }
        },
        "4b9b4f8f44b74fbe88ec2d739c740bcf": {
          "model_module": "@jupyter-widgets/controls",
          "model_module_version": "1.5.0",
          "model_name": "DescriptionStyleModel",
          "state": {
            "_model_module": "@jupyter-widgets/controls",
            "_model_module_version": "1.5.0",
            "_model_name": "DescriptionStyleModel",
            "_view_count": null,
            "_view_module": "@jupyter-widgets/base",
            "_view_module_version": "1.2.0",
            "_view_name": "StyleView",
            "description_width": ""
          }
        },
        "4c3ad42f8cae4055b3150579858b2f80": {
          "model_module": "@jupyter-widgets/controls",
          "model_module_version": "1.5.0",
          "model_name": "ButtonModel",
          "state": {
            "_dom_classes": [],
            "_model_module": "@jupyter-widgets/controls",
            "_model_module_version": "1.5.0",
            "_model_name": "ButtonModel",
            "_view_count": null,
            "_view_module": "@jupyter-widgets/controls",
            "_view_module_version": "1.5.0",
            "_view_name": "ButtonView",
            "button_style": "",
            "description": "Download W/ARC",
            "disabled": false,
            "icon": "",
            "layout": "IPY_MODEL_60bf43941fda41ea8d4da34d609cbc1e",
            "style": "IPY_MODEL_b0b3714cddfc4878b5c9da61a68d2e71",
            "tooltip": ""
          }
        },
        "59a0275052d647fb961bc6047db5d7fe": {
          "model_module": "@jupyter-widgets/controls",
          "model_module_version": "1.5.0",
          "model_name": "DropdownModel",
          "state": {
            "_dom_classes": [],
            "_model_module": "@jupyter-widgets/controls",
            "_model_module_version": "1.5.0",
            "_model_name": "DropdownModel",
            "_options_labels": [
              "ARCHIVEIT-227-UOFTORONTO-CANPOLPINT-20060622205612-00009-crawling025.archive.org.arc.gz",
              "ARCHIVEIT-227-QUARTERLY-XUGECV-20091218231727-00039-crawling06.us.archive.org-8091.warc.gz"
            ],
            "_view_count": null,
            "_view_module": "@jupyter-widgets/controls",
            "_view_module_version": "1.5.0",
            "_view_name": "DropdownView",
            "description": "W/ARC file:",
            "description_tooltip": null,
            "disabled": false,
            "index": 1,
            "layout": "IPY_MODEL_7c2f5dfc0c86446db9ad5f90a150a55a",
            "style": "IPY_MODEL_0407bedd1f46450091633cb82744b58a"
          }
        },
        "6006c8e580404906ad5021ae7b90b3d8": {
          "model_module": "@jupyter-widgets/controls",
          "model_module_version": "1.5.0",
          "model_name": "DropdownModel",
          "state": {
            "_dom_classes": [],
            "_model_module": "@jupyter-widgets/controls",
            "_model_module_version": "1.5.0",
            "_model_name": "DropdownModel",
            "_options_labels": [
              "csv",
              "parquet"
            ],
            "_view_count": null,
            "_view_module": "@jupyter-widgets/controls",
            "_view_module_version": "1.5.0",
            "_view_name": "DropdownView",
            "description": "File type:",
            "description_tooltip": null,
            "disabled": false,
            "index": 0,
            "layout": "IPY_MODEL_47d17ecd9c684bedb031b17ce982172a",
            "style": "IPY_MODEL_470be8906e054b9282c3026947250941"
          }
        },
        "60bf43941fda41ea8d4da34d609cbc1e": {
          "model_module": "@jupyter-widgets/base",
          "model_module_version": "1.2.0",
          "model_name": "LayoutModel",
          "state": {
            "_model_module": "@jupyter-widgets/base",
            "_model_module_version": "1.2.0",
            "_model_name": "LayoutModel",
            "_view_count": null,
            "_view_module": "@jupyter-widgets/base",
            "_view_module_version": "1.2.0",
            "_view_name": "LayoutView",
            "align_content": null,
            "align_items": null,
            "align_self": null,
            "border": null,
            "bottom": null,
            "display": null,
            "flex": null,
            "flex_flow": null,
            "grid_area": null,
            "grid_auto_columns": null,
            "grid_auto_flow": null,
            "grid_auto_rows": null,
            "grid_column": null,
            "grid_gap": null,
            "grid_row": null,
            "grid_template_areas": null,
            "grid_template_columns": null,
            "grid_template_rows": null,
            "height": null,
            "justify_content": null,
            "justify_items": null,
            "left": null,
            "margin": null,
            "max_height": null,
            "max_width": null,
            "min_height": null,
            "min_width": null,
            "object_fit": null,
            "object_position": null,
            "order": null,
            "overflow": null,
            "overflow_x": null,
            "overflow_y": null,
            "padding": null,
            "right": null,
            "top": null,
            "visibility": null,
            "width": null
          }
        },
        "694de876419a46ff9006b533765468fd": {
          "model_module": "@jupyter-widgets/controls",
          "model_module_version": "1.5.0",
          "model_name": "TextModel",
          "state": {
            "_dom_classes": [],
            "_model_module": "@jupyter-widgets/controls",
            "_model_module_version": "1.5.0",
            "_model_name": "TextModel",
            "_view_count": null,
            "_view_module": "@jupyter-widgets/controls",
            "_view_module_version": "1.5.0",
            "_view_name": "TextView",
            "continuous_update": true,
            "description": "W/ARC URL: ",
            "description_tooltip": null,
            "disabled": false,
            "layout": "IPY_MODEL_f3d2ab74651047bd8ec1be056c279ccc",
            "placeholder": "​",
            "style": "IPY_MODEL_bd423484514e42cdac7bf3f1c21f33d2",
            "value": ""
          }
        },
        "7c2f5dfc0c86446db9ad5f90a150a55a": {
          "model_module": "@jupyter-widgets/base",
          "model_module_version": "1.2.0",
          "model_name": "LayoutModel",
          "state": {
            "_model_module": "@jupyter-widgets/base",
            "_model_module_version": "1.2.0",
            "_model_name": "LayoutModel",
            "_view_count": null,
            "_view_module": "@jupyter-widgets/base",
            "_view_module_version": "1.2.0",
            "_view_name": "LayoutView",
            "align_content": null,
            "align_items": null,
            "align_self": null,
            "border": null,
            "bottom": null,
            "display": null,
            "flex": null,
            "flex_flow": null,
            "grid_area": null,
            "grid_auto_columns": null,
            "grid_auto_flow": null,
            "grid_auto_rows": null,
            "grid_column": null,
            "grid_gap": null,
            "grid_row": null,
            "grid_template_areas": null,
            "grid_template_columns": null,
            "grid_template_rows": null,
            "height": null,
            "justify_content": null,
            "justify_items": null,
            "left": null,
            "margin": null,
            "max_height": null,
            "max_width": null,
            "min_height": null,
            "min_width": null,
            "object_fit": null,
            "object_position": null,
            "order": null,
            "overflow": null,
            "overflow_x": null,
            "overflow_y": null,
            "padding": null,
            "right": null,
            "top": null,
            "visibility": null,
            "width": null
          }
        },
        "826b4600911946aa9e922012588cd6bb": {
          "model_module": "@jupyter-widgets/controls",
          "model_module_version": "1.5.0",
          "model_name": "ButtonStyleModel",
          "state": {
            "_model_module": "@jupyter-widgets/controls",
            "_model_module_version": "1.5.0",
            "_model_name": "ButtonStyleModel",
            "_view_count": null,
            "_view_module": "@jupyter-widgets/base",
            "_view_module_version": "1.2.0",
            "_view_name": "StyleView",
            "button_color": null,
            "font_weight": ""
          }
        },
        "8869a04880c941d6a8217418365bafcd": {
          "model_module": "@jupyter-widgets/base",
          "model_module_version": "1.2.0",
          "model_name": "LayoutModel",
          "state": {
            "_model_module": "@jupyter-widgets/base",
            "_model_module_version": "1.2.0",
            "_model_name": "LayoutModel",
            "_view_count": null,
            "_view_module": "@jupyter-widgets/base",
            "_view_module_version": "1.2.0",
            "_view_name": "LayoutView",
            "align_content": null,
            "align_items": null,
            "align_self": null,
            "border": null,
            "bottom": null,
            "display": null,
            "flex": null,
            "flex_flow": null,
            "grid_area": null,
            "grid_auto_columns": null,
            "grid_auto_flow": null,
            "grid_auto_rows": null,
            "grid_column": null,
            "grid_gap": null,
            "grid_row": null,
            "grid_template_areas": null,
            "grid_template_columns": null,
            "grid_template_rows": null,
            "height": null,
            "justify_content": null,
            "justify_items": null,
            "left": null,
            "margin": null,
            "max_height": null,
            "max_width": null,
            "min_height": null,
            "min_width": null,
            "object_fit": null,
            "object_position": null,
            "order": null,
            "overflow": null,
            "overflow_x": null,
            "overflow_y": null,
            "padding": null,
            "right": null,
            "top": null,
            "visibility": null,
            "width": null
          }
        },
        "8c8f2380570a4b1187a63d140152c3ed": {
          "model_module": "@jupyter-widgets/controls",
          "model_module_version": "1.5.0",
          "model_name": "DropdownModel",
          "state": {
            "_dom_classes": [],
            "_model_module": "@jupyter-widgets/controls",
            "_model_module_version": "1.5.0",
            "_model_name": "DropdownModel",
            "_options_labels": [
              "All text content",
              "Text content without HTTP headers",
              "Text content without boilerplate"
            ],
            "_view_count": null,
            "_view_module": "@jupyter-widgets/controls",
            "_view_module_version": "1.5.0",
            "_view_name": "DropdownView",
            "description": "Content:",
            "description_tooltip": null,
            "disabled": false,
            "index": 2,
            "layout": "IPY_MODEL_dacea094df0444ad873d37cfb2dbf8a9",
            "style": "IPY_MODEL_026a0b5794d643048d514085397983d7"
          }
        },
        "b0b3714cddfc4878b5c9da61a68d2e71": {
          "model_module": "@jupyter-widgets/controls",
          "model_module_version": "1.5.0",
          "model_name": "ButtonStyleModel",
          "state": {
            "_model_module": "@jupyter-widgets/controls",
            "_model_module_version": "1.5.0",
            "_model_name": "ButtonStyleModel",
            "_view_count": null,
            "_view_module": "@jupyter-widgets/base",
            "_view_module_version": "1.2.0",
            "_view_name": "StyleView",
            "button_color": null,
            "font_weight": ""
          }
        },
        "b955eb612fbd4ab0a9d2e51f53e0bbdc": {
          "model_module": "@jupyter-widgets/controls",
          "model_module_version": "1.5.0",
          "model_name": "TextModel",
          "state": {
            "_dom_classes": [],
            "_model_module": "@jupyter-widgets/controls",
            "_model_module_version": "1.5.0",
            "_model_name": "TextModel",
            "_view_count": null,
            "_view_module": "@jupyter-widgets/controls",
            "_view_module_version": "1.5.0",
            "_view_name": "TextView",
            "continuous_update": true,
            "description": "Output folder:",
            "description_tooltip": null,
            "disabled": false,
            "layout": "IPY_MODEL_de71693c625f4a4a83df3f69c3ad6935",
            "placeholder": "​",
            "style": "IPY_MODEL_4b9b4f8f44b74fbe88ec2d739c740bcf",
            "value": "no-boiler-quarter/"
          }
        },
        "bd423484514e42cdac7bf3f1c21f33d2": {
          "model_module": "@jupyter-widgets/controls",
          "model_module_version": "1.5.0",
          "model_name": "DescriptionStyleModel",
          "state": {
            "_model_module": "@jupyter-widgets/controls",
            "_model_module_version": "1.5.0",
            "_model_name": "DescriptionStyleModel",
            "_view_count": null,
            "_view_module": "@jupyter-widgets/base",
            "_view_module_version": "1.2.0",
            "_view_name": "StyleView",
            "description_width": ""
          }
        },
        "dacea094df0444ad873d37cfb2dbf8a9": {
          "model_module": "@jupyter-widgets/base",
          "model_module_version": "1.2.0",
          "model_name": "LayoutModel",
          "state": {
            "_model_module": "@jupyter-widgets/base",
            "_model_module_version": "1.2.0",
            "_model_name": "LayoutModel",
            "_view_count": null,
            "_view_module": "@jupyter-widgets/base",
            "_view_module_version": "1.2.0",
            "_view_name": "LayoutView",
            "align_content": null,
            "align_items": null,
            "align_self": null,
            "border": null,
            "bottom": null,
            "display": null,
            "flex": null,
            "flex_flow": null,
            "grid_area": null,
            "grid_auto_columns": null,
            "grid_auto_flow": null,
            "grid_auto_rows": null,
            "grid_column": null,
            "grid_gap": null,
            "grid_row": null,
            "grid_template_areas": null,
            "grid_template_columns": null,
            "grid_template_rows": null,
            "height": null,
            "justify_content": null,
            "justify_items": null,
            "left": null,
            "margin": null,
            "max_height": null,
            "max_width": null,
            "min_height": null,
            "min_width": null,
            "object_fit": null,
            "object_position": null,
            "order": null,
            "overflow": null,
            "overflow_x": null,
            "overflow_y": null,
            "padding": null,
            "right": null,
            "top": null,
            "visibility": null,
            "width": null
          }
        },
        "de71693c625f4a4a83df3f69c3ad6935": {
          "model_module": "@jupyter-widgets/base",
          "model_module_version": "1.2.0",
          "model_name": "LayoutModel",
          "state": {
            "_model_module": "@jupyter-widgets/base",
            "_model_module_version": "1.2.0",
            "_model_name": "LayoutModel",
            "_view_count": null,
            "_view_module": "@jupyter-widgets/base",
            "_view_module_version": "1.2.0",
            "_view_name": "LayoutView",
            "align_content": null,
            "align_items": null,
            "align_self": null,
            "border": null,
            "bottom": null,
            "display": null,
            "flex": null,
            "flex_flow": null,
            "grid_area": null,
            "grid_auto_columns": null,
            "grid_auto_flow": null,
            "grid_auto_rows": null,
            "grid_column": null,
            "grid_gap": null,
            "grid_row": null,
            "grid_template_areas": null,
            "grid_template_columns": null,
            "grid_template_rows": null,
            "height": null,
            "justify_content": null,
            "justify_items": null,
            "left": null,
            "margin": null,
            "max_height": null,
            "max_width": null,
            "min_height": null,
            "min_width": null,
            "object_fit": null,
            "object_position": null,
            "order": null,
            "overflow": null,
            "overflow_x": null,
            "overflow_y": null,
            "padding": null,
            "right": null,
            "top": null,
            "visibility": null,
            "width": null
          }
        },
        "f3d2ab74651047bd8ec1be056c279ccc": {
          "model_module": "@jupyter-widgets/base",
          "model_module_version": "1.2.0",
          "model_name": "LayoutModel",
          "state": {
            "_model_module": "@jupyter-widgets/base",
            "_model_module_version": "1.2.0",
            "_model_name": "LayoutModel",
            "_view_count": null,
            "_view_module": "@jupyter-widgets/base",
            "_view_module_version": "1.2.0",
            "_view_name": "LayoutView",
            "align_content": null,
            "align_items": null,
            "align_self": null,
            "border": null,
            "bottom": null,
            "display": null,
            "flex": null,
            "flex_flow": null,
            "grid_area": null,
            "grid_auto_columns": null,
            "grid_auto_flow": null,
            "grid_auto_rows": null,
            "grid_column": null,
            "grid_gap": null,
            "grid_row": null,
            "grid_template_areas": null,
            "grid_template_columns": null,
            "grid_template_rows": null,
            "height": null,
            "justify_content": null,
            "justify_items": null,
            "left": null,
            "margin": null,
            "max_height": null,
            "max_width": null,
            "min_height": null,
            "min_width": null,
            "object_fit": null,
            "object_position": null,
            "order": null,
            "overflow": null,
            "overflow_x": null,
            "overflow_y": null,
            "padding": null,
            "right": null,
            "top": null,
            "visibility": null,
            "width": null
          }
        },
        "f896b528c63c45beaee650b3fbb069b7": {
          "model_module": "@jupyter-widgets/controls",
          "model_module_version": "1.5.0",
          "model_name": "ButtonModel",
          "state": {
            "_dom_classes": [],
            "_model_module": "@jupyter-widgets/controls",
            "_model_module_version": "1.5.0",
            "_model_name": "ButtonModel",
            "_view_count": null,
            "_view_module": "@jupyter-widgets/controls",
            "_view_module_version": "1.5.0",
            "_view_name": "ButtonView",
            "button_style": "",
            "description": "Create derivative",
            "disabled": false,
            "icon": "",
            "layout": "IPY_MODEL_8869a04880c941d6a8217418365bafcd",
            "style": "IPY_MODEL_826b4600911946aa9e922012588cd6bb",
            "tooltip": ""
          }
        }
      }
    }
  },
  "nbformat": 4,
  "nbformat_minor": 5
}
