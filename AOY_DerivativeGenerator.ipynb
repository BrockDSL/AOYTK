{
  "cells": [
    {
      "cell_type": "markdown",
      "id": "Zvgax_yFk9yp",
      "metadata": {
        "id": "Zvgax_yFk9yp"
      },
      "source": [
        "![AOY Logo](https://raw.githubusercontent.com/BrockDSL/AOYTK/main/AOY_Logo.png)\n",
        "\n",
        "All Our Yesterdays - A toolkit to explore web archives\n",
        "\n",
        "[Homepage](https://brockdsl.github.io/AOTYK)"
      ]
    },
    {
      "cell_type": "markdown",
      "id": "1b37d0db-647a-40d1-84d6-d447e181b7ec",
      "metadata": {
        "id": "1b37d0db-647a-40d1-84d6-d447e181b7ec"
      },
      "source": [
        "# Derivative Generation\n",
        "\n",
        "This notebook provides a simplified user interface for producing some basic text derivatives using the Archives Unleashed Toolkit (AUT). Derivatives containing the information about files present in the W/ARC (audio files, images etc) can also be created.\n"
      ]
    },
    {
      "cell_type": "markdown",
      "id": "a2WI_TYuJ3q0",
      "metadata": {
        "id": "a2WI_TYuJ3q0"
      },
      "source": [
        "### Load Libraries and Configure Google Drive\n",
        "\n",
        "The next cell will create the workspace and authorize the connection to Google Drive to save your output.\n",
        "\n",
        "**Please be patient!** This cell can take up to 2 minutes to run."
      ]
    },
    {
      "cell_type": "code",
      "execution_count": null,
      "id": "13Tgg2HismiX",
      "metadata": {
        "id": "13Tgg2HismiX"
      },
      "outputs": [],
      "source": [
        "print(\"Loading Libraries\")\n",
        "# this cell downloads and installs the required dependencies for running the AUT\n",
        "# and creates the environment variables required to use Java, Spark and PySpark\n",
        "# this cell only needs to be run in Colab, when running this script from the Docker image\n",
        "# these variables will already have been set appropriately\n",
        "# create the appropriate environment variables to be able to use Java, Spark and PySpark\n",
        "!apt-get -qq update\n",
        "!apt-get -qq install -y openjdk-11-jdk-headless\n",
        "!apt-get -qq install maven\n",
        "\n",
        "# download the AUT\n",
        "!wget \"https://github.com/archivesunleashed/aut/releases/download/aut-1.1.0/aut-1.1.0.zip\"\n",
        "!wget \"https://github.com/archivesunleashed/aut/releases/download/aut-1.1.0/aut-1.1.0-fatjar.jar\"\n",
        "\n",
        "!curl -L \"https://archive.apache.org/dist/spark/spark-3.1.1/spark-3.1.1-bin-hadoop2.7.tgz\" > spark-3.1.1-bin-hadoop2.7.tgz\n",
        "!tar -xf spark-3.1.1-bin-hadoop2.7.tgz\n",
        "!pip install -q findspark\n",
        "\n",
        "# set environment variables\n",
        "import os\n",
        "os.environ[\"JAVA_HOME\"] = \"/usr/lib/jvm/java-1.11.0-openjdk-amd64\"\n",
        "os.environ[\"SPARK_HOME\"] = \"spark-3.1.1-bin-hadoop2.7\"\n",
        "os.environ['PYSPARK_SUBMIT_ARGS'] = '--jars aut-1.1.0-fatjar.jar --py-files aut-1.1.0.zip pyspark-shell'\n",
        "\n",
        "# allow access to Google Drive for reading and writing files\n",
        "from google.colab import drive\n",
        "drive.mount(\"/content/drive/\")\n",
        "\n",
        "#grab copy of aoytk helper library and import\n",
        "!wget \"https://raw.githubusercontent.com/BrockDSL/AOYTK/SL/aoytk.py\"\n",
        "import aoytk\n",
        "\n",
        "from IPython.display import clear_output\n",
        "clear_output()\n",
        "print(\"Setup Complete.\")"
      ]
    },
    {
      "cell_type": "markdown",
      "id": "f50R7Mw_tafk",
      "metadata": {
        "id": "f50R7Mw_tafk"
      },
      "source": [
        "\n",
        "### Set your folder\n",
        "\n",
        "Run the next cell to begin AOY and to set your Google Drive location."
      ]
    },
    {
      "cell_type": "code",
      "execution_count": null,
      "id": "vxoAuDwJ9fkJ",
      "metadata": {
        "id": "vxoAuDwJ9fkJ"
      },
      "outputs": [],
      "source": [
        "# create a DerivativeGenerator object\n",
        "dg = aoytk.DerivativeGenerator()\n",
        "# set the default path for reading/writing files (working directory)\n",
        "aoytk.display_path_select()"
      ]
    },
    {
      "cell_type": "markdown",
      "id": "wEI6NOLckIU2",
      "metadata": {
        "id": "wEI6NOLckIU2"
      },
      "source": [
        "The following cell can be used to download W/ARC files from the given URL. Files will be saved in the working folder set in the previous cell.\n",
        "\n",
        "A sample W/ARC file can be found at the following URL: https://github.com/archivesunleashed/aut-resources/raw/master/Sample-Data/ARCHIVEIT-227-UOFTORONTO-CANPOLPINT-20060622205612-00009-crawling025.archive.org.arc.gz\n",
        "\n",
        "This sample file is part of the [Canadian Political Parties and Interest Groups Archive-It Collection](https://archive-it.org/collections/227) collected by the University of Toronto Libraries."
      ]
    },
    {
      "cell_type": "code",
      "execution_count": null,
      "id": "2b0b2603-67b4-4121-a968-06494b67ccdc",
      "metadata": {
        "id": "2b0b2603-67b4-4121-a968-06494b67ccdc"
      },
      "outputs": [],
      "source": [
        "# give the option to download file from a specified URL\n",
        "aoytk.display_download_file()"
      ]
    },
    {
      "cell_type": "markdown",
      "id": "FsgznAAgkREQ",
      "metadata": {
        "id": "FsgznAAgkREQ"
      },
      "source": [
        "The following cell can be used to create text or file type derivatives from the chosen W/ARC file. The derivative will be saved in the specified output folder. Note that the output folder name needs to be unique (Spark will not output a file to a folder that already exists/has content in it). The output folder path is relative to the working folder set earlier in the notebook, so the output folder will be a sub-directory inside the working folder."
      ]
    },
    {
      "cell_type": "code",
      "execution_count": null,
      "id": "C3pFTN-ifLOR",
      "metadata": {
        "id": "C3pFTN-ifLOR"
      },
      "outputs": [],
      "source": [
        "dg.display_derivative_creation_options()"
      ]
    }
  ],
  "metadata": {
    "colab": {
      "provenance": []
    },
    "kernelspec": {
      "display_name": "Python 3 (ipykernel)",
      "language": "python",
      "name": "python3"
    },
    "language_info": {
      "codemirror_mode": {
        "name": "ipython",
        "version": 3
      },
      "file_extension": ".py",
      "mimetype": "text/x-python",
      "name": "python",
      "nbconvert_exporter": "python",
      "pygments_lexer": "ipython3",
      "version": "3.10.9"
    }
  },
  "nbformat": 4,
  "nbformat_minor": 5
}