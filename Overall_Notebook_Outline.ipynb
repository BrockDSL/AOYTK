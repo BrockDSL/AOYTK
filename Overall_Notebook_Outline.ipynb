{
 "cells": [
  {
   "attachments": {},
   "cell_type": "markdown",
   "metadata": {},
   "source": [
    "# An Introduction to Web Archives\n",
    "\n",
    "This notebook is an *early draft* outline of what might be included in an introduction to what can be done with web archive data. Much of what is contained in this notebook is currently unfinished or notes for future work!  "
   ]
  },
  {
   "attachments": {},
   "cell_type": "markdown",
   "metadata": {},
   "source": [
    "## Setup\n",
    "\n",
    "Load and install required modules and dependencies. "
   ]
  },
  {
   "cell_type": "code",
   "execution_count": null,
   "metadata": {},
   "outputs": [],
   "source": [
    "import aoytk"
   ]
  },
  {
   "cell_type": "code",
   "execution_count": null,
   "metadata": {},
   "outputs": [],
   "source": [
    "aoytk.display_path_select()"
   ]
  },
  {
   "cell_type": "code",
   "execution_count": null,
   "metadata": {},
   "outputs": [],
   "source": [
    "atk = aoytk.Analyzer()"
   ]
  },
  {
   "attachments": {},
   "cell_type": "markdown",
   "metadata": {},
   "source": [
    "Load the data to work with. "
   ]
  },
  {
   "cell_type": "code",
   "execution_count": null,
   "metadata": {},
   "outputs": [],
   "source": [
    "atk.load_data()"
   ]
  },
  {
   "attachments": {},
   "cell_type": "markdown",
   "metadata": {},
   "source": [
    "## Collection Analysis \n",
    "To get a sense of what is contained in the data we have loaded, we'll start by looking at the data. "
   ]
  },
  {
   "cell_type": "code",
   "execution_count": null,
   "metadata": {},
   "outputs": [],
   "source": [
    "atk.data"
   ]
  },
  {
   "attachments": {},
   "cell_type": "markdown",
   "metadata": {},
   "source": [
    "Now we might want to ask some basic questions about what is contained within the notebook. For instance: \n",
    "\n",
    "- How many domains are in the collection? \n",
    "- What domains are there in the notebook? "
   ]
  },
  {
   "cell_type": "code",
   "execution_count": null,
   "metadata": {},
   "outputs": [],
   "source": [
    "atk.display_top_domains()"
   ]
  },
  {
   "attachments": {},
   "cell_type": "markdown",
   "metadata": {},
   "source": [
    "We may want to further search for specific domains or URLs with specific terms. "
   ]
  },
  {
   "cell_type": "code",
   "execution_count": null,
   "metadata": {},
   "outputs": [],
   "source": [
    "atk.display_search(\"domain\")"
   ]
  },
  {
   "attachments": {},
   "cell_type": "markdown",
   "metadata": {},
   "source": [
    "We may want to further examine the time periods present in the database and how many crawls of each domain we have in a given time period. We can visualize this for up to the top 12 domains using the following tool:"
   ]
  },
  {
   "cell_type": "code",
   "execution_count": null,
   "metadata": {},
   "outputs": [],
   "source": [
    "atk.display_crawl_frequency()"
   ]
  },
  {
   "attachments": {},
   "cell_type": "markdown",
   "metadata": {},
   "source": [
    "Some features to add in around this point if they are developed in the future: \n",
    "- how does the number of scrapes change over time (overall)\n",
    "- (bigger feature but could be cool!) search and select a number of specific domains to display in the above visualization, as well as for use in other widgets "
   ]
  },
  {
   "attachments": {},
   "cell_type": "markdown",
   "metadata": {},
   "source": [
    "## Text Analysis \n",
    "\n",
    "To visualize the token frequency on a given page in the web archive at a given date, we can use word clouds. \n"
   ]
  },
  {
   "cell_type": "code",
   "execution_count": null,
   "metadata": {},
   "outputs": [],
   "source": [
    "atk.display_wordcloud_options()"
   ]
  },
  {
   "attachments": {},
   "cell_type": "markdown",
   "metadata": {},
   "source": [
    "- page length \n",
    "- change in page length \n",
    "- readability scoring \n",
    "- sentiment scoring "
   ]
  },
  {
   "cell_type": "code",
   "execution_count": null,
   "metadata": {},
   "outputs": [],
   "source": [
    "# create some \"basic stats\" output \n",
    "# how many domains are in the collection \n",
    "num_domains = len(atk.data[\"domain\"].unique())\n",
    "\n",
    "print(f\"Unique domains: {num_domains}\")\n",
    "\n",
    "# date range \n",
    "date_range = atk.data[\"crawl_date\"].agg(['min', 'max'])\n",
    "date_range['min'].strftime('%Y-%m-%d %X')\n",
    "\n",
    "print(f\"First crawl timestamp: {date_range['min'].strftime('%Y-%m-%d %X')}\")\n",
    "print(f\"Last crawl timestamp: {date_range['max'].strftime('%Y-%m-%d %X')}\")"
   ]
  },
  {
   "cell_type": "code",
   "execution_count": null,
   "metadata": {},
   "outputs": [],
   "source": [
    "# min / max crawls \n",
    "atk.data[\"domain\"].value_counts()"
   ]
  },
  {
   "attachments": {},
   "cell_type": "markdown",
   "metadata": {},
   "source": [
    "### Experiments / Protoyping\n",
    "####  Selecting a custom set of domains \n",
    "\n",
    "The following are some early prototypes/initial work on a widget that would allow the user to select a subset of domains in their data to analyze. This would be a helpful feature for doing some more focused analysis of the specific portions of the data contained within the archive. Ideally, this feature would be able to be used in combination with any other widget that does visualization etc to be able to focus in on certain subsets of data within an exploratory context. \n",
    "\n",
    "Also would be neat to allow specification from .txt file for reproducibility, convenience etc. Maybe add an option to automatically output that list of custom domains to file too? (In a format that could be read back in, to avoid re-selecting repeatedly!)"
   ]
  },
  {
   "cell_type": "code",
   "execution_count": null,
   "metadata": {},
   "outputs": [],
   "source": [
    "import ipywidgets as widgets"
   ]
  },
  {
   "cell_type": "code",
   "execution_count": null,
   "metadata": {},
   "outputs": [],
   "source": [
    "# list of all domain names\n",
    "domains = list(atk.data[\"domain\"].unique())\n",
    "# default values \n",
    "defaults = []\n",
    "\n",
    "domain_select = widgets.TagsInput(\n",
    "    value = defaults, \n",
    "    allowed_tags = domains, \n",
    "    allow_duplicates = False\n",
    ")\n",
    "domain_select\n",
    "# attempt to select some domains "
   ]
  },
  {
   "cell_type": "code",
   "execution_count": null,
   "metadata": {},
   "outputs": [],
   "source": [
    "domain_select.value"
   ]
  },
  {
   "cell_type": "code",
   "execution_count": null,
   "metadata": {},
   "outputs": [],
   "source": [
    "df = atk.data.loc[atk.data[\"domain\"].isin(domain_select.value)]\n",
    "df"
   ]
  }
 ],
 "metadata": {
  "kernelspec": {
   "display_name": "aoytk",
   "language": "python",
   "name": "python3"
  },
  "language_info": {
   "codemirror_mode": {
    "name": "ipython",
    "version": 3
   },
   "file_extension": ".py",
   "mimetype": "text/x-python",
   "name": "python",
   "nbconvert_exporter": "python",
   "pygments_lexer": "ipython3",
   "version": "3.9.16"
  },
  "orig_nbformat": 4
 },
 "nbformat": 4,
 "nbformat_minor": 2
}
