{
  "nbformat": 4,
  "nbformat_minor": 0,
  "metadata": {
    "colab": {
      "provenance": []
    },
    "kernelspec": {
      "name": "python3",
      "display_name": "Python 3"
    },
    "language_info": {
      "name": "python"
    },
    "widgets": {
      "application/vnd.jupyter.widget-state+json": {
        "181e67f5b5a84b3697397f22d18c80d1": {
          "model_module": "@jupyter-widgets/controls",
          "model_name": "TextModel",
          "model_module_version": "1.5.0",
          "state": {
            "_dom_classes": [],
            "_model_module": "@jupyter-widgets/controls",
            "_model_module_version": "1.5.0",
            "_model_name": "TextModel",
            "_view_count": null,
            "_view_module": "@jupyter-widgets/controls",
            "_view_module_version": "1.5.0",
            "_view_name": "TextView",
            "continuous_update": true,
            "description": "Folder path:",
            "description_tooltip": null,
            "disabled": false,
            "layout": "IPY_MODEL_7c63245621c24b6f92159ac28eb37d2a",
            "placeholder": "​",
            "style": "IPY_MODEL_2f8849c9bf5e47eba39a1e08e32ff304",
            "value": "/content/drive/MyDrive/AOY/"
          }
        },
        "7c63245621c24b6f92159ac28eb37d2a": {
          "model_module": "@jupyter-widgets/base",
          "model_name": "LayoutModel",
          "model_module_version": "1.2.0",
          "state": {
            "_model_module": "@jupyter-widgets/base",
            "_model_module_version": "1.2.0",
            "_model_name": "LayoutModel",
            "_view_count": null,
            "_view_module": "@jupyter-widgets/base",
            "_view_module_version": "1.2.0",
            "_view_name": "LayoutView",
            "align_content": null,
            "align_items": null,
            "align_self": null,
            "border": null,
            "bottom": null,
            "display": null,
            "flex": null,
            "flex_flow": null,
            "grid_area": null,
            "grid_auto_columns": null,
            "grid_auto_flow": null,
            "grid_auto_rows": null,
            "grid_column": null,
            "grid_gap": null,
            "grid_row": null,
            "grid_template_areas": null,
            "grid_template_columns": null,
            "grid_template_rows": null,
            "height": null,
            "justify_content": null,
            "justify_items": null,
            "left": null,
            "margin": null,
            "max_height": null,
            "max_width": null,
            "min_height": null,
            "min_width": null,
            "object_fit": null,
            "object_position": null,
            "order": null,
            "overflow": null,
            "overflow_x": null,
            "overflow_y": null,
            "padding": null,
            "right": null,
            "top": null,
            "visibility": null,
            "width": null
          }
        },
        "2f8849c9bf5e47eba39a1e08e32ff304": {
          "model_module": "@jupyter-widgets/controls",
          "model_name": "DescriptionStyleModel",
          "model_module_version": "1.5.0",
          "state": {
            "_model_module": "@jupyter-widgets/controls",
            "_model_module_version": "1.5.0",
            "_model_name": "DescriptionStyleModel",
            "_view_count": null,
            "_view_module": "@jupyter-widgets/base",
            "_view_module_version": "1.2.0",
            "_view_name": "StyleView",
            "description_width": ""
          }
        },
        "ce70c42b73f44a8fb4e6b0dfd9e3deae": {
          "model_module": "@jupyter-widgets/controls",
          "model_name": "ButtonModel",
          "model_module_version": "1.5.0",
          "state": {
            "_dom_classes": [],
            "_model_module": "@jupyter-widgets/controls",
            "_model_module_version": "1.5.0",
            "_model_name": "ButtonModel",
            "_view_count": null,
            "_view_module": "@jupyter-widgets/controls",
            "_view_module_version": "1.5.0",
            "_view_name": "ButtonView",
            "button_style": "",
            "description": "Submit",
            "disabled": false,
            "icon": "",
            "layout": "IPY_MODEL_165f4b643bbd460fa109d857b0dbf243",
            "style": "IPY_MODEL_939c27d557f641cb891c18090999ed3d",
            "tooltip": ""
          }
        },
        "165f4b643bbd460fa109d857b0dbf243": {
          "model_module": "@jupyter-widgets/base",
          "model_name": "LayoutModel",
          "model_module_version": "1.2.0",
          "state": {
            "_model_module": "@jupyter-widgets/base",
            "_model_module_version": "1.2.0",
            "_model_name": "LayoutModel",
            "_view_count": null,
            "_view_module": "@jupyter-widgets/base",
            "_view_module_version": "1.2.0",
            "_view_name": "LayoutView",
            "align_content": null,
            "align_items": null,
            "align_self": null,
            "border": null,
            "bottom": null,
            "display": null,
            "flex": null,
            "flex_flow": null,
            "grid_area": null,
            "grid_auto_columns": null,
            "grid_auto_flow": null,
            "grid_auto_rows": null,
            "grid_column": null,
            "grid_gap": null,
            "grid_row": null,
            "grid_template_areas": null,
            "grid_template_columns": null,
            "grid_template_rows": null,
            "height": null,
            "justify_content": null,
            "justify_items": null,
            "left": null,
            "margin": null,
            "max_height": null,
            "max_width": null,
            "min_height": null,
            "min_width": null,
            "object_fit": null,
            "object_position": null,
            "order": null,
            "overflow": null,
            "overflow_x": null,
            "overflow_y": null,
            "padding": null,
            "right": null,
            "top": null,
            "visibility": null,
            "width": null
          }
        },
        "939c27d557f641cb891c18090999ed3d": {
          "model_module": "@jupyter-widgets/controls",
          "model_name": "ButtonStyleModel",
          "model_module_version": "1.5.0",
          "state": {
            "_model_module": "@jupyter-widgets/controls",
            "_model_module_version": "1.5.0",
            "_model_name": "ButtonStyleModel",
            "_view_count": null,
            "_view_module": "@jupyter-widgets/base",
            "_view_module_version": "1.2.0",
            "_view_name": "StyleView",
            "button_color": null,
            "font_weight": ""
          }
        },
        "ef3ce6ec52c744b4905290737c68b6f3": {
          "model_module": "@jupyter-widgets/controls",
          "model_name": "DropdownModel",
          "model_module_version": "1.5.0",
          "state": {
            "_dom_classes": [],
            "_model_module": "@jupyter-widgets/controls",
            "_model_module_version": "1.5.0",
            "_model_name": "DropdownModel",
            "_options_labels": [
              "all-text.csv"
            ],
            "_view_count": null,
            "_view_module": "@jupyter-widgets/controls",
            "_view_module_version": "1.5.0",
            "_view_name": "DropdownView",
            "description": "Derivative file:",
            "description_tooltip": null,
            "disabled": false,
            "index": 0,
            "layout": "IPY_MODEL_c83e0dbcb77848abbc0a37c9d1029f99",
            "style": "IPY_MODEL_1683d77abb5f4a2fa74112a31d348df6"
          }
        },
        "c83e0dbcb77848abbc0a37c9d1029f99": {
          "model_module": "@jupyter-widgets/base",
          "model_name": "LayoutModel",
          "model_module_version": "1.2.0",
          "state": {
            "_model_module": "@jupyter-widgets/base",
            "_model_module_version": "1.2.0",
            "_model_name": "LayoutModel",
            "_view_count": null,
            "_view_module": "@jupyter-widgets/base",
            "_view_module_version": "1.2.0",
            "_view_name": "LayoutView",
            "align_content": null,
            "align_items": null,
            "align_self": null,
            "border": null,
            "bottom": null,
            "display": null,
            "flex": null,
            "flex_flow": null,
            "grid_area": null,
            "grid_auto_columns": null,
            "grid_auto_flow": null,
            "grid_auto_rows": null,
            "grid_column": null,
            "grid_gap": null,
            "grid_row": null,
            "grid_template_areas": null,
            "grid_template_columns": null,
            "grid_template_rows": null,
            "height": null,
            "justify_content": null,
            "justify_items": null,
            "left": null,
            "margin": null,
            "max_height": null,
            "max_width": null,
            "min_height": null,
            "min_width": null,
            "object_fit": null,
            "object_position": null,
            "order": null,
            "overflow": null,
            "overflow_x": null,
            "overflow_y": null,
            "padding": null,
            "right": null,
            "top": null,
            "visibility": null,
            "width": null
          }
        },
        "1683d77abb5f4a2fa74112a31d348df6": {
          "model_module": "@jupyter-widgets/controls",
          "model_name": "DescriptionStyleModel",
          "model_module_version": "1.5.0",
          "state": {
            "_model_module": "@jupyter-widgets/controls",
            "_model_module_version": "1.5.0",
            "_model_name": "DescriptionStyleModel",
            "_view_count": null,
            "_view_module": "@jupyter-widgets/base",
            "_view_module_version": "1.2.0",
            "_view_name": "StyleView",
            "description_width": ""
          }
        }
      }
    }
  },
  "cells": [
    {
      "cell_type": "markdown",
      "source": [
        "# Text Analysis Notebook \n",
        "This notebook contains a variety of text analysis tools for working with and visualizing web archive data. \n"
      ],
      "metadata": {
        "id": "6lVueEMbrQ14"
      }
    },
    {
      "cell_type": "markdown",
      "source": [
        "## Set-Up\n",
        "The following cells set-up the Google Colab environment for working with web archive data. This requires the downloading and installing of several packages, and may take a couple of minutes to run. "
      ],
      "metadata": {
        "id": "-_mEa1kdrZ9X"
      }
    },
    {
      "cell_type": "markdown",
      "source": [
        "### Install Dependencies\n",
        "Downloads and installs dependencies for running the Archives Unleashed Toolkit (AUT) and the All Our Yesterdays Toolkit (AOYTK). "
      ],
      "metadata": {
        "id": "Gd1HfyuOsVzu"
      }
    },
    {
      "cell_type": "code",
      "execution_count": 2,
      "metadata": {
        "id": "Ka32HHaC4wEI"
      },
      "outputs": [],
      "source": [
        "# this cell downloads and installs the required dependencies for running the AUT\n",
        "# and creates the environment variables required to use Java, Spark and PySpark\n",
        "# this cell only needs to be run in Colab, when running this script from the Docker image\n",
        "# these variables will already have been set appropriately\n",
        "# create the appropriate environment variables to be able to use Java, Spark and PySpark\n",
        "%%capture\n",
        "!apt-get update\n",
        "!apt-get install -y openjdk-11-jdk-headless -qq \n",
        "!apt-get install maven -qq\n",
        "\n",
        "!curl -L \"https://archive.apache.org/dist/spark/spark-3.1.1/spark-3.1.1-bin-hadoop2.7.tgz\" > spark-3.1.1-bin-hadoop2.7.tgz\n",
        "!tar -xvf spark-3.1.1-bin-hadoop2.7.tgz\n",
        "!pip install -q findspark\n",
        "\n",
        "import os\n",
        "os.environ[\"JAVA_HOME\"] = \"/usr/lib/jvm/java-1.11.0-openjdk-amd64\"\n",
        "os.environ[\"SPARK_HOME\"] = \"spark-3.1.1-bin-hadoop2.7\"\n",
        "os.environ['PYSPARK_SUBMIT_ARGS'] = '--jars aut-1.1.0-fatjar.jar --py-files aut-1.1.0.zip pyspark-shell'"
      ]
    },
    {
      "cell_type": "code",
      "execution_count": 3,
      "metadata": {
        "id": "fFj_MZXj5jCr"
      },
      "outputs": [],
      "source": [
        "# download the AUT \n",
        "%%capture\n",
        "!wget \"https://github.com/archivesunleashed/aut/releases/download/aut-1.1.0/aut-1.1.0.zip\"\n",
        "!wget \"https://github.com/archivesunleashed/aut/releases/download/aut-1.1.0/aut-1.1.0-fatjar.jar\""
      ]
    },
    {
      "cell_type": "markdown",
      "source": [
        "### Mount Google Drive \n",
        "In order to persist working files/data across multiple runs of the notebook. \n"
      ],
      "metadata": {
        "id": "9w9YLR8Drpv5"
      }
    },
    {
      "cell_type": "code",
      "source": [
        "from google.colab import drive \n",
        "drive.mount(\"/content/drive/\")"
      ],
      "metadata": {
        "colab": {
          "base_uri": "https://localhost:8080/"
        },
        "id": "LFg9g4SHr89o",
        "outputId": "3742b241-e148-4c26-f45d-fc90dd67ef5f"
      },
      "execution_count": 4,
      "outputs": [
        {
          "output_type": "stream",
          "name": "stdout",
          "text": [
            "Mounted at /content/drive/\n"
          ]
        }
      ]
    },
    {
      "cell_type": "markdown",
      "source": [
        "### Load AOYTK\n",
        "\n",
        "Upload `aoytk.py` to the workspace and then run the following cell. \n",
        "\n",
        "Note: once the package is available through pip, this will be able to be done without the need to manually load in the module. "
      ],
      "metadata": {
        "id": "Xv8Lv5pnshfb"
      }
    },
    {
      "cell_type": "code",
      "source": [
        "import aoytk"
      ],
      "metadata": {
        "id": "HZWBpPnVtDnZ"
      },
      "execution_count": 5,
      "outputs": []
    },
    {
      "cell_type": "markdown",
      "source": [
        "### Set Working Directory\n",
        "Select a working folder for reading and writing data. "
      ],
      "metadata": {
        "id": "PWMBhMbWtKJQ"
      }
    },
    {
      "cell_type": "code",
      "source": [
        "aoytk.display_path_select()"
      ],
      "metadata": {
        "colab": {
          "base_uri": "https://localhost:8080/",
          "height": 99,
          "referenced_widgets": [
            "181e67f5b5a84b3697397f22d18c80d1",
            "7c63245621c24b6f92159ac28eb37d2a",
            "2f8849c9bf5e47eba39a1e08e32ff304",
            "ce70c42b73f44a8fb4e6b0dfd9e3deae",
            "165f4b643bbd460fa109d857b0dbf243",
            "939c27d557f641cb891c18090999ed3d"
          ]
        },
        "id": "KUcdIDdjtR6n",
        "outputId": "15e9facd-afd1-45e9-9ee5-a6af1230554c"
      },
      "execution_count": 6,
      "outputs": [
        {
          "output_type": "display_data",
          "data": {
            "text/plain": [
              "Text(value='', description='Folder path:')"
            ],
            "application/vnd.jupyter.widget-view+json": {
              "version_major": 2,
              "version_minor": 0,
              "model_id": "181e67f5b5a84b3697397f22d18c80d1"
            }
          },
          "metadata": {}
        },
        {
          "output_type": "display_data",
          "data": {
            "text/plain": [
              "Button(description='Submit', style=ButtonStyle())"
            ],
            "application/vnd.jupyter.widget-view+json": {
              "version_major": 2,
              "version_minor": 0,
              "model_id": "ce70c42b73f44a8fb4e6b0dfd9e3deae"
            }
          },
          "metadata": {}
        },
        {
          "output_type": "stream",
          "name": "stdout",
          "text": [
            "Folder path set to: /content/drive/MyDrive/AOY/\n"
          ]
        }
      ]
    },
    {
      "cell_type": "markdown",
      "source": [
        "## Data Exploration \n",
        "The following cells provide tools for exploring web-archive derivatives (which are saved in the working folder selected in the setup stage). "
      ],
      "metadata": {
        "id": "yvewpmmxt54t"
      }
    },
    {
      "cell_type": "markdown",
      "source": [
        "### Domain Frequencies\n",
        "\n",
        "*Note:* Currently in the development stage -- much of this will be modularized out into `aoytk.py`"
      ],
      "metadata": {
        "id": "rIf_4W0HvaLz"
      }
    },
    {
      "cell_type": "code",
      "source": [
        "import ipywidgets as widgets\n",
        "file_options = widgets.Dropdown(description = \"Derivative file:\", options = [x for x in os.listdir(aoytk.path) if x.endswith((\".csv\", \".parquet\", \".pqt\"))])\n",
        "display(file_options)"
      ],
      "metadata": {
        "colab": {
          "base_uri": "https://localhost:8080/",
          "height": 49,
          "referenced_widgets": [
            "ef3ce6ec52c744b4905290737c68b6f3",
            "c83e0dbcb77848abbc0a37c9d1029f99",
            "1683d77abb5f4a2fa74112a31d348df6"
          ]
        },
        "id": "SVif4o2xzNbp",
        "outputId": "02a07993-2aaa-44e0-faa6-44170c59c1cf"
      },
      "execution_count": 8,
      "outputs": [
        {
          "output_type": "display_data",
          "data": {
            "text/plain": [
              "Dropdown(description='Derivative file:', options=('all-text.csv',), value='all-text.csv')"
            ],
            "application/vnd.jupyter.widget-view+json": {
              "version_major": 2,
              "version_minor": 0,
              "model_id": "ef3ce6ec52c744b4905290737c68b6f3"
            }
          },
          "metadata": {}
        }
      ]
    },
    {
      "cell_type": "code",
      "source": [
        "selected_file = aoytk.path + '/' + file_options.value\n",
        "import pandas as pd\n",
        "data = pd.read_csv(selected_file)\n",
        "data.head()"
      ],
      "metadata": {
        "colab": {
          "base_uri": "https://localhost:8080/",
          "height": 206
        },
        "id": "nDr4KswvvcLQ",
        "outputId": "d5a11897-7809-4433-8a6d-126d1c8e2932"
      },
      "execution_count": 9,
      "outputs": [
        {
          "output_type": "execute_result",
          "data": {
            "text/plain": [
              "       crawl_date              domain  \\\n",
              "0  20060622205609              gca.ca   \n",
              "1  20060622205609         ppforum.com   \n",
              "2  20060622205609  communist-party.ca   \n",
              "3  20060622205610     canadafirst.net   \n",
              "4  20060622205610             web.net   \n",
              "\n",
              "                                                 url  \\\n",
              "0  http://www.gca.ca/indexcms/?organizations&orgi...   \n",
              "1  http://www.ppforum.com/en/speeches/index.asp?t...   \n",
              "2  http://communist-party.ca/calendar/cal_week.ph...   \n",
              "3  http://www.canadafirst.net/immi_crime/canada_t...   \n",
              "4            http://www.web.net/~ccr/edboardmtg.html   \n",
              "\n",
              "                                             content  \n",
              "0  Green Communities Canada | Our Member Organiza...  \n",
              "1  Speeches - Public Policy Forum Building Better...  \n",
              "2  Calendar CPC Coming Events Thursday 22 June 20...  \n",
              "3  TERRORIST DESTINATION Canada's borders come un...  \n",
              "4  Meeting with editorial board MEETING WITH EDIT...  "
            ],
            "text/html": [
              "\n",
              "  <div id=\"df-b92c597c-a730-46b5-8b46-74d5f6b71a87\">\n",
              "    <div class=\"colab-df-container\">\n",
              "      <div>\n",
              "<style scoped>\n",
              "    .dataframe tbody tr th:only-of-type {\n",
              "        vertical-align: middle;\n",
              "    }\n",
              "\n",
              "    .dataframe tbody tr th {\n",
              "        vertical-align: top;\n",
              "    }\n",
              "\n",
              "    .dataframe thead th {\n",
              "        text-align: right;\n",
              "    }\n",
              "</style>\n",
              "<table border=\"1\" class=\"dataframe\">\n",
              "  <thead>\n",
              "    <tr style=\"text-align: right;\">\n",
              "      <th></th>\n",
              "      <th>crawl_date</th>\n",
              "      <th>domain</th>\n",
              "      <th>url</th>\n",
              "      <th>content</th>\n",
              "    </tr>\n",
              "  </thead>\n",
              "  <tbody>\n",
              "    <tr>\n",
              "      <th>0</th>\n",
              "      <td>20060622205609</td>\n",
              "      <td>gca.ca</td>\n",
              "      <td>http://www.gca.ca/indexcms/?organizations&amp;orgi...</td>\n",
              "      <td>Green Communities Canada | Our Member Organiza...</td>\n",
              "    </tr>\n",
              "    <tr>\n",
              "      <th>1</th>\n",
              "      <td>20060622205609</td>\n",
              "      <td>ppforum.com</td>\n",
              "      <td>http://www.ppforum.com/en/speeches/index.asp?t...</td>\n",
              "      <td>Speeches - Public Policy Forum Building Better...</td>\n",
              "    </tr>\n",
              "    <tr>\n",
              "      <th>2</th>\n",
              "      <td>20060622205609</td>\n",
              "      <td>communist-party.ca</td>\n",
              "      <td>http://communist-party.ca/calendar/cal_week.ph...</td>\n",
              "      <td>Calendar CPC Coming Events Thursday 22 June 20...</td>\n",
              "    </tr>\n",
              "    <tr>\n",
              "      <th>3</th>\n",
              "      <td>20060622205610</td>\n",
              "      <td>canadafirst.net</td>\n",
              "      <td>http://www.canadafirst.net/immi_crime/canada_t...</td>\n",
              "      <td>TERRORIST DESTINATION Canada's borders come un...</td>\n",
              "    </tr>\n",
              "    <tr>\n",
              "      <th>4</th>\n",
              "      <td>20060622205610</td>\n",
              "      <td>web.net</td>\n",
              "      <td>http://www.web.net/~ccr/edboardmtg.html</td>\n",
              "      <td>Meeting with editorial board MEETING WITH EDIT...</td>\n",
              "    </tr>\n",
              "  </tbody>\n",
              "</table>\n",
              "</div>\n",
              "      <button class=\"colab-df-convert\" onclick=\"convertToInteractive('df-b92c597c-a730-46b5-8b46-74d5f6b71a87')\"\n",
              "              title=\"Convert this dataframe to an interactive table.\"\n",
              "              style=\"display:none;\">\n",
              "        \n",
              "  <svg xmlns=\"http://www.w3.org/2000/svg\" height=\"24px\"viewBox=\"0 0 24 24\"\n",
              "       width=\"24px\">\n",
              "    <path d=\"M0 0h24v24H0V0z\" fill=\"none\"/>\n",
              "    <path d=\"M18.56 5.44l.94 2.06.94-2.06 2.06-.94-2.06-.94-.94-2.06-.94 2.06-2.06.94zm-11 1L8.5 8.5l.94-2.06 2.06-.94-2.06-.94L8.5 2.5l-.94 2.06-2.06.94zm10 10l.94 2.06.94-2.06 2.06-.94-2.06-.94-.94-2.06-.94 2.06-2.06.94z\"/><path d=\"M17.41 7.96l-1.37-1.37c-.4-.4-.92-.59-1.43-.59-.52 0-1.04.2-1.43.59L10.3 9.45l-7.72 7.72c-.78.78-.78 2.05 0 2.83L4 21.41c.39.39.9.59 1.41.59.51 0 1.02-.2 1.41-.59l7.78-7.78 2.81-2.81c.8-.78.8-2.07 0-2.86zM5.41 20L4 18.59l7.72-7.72 1.47 1.35L5.41 20z\"/>\n",
              "  </svg>\n",
              "      </button>\n",
              "      \n",
              "  <style>\n",
              "    .colab-df-container {\n",
              "      display:flex;\n",
              "      flex-wrap:wrap;\n",
              "      gap: 12px;\n",
              "    }\n",
              "\n",
              "    .colab-df-convert {\n",
              "      background-color: #E8F0FE;\n",
              "      border: none;\n",
              "      border-radius: 50%;\n",
              "      cursor: pointer;\n",
              "      display: none;\n",
              "      fill: #1967D2;\n",
              "      height: 32px;\n",
              "      padding: 0 0 0 0;\n",
              "      width: 32px;\n",
              "    }\n",
              "\n",
              "    .colab-df-convert:hover {\n",
              "      background-color: #E2EBFA;\n",
              "      box-shadow: 0px 1px 2px rgba(60, 64, 67, 0.3), 0px 1px 3px 1px rgba(60, 64, 67, 0.15);\n",
              "      fill: #174EA6;\n",
              "    }\n",
              "\n",
              "    [theme=dark] .colab-df-convert {\n",
              "      background-color: #3B4455;\n",
              "      fill: #D2E3FC;\n",
              "    }\n",
              "\n",
              "    [theme=dark] .colab-df-convert:hover {\n",
              "      background-color: #434B5C;\n",
              "      box-shadow: 0px 1px 3px 1px rgba(0, 0, 0, 0.15);\n",
              "      filter: drop-shadow(0px 1px 2px rgba(0, 0, 0, 0.3));\n",
              "      fill: #FFFFFF;\n",
              "    }\n",
              "  </style>\n",
              "\n",
              "      <script>\n",
              "        const buttonEl =\n",
              "          document.querySelector('#df-b92c597c-a730-46b5-8b46-74d5f6b71a87 button.colab-df-convert');\n",
              "        buttonEl.style.display =\n",
              "          google.colab.kernel.accessAllowed ? 'block' : 'none';\n",
              "\n",
              "        async function convertToInteractive(key) {\n",
              "          const element = document.querySelector('#df-b92c597c-a730-46b5-8b46-74d5f6b71a87');\n",
              "          const dataTable =\n",
              "            await google.colab.kernel.invokeFunction('convertToInteractive',\n",
              "                                                     [key], {});\n",
              "          if (!dataTable) return;\n",
              "\n",
              "          const docLinkHtml = 'Like what you see? Visit the ' +\n",
              "            '<a target=\"_blank\" href=https://colab.research.google.com/notebooks/data_table.ipynb>data table notebook</a>'\n",
              "            + ' to learn more about interactive tables.';\n",
              "          element.innerHTML = '';\n",
              "          dataTable['output_type'] = 'display_data';\n",
              "          await google.colab.output.renderOutput(dataTable, element);\n",
              "          const docLink = document.createElement('div');\n",
              "          docLink.innerHTML = docLinkHtml;\n",
              "          element.appendChild(docLink);\n",
              "        }\n",
              "      </script>\n",
              "    </div>\n",
              "  </div>\n",
              "  "
            ]
          },
          "metadata": {},
          "execution_count": 9
        }
      ]
    },
    {
      "cell_type": "code",
      "source": [
        "data[\"domain\"].value_counts().head(10)"
      ],
      "metadata": {
        "colab": {
          "base_uri": "https://localhost:8080/"
        },
        "id": "L1OkNxYizy0c",
        "outputId": "af7566c0-db77-4c6b-d480-2832fd5af42a"
      },
      "execution_count": 11,
      "outputs": [
        {
          "output_type": "execute_result",
          "data": {
            "text/plain": [
              "communist-party.ca        39\n",
              "greenparty.ca             39\n",
              "ccsd.ca                   22\n",
              "partimarijuana.org        22\n",
              "gca.ca                    20\n",
              "canadianactionparty.ca    19\n",
              "westernblockparty.com     18\n",
              "policyalternatives.ca     17\n",
              "egale.ca                  17\n",
              "web.net                   16\n",
              "Name: domain, dtype: int64"
            ]
          },
          "metadata": {},
          "execution_count": 11
        }
      ]
    }
  ]
}