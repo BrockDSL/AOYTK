{
  "nbformat": 4,
  "nbformat_minor": 0,
  "metadata": {
    "colab": {
      "provenance": []
    },
    "kernelspec": {
      "name": "python3",
      "display_name": "Python 3"
    },
    "language_info": {
      "name": "python"
    },
    "widgets": {
      "application/vnd.jupyter.widget-state+json": {
        "c38004c0a70f4b2b99e8f95d551452fe": {
          "model_module": "@jupyter-widgets/controls",
          "model_name": "TextModel",
          "model_module_version": "1.5.0",
          "state": {
            "_dom_classes": [],
            "_model_module": "@jupyter-widgets/controls",
            "_model_module_version": "1.5.0",
            "_model_name": "TextModel",
            "_view_count": null,
            "_view_module": "@jupyter-widgets/controls",
            "_view_module_version": "1.5.0",
            "_view_name": "TextView",
            "continuous_update": true,
            "description": "Folder path:",
            "description_tooltip": null,
            "disabled": false,
            "layout": "IPY_MODEL_343c483002514f158b1dab2d18d06768",
            "placeholder": "Enter your folder path",
            "style": "IPY_MODEL_dd47df034c92488486a56bea93cbe235",
            "value": "/content/drive/MyDrive/AOY/"
          }
        },
        "343c483002514f158b1dab2d18d06768": {
          "model_module": "@jupyter-widgets/base",
          "model_name": "LayoutModel",
          "model_module_version": "1.2.0",
          "state": {
            "_model_module": "@jupyter-widgets/base",
            "_model_module_version": "1.2.0",
            "_model_name": "LayoutModel",
            "_view_count": null,
            "_view_module": "@jupyter-widgets/base",
            "_view_module_version": "1.2.0",
            "_view_name": "LayoutView",
            "align_content": null,
            "align_items": null,
            "align_self": null,
            "border": null,
            "bottom": null,
            "display": null,
            "flex": null,
            "flex_flow": null,
            "grid_area": null,
            "grid_auto_columns": null,
            "grid_auto_flow": null,
            "grid_auto_rows": null,
            "grid_column": null,
            "grid_gap": null,
            "grid_row": null,
            "grid_template_areas": null,
            "grid_template_columns": null,
            "grid_template_rows": null,
            "height": null,
            "justify_content": null,
            "justify_items": null,
            "left": null,
            "margin": null,
            "max_height": null,
            "max_width": null,
            "min_height": null,
            "min_width": null,
            "object_fit": null,
            "object_position": null,
            "order": null,
            "overflow": null,
            "overflow_x": null,
            "overflow_y": null,
            "padding": null,
            "right": null,
            "top": null,
            "visibility": null,
            "width": null
          }
        },
        "dd47df034c92488486a56bea93cbe235": {
          "model_module": "@jupyter-widgets/controls",
          "model_name": "DescriptionStyleModel",
          "model_module_version": "1.5.0",
          "state": {
            "_model_module": "@jupyter-widgets/controls",
            "_model_module_version": "1.5.0",
            "_model_name": "DescriptionStyleModel",
            "_view_count": null,
            "_view_module": "@jupyter-widgets/base",
            "_view_module_version": "1.2.0",
            "_view_name": "StyleView",
            "description_width": ""
          }
        },
        "dd7ee9da5ee846ffb47ea87287ba7b2e": {
          "model_module": "@jupyter-widgets/controls",
          "model_name": "ButtonModel",
          "model_module_version": "1.5.0",
          "state": {
            "_dom_classes": [],
            "_model_module": "@jupyter-widgets/controls",
            "_model_module_version": "1.5.0",
            "_model_name": "ButtonModel",
            "_view_count": null,
            "_view_module": "@jupyter-widgets/controls",
            "_view_module_version": "1.5.0",
            "_view_name": "ButtonView",
            "button_style": "",
            "description": "Submit",
            "disabled": false,
            "icon": "",
            "layout": "IPY_MODEL_2269afe837944f65ac16c63aa93dd12b",
            "style": "IPY_MODEL_8d90e14c6fd94a02bee631a4e0decdb5",
            "tooltip": ""
          }
        },
        "2269afe837944f65ac16c63aa93dd12b": {
          "model_module": "@jupyter-widgets/base",
          "model_name": "LayoutModel",
          "model_module_version": "1.2.0",
          "state": {
            "_model_module": "@jupyter-widgets/base",
            "_model_module_version": "1.2.0",
            "_model_name": "LayoutModel",
            "_view_count": null,
            "_view_module": "@jupyter-widgets/base",
            "_view_module_version": "1.2.0",
            "_view_name": "LayoutView",
            "align_content": null,
            "align_items": null,
            "align_self": null,
            "border": null,
            "bottom": null,
            "display": null,
            "flex": null,
            "flex_flow": null,
            "grid_area": null,
            "grid_auto_columns": null,
            "grid_auto_flow": null,
            "grid_auto_rows": null,
            "grid_column": null,
            "grid_gap": null,
            "grid_row": null,
            "grid_template_areas": null,
            "grid_template_columns": null,
            "grid_template_rows": null,
            "height": null,
            "justify_content": null,
            "justify_items": null,
            "left": null,
            "margin": null,
            "max_height": null,
            "max_width": null,
            "min_height": null,
            "min_width": null,
            "object_fit": null,
            "object_position": null,
            "order": null,
            "overflow": null,
            "overflow_x": null,
            "overflow_y": null,
            "padding": null,
            "right": null,
            "top": null,
            "visibility": null,
            "width": null
          }
        },
        "8d90e14c6fd94a02bee631a4e0decdb5": {
          "model_module": "@jupyter-widgets/controls",
          "model_name": "ButtonStyleModel",
          "model_module_version": "1.5.0",
          "state": {
            "_model_module": "@jupyter-widgets/controls",
            "_model_module_version": "1.5.0",
            "_model_name": "ButtonStyleModel",
            "_view_count": null,
            "_view_module": "@jupyter-widgets/base",
            "_view_module_version": "1.2.0",
            "_view_name": "StyleView",
            "button_color": null,
            "font_weight": ""
          }
        },
        "a31aec18540b4a7eb75a13f39c013443": {
          "model_module": "@jupyter-widgets/controls",
          "model_name": "HBoxModel",
          "model_module_version": "1.5.0",
          "state": {
            "_dom_classes": [],
            "_model_module": "@jupyter-widgets/controls",
            "_model_module_version": "1.5.0",
            "_model_name": "HBoxModel",
            "_view_count": null,
            "_view_module": "@jupyter-widgets/controls",
            "_view_module_version": "1.5.0",
            "_view_name": "HBoxView",
            "box_style": "",
            "children": [
              "IPY_MODEL_255565086dcd44eb872fefe1efe0c1c9",
              "IPY_MODEL_132121db599e47b8aa918ea68c8d15da"
            ],
            "layout": "IPY_MODEL_79599e75cb7f4d489936f2c3af7c49f6"
          }
        },
        "255565086dcd44eb872fefe1efe0c1c9": {
          "model_module": "@jupyter-widgets/controls",
          "model_name": "LabelModel",
          "model_module_version": "1.5.0",
          "state": {
            "_dom_classes": [],
            "_model_module": "@jupyter-widgets/controls",
            "_model_module_version": "1.5.0",
            "_model_name": "LabelModel",
            "_view_count": null,
            "_view_module": "@jupyter-widgets/controls",
            "_view_module_version": "1.5.0",
            "_view_name": "LabelView",
            "description": "",
            "description_tooltip": null,
            "layout": "IPY_MODEL_757af073f0184e1dbb7172a69cd00361",
            "placeholder": "​",
            "style": "IPY_MODEL_82c75d952e7e491ab199b0125d52810e",
            "value": "Derivative file to analyze "
          }
        },
        "132121db599e47b8aa918ea68c8d15da": {
          "model_module": "@jupyter-widgets/controls",
          "model_name": "DropdownModel",
          "model_module_version": "1.5.0",
          "state": {
            "_dom_classes": [],
            "_model_module": "@jupyter-widgets/controls",
            "_model_module_version": "1.5.0",
            "_model_name": "DropdownModel",
            "_options_labels": [
              "niagara_sample.csv",
              "uoft-canpol/ARCHIVEIT-227-UOFTORONTO-CANPOLPINT-20060622205612-00009-crawling025.csv"
            ],
            "_view_count": null,
            "_view_module": "@jupyter-widgets/controls",
            "_view_module_version": "1.5.0",
            "_view_name": "DropdownView",
            "description": "",
            "description_tooltip": null,
            "disabled": false,
            "index": 0,
            "layout": "IPY_MODEL_8f0f077efb574b5d973940e7bc6a14ba",
            "style": "IPY_MODEL_6fe2122719c54d4a825a0c1135a27e2e"
          }
        },
        "79599e75cb7f4d489936f2c3af7c49f6": {
          "model_module": "@jupyter-widgets/base",
          "model_name": "LayoutModel",
          "model_module_version": "1.2.0",
          "state": {
            "_model_module": "@jupyter-widgets/base",
            "_model_module_version": "1.2.0",
            "_model_name": "LayoutModel",
            "_view_count": null,
            "_view_module": "@jupyter-widgets/base",
            "_view_module_version": "1.2.0",
            "_view_name": "LayoutView",
            "align_content": null,
            "align_items": null,
            "align_self": null,
            "border": null,
            "bottom": null,
            "display": null,
            "flex": null,
            "flex_flow": null,
            "grid_area": null,
            "grid_auto_columns": null,
            "grid_auto_flow": null,
            "grid_auto_rows": null,
            "grid_column": null,
            "grid_gap": null,
            "grid_row": null,
            "grid_template_areas": null,
            "grid_template_columns": null,
            "grid_template_rows": null,
            "height": null,
            "justify_content": null,
            "justify_items": null,
            "left": null,
            "margin": null,
            "max_height": null,
            "max_width": null,
            "min_height": null,
            "min_width": null,
            "object_fit": null,
            "object_position": null,
            "order": null,
            "overflow": null,
            "overflow_x": null,
            "overflow_y": null,
            "padding": null,
            "right": null,
            "top": null,
            "visibility": null,
            "width": null
          }
        },
        "757af073f0184e1dbb7172a69cd00361": {
          "model_module": "@jupyter-widgets/base",
          "model_name": "LayoutModel",
          "model_module_version": "1.2.0",
          "state": {
            "_model_module": "@jupyter-widgets/base",
            "_model_module_version": "1.2.0",
            "_model_name": "LayoutModel",
            "_view_count": null,
            "_view_module": "@jupyter-widgets/base",
            "_view_module_version": "1.2.0",
            "_view_name": "LayoutView",
            "align_content": null,
            "align_items": null,
            "align_self": null,
            "border": null,
            "bottom": null,
            "display": null,
            "flex": null,
            "flex_flow": null,
            "grid_area": null,
            "grid_auto_columns": null,
            "grid_auto_flow": null,
            "grid_auto_rows": null,
            "grid_column": null,
            "grid_gap": null,
            "grid_row": null,
            "grid_template_areas": null,
            "grid_template_columns": null,
            "grid_template_rows": null,
            "height": null,
            "justify_content": null,
            "justify_items": null,
            "left": null,
            "margin": null,
            "max_height": null,
            "max_width": null,
            "min_height": null,
            "min_width": null,
            "object_fit": null,
            "object_position": null,
            "order": null,
            "overflow": null,
            "overflow_x": null,
            "overflow_y": null,
            "padding": null,
            "right": null,
            "top": null,
            "visibility": null,
            "width": null
          }
        },
        "82c75d952e7e491ab199b0125d52810e": {
          "model_module": "@jupyter-widgets/controls",
          "model_name": "DescriptionStyleModel",
          "model_module_version": "1.5.0",
          "state": {
            "_model_module": "@jupyter-widgets/controls",
            "_model_module_version": "1.5.0",
            "_model_name": "DescriptionStyleModel",
            "_view_count": null,
            "_view_module": "@jupyter-widgets/base",
            "_view_module_version": "1.2.0",
            "_view_name": "StyleView",
            "description_width": ""
          }
        },
        "8f0f077efb574b5d973940e7bc6a14ba": {
          "model_module": "@jupyter-widgets/base",
          "model_name": "LayoutModel",
          "model_module_version": "1.2.0",
          "state": {
            "_model_module": "@jupyter-widgets/base",
            "_model_module_version": "1.2.0",
            "_model_name": "LayoutModel",
            "_view_count": null,
            "_view_module": "@jupyter-widgets/base",
            "_view_module_version": "1.2.0",
            "_view_name": "LayoutView",
            "align_content": null,
            "align_items": null,
            "align_self": null,
            "border": null,
            "bottom": null,
            "display": null,
            "flex": null,
            "flex_flow": null,
            "grid_area": null,
            "grid_auto_columns": null,
            "grid_auto_flow": null,
            "grid_auto_rows": null,
            "grid_column": null,
            "grid_gap": null,
            "grid_row": null,
            "grid_template_areas": null,
            "grid_template_columns": null,
            "grid_template_rows": null,
            "height": null,
            "justify_content": null,
            "justify_items": null,
            "left": null,
            "margin": null,
            "max_height": null,
            "max_width": null,
            "min_height": null,
            "min_width": null,
            "object_fit": null,
            "object_position": null,
            "order": null,
            "overflow": null,
            "overflow_x": null,
            "overflow_y": null,
            "padding": null,
            "right": null,
            "top": null,
            "visibility": null,
            "width": null
          }
        },
        "6fe2122719c54d4a825a0c1135a27e2e": {
          "model_module": "@jupyter-widgets/controls",
          "model_name": "DescriptionStyleModel",
          "model_module_version": "1.5.0",
          "state": {
            "_model_module": "@jupyter-widgets/controls",
            "_model_module_version": "1.5.0",
            "_model_name": "DescriptionStyleModel",
            "_view_count": null,
            "_view_module": "@jupyter-widgets/base",
            "_view_module_version": "1.2.0",
            "_view_name": "StyleView",
            "description_width": ""
          }
        },
        "292663b0e7be48e2b9788f6e21c070fb": {
          "model_module": "@jupyter-widgets/controls",
          "model_name": "ButtonModel",
          "model_module_version": "1.5.0",
          "state": {
            "_dom_classes": [],
            "_model_module": "@jupyter-widgets/controls",
            "_model_module_version": "1.5.0",
            "_model_name": "ButtonModel",
            "_view_count": null,
            "_view_module": "@jupyter-widgets/controls",
            "_view_module_version": "1.5.0",
            "_view_name": "ButtonView",
            "button_style": "",
            "description": "Select file",
            "disabled": false,
            "icon": "",
            "layout": "IPY_MODEL_56e4ecdabd5a41588c6f41d59240757c",
            "style": "IPY_MODEL_abf633538e5c466a8b906eb5e94ad4d1",
            "tooltip": ""
          }
        },
        "56e4ecdabd5a41588c6f41d59240757c": {
          "model_module": "@jupyter-widgets/base",
          "model_name": "LayoutModel",
          "model_module_version": "1.2.0",
          "state": {
            "_model_module": "@jupyter-widgets/base",
            "_model_module_version": "1.2.0",
            "_model_name": "LayoutModel",
            "_view_count": null,
            "_view_module": "@jupyter-widgets/base",
            "_view_module_version": "1.2.0",
            "_view_name": "LayoutView",
            "align_content": null,
            "align_items": null,
            "align_self": null,
            "border": null,
            "bottom": null,
            "display": null,
            "flex": null,
            "flex_flow": null,
            "grid_area": null,
            "grid_auto_columns": null,
            "grid_auto_flow": null,
            "grid_auto_rows": null,
            "grid_column": null,
            "grid_gap": null,
            "grid_row": null,
            "grid_template_areas": null,
            "grid_template_columns": null,
            "grid_template_rows": null,
            "height": null,
            "justify_content": null,
            "justify_items": null,
            "left": null,
            "margin": null,
            "max_height": null,
            "max_width": null,
            "min_height": null,
            "min_width": null,
            "object_fit": null,
            "object_position": null,
            "order": null,
            "overflow": null,
            "overflow_x": null,
            "overflow_y": null,
            "padding": null,
            "right": null,
            "top": null,
            "visibility": null,
            "width": null
          }
        },
        "abf633538e5c466a8b906eb5e94ad4d1": {
          "model_module": "@jupyter-widgets/controls",
          "model_name": "ButtonStyleModel",
          "model_module_version": "1.5.0",
          "state": {
            "_model_module": "@jupyter-widgets/controls",
            "_model_module_version": "1.5.0",
            "_model_name": "ButtonStyleModel",
            "_view_count": null,
            "_view_module": "@jupyter-widgets/base",
            "_view_module_version": "1.2.0",
            "_view_name": "StyleView",
            "button_color": null,
            "font_weight": ""
          }
        },
        "da3be667415341cdad3f3b1bae34f456": {
          "model_module": "@jupyter-widgets/controls",
          "model_name": "VBoxModel",
          "model_module_version": "1.5.0",
          "state": {
            "_dom_classes": [],
            "_model_module": "@jupyter-widgets/controls",
            "_model_module_version": "1.5.0",
            "_model_name": "VBoxModel",
            "_view_count": null,
            "_view_module": "@jupyter-widgets/controls",
            "_view_module_version": "1.5.0",
            "_view_name": "VBoxView",
            "box_style": "",
            "children": [
              "IPY_MODEL_a62a641d22bc4054bcef257c9af4808a",
              "IPY_MODEL_1cfdcac2d5c54b55aee5df80e707c1e6",
              "IPY_MODEL_d779eeb1955e4dad84162921914ecaae"
            ],
            "layout": "IPY_MODEL_832b389ee19d4e40abd01864c68294f7"
          }
        },
        "a62a641d22bc4054bcef257c9af4808a": {
          "model_module": "@jupyter-widgets/controls",
          "model_name": "LabelModel",
          "model_module_version": "1.5.0",
          "state": {
            "_dom_classes": [],
            "_model_module": "@jupyter-widgets/controls",
            "_model_module_version": "1.5.0",
            "_model_name": "LabelModel",
            "_view_count": null,
            "_view_module": "@jupyter-widgets/controls",
            "_view_module_version": "1.5.0",
            "_view_name": "LabelView",
            "description": "",
            "description_tooltip": null,
            "layout": "IPY_MODEL_c7780b312e684d9494470aedcf57a097",
            "placeholder": "​",
            "style": "IPY_MODEL_84aaf4522b4d40aaa298431c1a6163d8",
            "value": "Search for entires with 'url' containing the following: "
          }
        },
        "1cfdcac2d5c54b55aee5df80e707c1e6": {
          "model_module": "@jupyter-widgets/controls",
          "model_name": "TextModel",
          "model_module_version": "1.5.0",
          "state": {
            "_dom_classes": [],
            "_model_module": "@jupyter-widgets/controls",
            "_model_module_version": "1.5.0",
            "_model_name": "TextModel",
            "_view_count": null,
            "_view_module": "@jupyter-widgets/controls",
            "_view_module_version": "1.5.0",
            "_view_name": "TextView",
            "continuous_update": true,
            "description": "",
            "description_tooltip": null,
            "disabled": false,
            "layout": "IPY_MODEL_c81b3f0c928846eea3573a474b065930",
            "placeholder": "​",
            "style": "IPY_MODEL_ac64e5e98da843e89a34be5b7d98ce1a",
            "value": ""
          }
        },
        "d779eeb1955e4dad84162921914ecaae": {
          "model_module": "@jupyter-widgets/output",
          "model_name": "OutputModel",
          "model_module_version": "1.0.0",
          "state": {
            "_dom_classes": [],
            "_model_module": "@jupyter-widgets/output",
            "_model_module_version": "1.0.0",
            "_model_name": "OutputModel",
            "_view_count": null,
            "_view_module": "@jupyter-widgets/output",
            "_view_module_version": "1.0.0",
            "_view_name": "OutputView",
            "layout": "IPY_MODEL_3b446deca3b84316b8db5e0be8854c0f",
            "msg_id": "",
            "outputs": [
              {
                "output_type": "display_data",
                "data": {
                  "text/plain": "     crawl_date               domain  \\\n0    2021-02-19               cbc.ca   \n1    2021-02-26        pinterest.com   \n2    2021-01-16            brocku.ca   \n3    2020-12-05              gncc.ca   \n5    2020-08-15          youtube.com   \n...         ...                  ...   \n4990 2020-05-31          youtube.com   \n4993 2020-06-26  niagarathisweek.com   \n4994 2021-01-23            brocku.ca   \n4996 2021-01-16            brocku.ca   \n4997 2020-07-04            brocku.ca   \n\n                                                                                                   url  \\\n0                                                                           https://www.cbc.ca/sitemap   \n1                                                     https://www.pinterest.com/tuocproaudio/cd-audio/   \n2                https://discover.brocku.ca/event-registration/?regevent_action=register&event_id=4303   \n3                                                https://gncc.ca/community-event/autism-awareness-bbq/   \n5                                             https://www.youtube.com/channel/UCrvqj9XJGX3A5WNr7iollYQ   \n...                                                                                                ...   \n4990                                                  https://www.youtube.com/user/CentennialCollegeON   \n4993  https://www.niagarathisweek.com/pagecontainer/1789/?mode=desktop&pskey=1782210716268961459283478   \n4994             https://discover.brocku.ca/event-registration/?regevent_action=register&event_id=3609   \n4996             https://discover.brocku.ca/event-registration/?regevent_action=register&event_id=1574   \n4997                                     https://exhibits.library.brocku.ca/s/COVID-Niagara/media/6022   \n\n     mime_type_web_server mime_type_tika language  \\\n0               text/html      text/html       en   \n1               text/html      text/html       en   \n2               text/html      text/html       en   \n3               text/html      text/html       en   \n5               text/html      text/html       en   \n...                   ...            ...      ...   \n4990            text/html      text/html       en   \n4993            text/html     text/plain       en   \n4994            text/html      text/html       en   \n4996            text/html      text/html       en   \n4997            text/html      text/html       en   \n\n                                                                                                  content  \n0     Skip to Main Content Menu Search Search Sign In Quick Links News Sports Radio Music Listen Live ...  \n1     CD audio CD audio Collection by THÙNG LOA ĐẸP 12 Pins • 13 Followers junk room Dit item is niet ...  \n2     Register for events – Discover Brock University Skip to search Skip to this site's menu Skip to ...  \n3     Autism Awareness BBQ - Greater Niagara Chamber of Commerce COVID-19 COVID-19 Latest News COVID-1...  \n5     About Press Copyright Contact us Creators Advertise Developers Terms Privacy Policy & Safety How...  \n...                                                                                                   ...  \n4990  Centennial College  - YouTube Skip navigation Sign in Search Centennial College Videos Playlists...  \n4993  YOU MIGHT BE INTERESTED IN... News All healthcare workers deserve pandemic pay:... News Port Col...  \n4994  Register for events – Discover Brock University Skip to search Skip to this site's menu Skip to ...  \n4996  Register for events – Discover Brock University Skip to search Skip to this site's menu Skip to ...  \n4997  5E4A65F3-8372-4192-912D-0F8D9C45CEAE.jpeg · Documenting COVID-19 in Niagara · Brock University L...  \n\n[4104 rows x 7 columns]",
                  "text/html": "\n  <div id=\"df-71d094bf-1617-481a-9dd6-b1c14457a605\">\n    <div class=\"colab-df-container\">\n      <div>\n<style scoped>\n    .dataframe tbody tr th:only-of-type {\n        vertical-align: middle;\n    }\n\n    .dataframe tbody tr th {\n        vertical-align: top;\n    }\n\n    .dataframe thead th {\n        text-align: right;\n    }\n</style>\n<table border=\"1\" class=\"dataframe\">\n  <thead>\n    <tr style=\"text-align: right;\">\n      <th></th>\n      <th>crawl_date</th>\n      <th>domain</th>\n      <th>url</th>\n      <th>mime_type_web_server</th>\n      <th>mime_type_tika</th>\n      <th>language</th>\n      <th>content</th>\n    </tr>\n  </thead>\n  <tbody>\n    <tr>\n      <th>0</th>\n      <td>2021-02-19</td>\n      <td>cbc.ca</td>\n      <td>https://www.cbc.ca/sitemap</td>\n      <td>text/html</td>\n      <td>text/html</td>\n      <td>en</td>\n      <td>Skip to Main Content Menu Search Search Sign In Quick Links News Sports Radio Music Listen Live ...</td>\n    </tr>\n    <tr>\n      <th>1</th>\n      <td>2021-02-26</td>\n      <td>pinterest.com</td>\n      <td>https://www.pinterest.com/tuocproaudio/cd-audio/</td>\n      <td>text/html</td>\n      <td>text/html</td>\n      <td>en</td>\n      <td>CD audio CD audio Collection by THÙNG LOA ĐẸP 12 Pins • 13 Followers junk room Dit item is niet ...</td>\n    </tr>\n    <tr>\n      <th>2</th>\n      <td>2021-01-16</td>\n      <td>brocku.ca</td>\n      <td>https://discover.brocku.ca/event-registration/?regevent_action=register&amp;event_id=4303</td>\n      <td>text/html</td>\n      <td>text/html</td>\n      <td>en</td>\n      <td>Register for events – Discover Brock University Skip to search Skip to this site's menu Skip to ...</td>\n    </tr>\n    <tr>\n      <th>3</th>\n      <td>2020-12-05</td>\n      <td>gncc.ca</td>\n      <td>https://gncc.ca/community-event/autism-awareness-bbq/</td>\n      <td>text/html</td>\n      <td>text/html</td>\n      <td>en</td>\n      <td>Autism Awareness BBQ - Greater Niagara Chamber of Commerce COVID-19 COVID-19 Latest News COVID-1...</td>\n    </tr>\n    <tr>\n      <th>5</th>\n      <td>2020-08-15</td>\n      <td>youtube.com</td>\n      <td>https://www.youtube.com/channel/UCrvqj9XJGX3A5WNr7iollYQ</td>\n      <td>text/html</td>\n      <td>text/html</td>\n      <td>en</td>\n      <td>About Press Copyright Contact us Creators Advertise Developers Terms Privacy Policy &amp; Safety How...</td>\n    </tr>\n    <tr>\n      <th>...</th>\n      <td>...</td>\n      <td>...</td>\n      <td>...</td>\n      <td>...</td>\n      <td>...</td>\n      <td>...</td>\n      <td>...</td>\n    </tr>\n    <tr>\n      <th>4990</th>\n      <td>2020-05-31</td>\n      <td>youtube.com</td>\n      <td>https://www.youtube.com/user/CentennialCollegeON</td>\n      <td>text/html</td>\n      <td>text/html</td>\n      <td>en</td>\n      <td>Centennial College  - YouTube Skip navigation Sign in Search Centennial College Videos Playlists...</td>\n    </tr>\n    <tr>\n      <th>4993</th>\n      <td>2020-06-26</td>\n      <td>niagarathisweek.com</td>\n      <td>https://www.niagarathisweek.com/pagecontainer/1789/?mode=desktop&amp;pskey=1782210716268961459283478</td>\n      <td>text/html</td>\n      <td>text/plain</td>\n      <td>en</td>\n      <td>YOU MIGHT BE INTERESTED IN... News All healthcare workers deserve pandemic pay:... News Port Col...</td>\n    </tr>\n    <tr>\n      <th>4994</th>\n      <td>2021-01-23</td>\n      <td>brocku.ca</td>\n      <td>https://discover.brocku.ca/event-registration/?regevent_action=register&amp;event_id=3609</td>\n      <td>text/html</td>\n      <td>text/html</td>\n      <td>en</td>\n      <td>Register for events – Discover Brock University Skip to search Skip to this site's menu Skip to ...</td>\n    </tr>\n    <tr>\n      <th>4996</th>\n      <td>2021-01-16</td>\n      <td>brocku.ca</td>\n      <td>https://discover.brocku.ca/event-registration/?regevent_action=register&amp;event_id=1574</td>\n      <td>text/html</td>\n      <td>text/html</td>\n      <td>en</td>\n      <td>Register for events – Discover Brock University Skip to search Skip to this site's menu Skip to ...</td>\n    </tr>\n    <tr>\n      <th>4997</th>\n      <td>2020-07-04</td>\n      <td>brocku.ca</td>\n      <td>https://exhibits.library.brocku.ca/s/COVID-Niagara/media/6022</td>\n      <td>text/html</td>\n      <td>text/html</td>\n      <td>en</td>\n      <td>5E4A65F3-8372-4192-912D-0F8D9C45CEAE.jpeg · Documenting COVID-19 in Niagara · Brock University L...</td>\n    </tr>\n  </tbody>\n</table>\n<p>4104 rows × 7 columns</p>\n</div>\n      <button class=\"colab-df-convert\" onclick=\"convertToInteractive('df-71d094bf-1617-481a-9dd6-b1c14457a605')\"\n              title=\"Convert this dataframe to an interactive table.\"\n              style=\"display:none;\">\n        \n  <svg xmlns=\"http://www.w3.org/2000/svg\" height=\"24px\"viewBox=\"0 0 24 24\"\n       width=\"24px\">\n    <path d=\"M0 0h24v24H0V0z\" fill=\"none\"/>\n    <path d=\"M18.56 5.44l.94 2.06.94-2.06 2.06-.94-2.06-.94-.94-2.06-.94 2.06-2.06.94zm-11 1L8.5 8.5l.94-2.06 2.06-.94-2.06-.94L8.5 2.5l-.94 2.06-2.06.94zm10 10l.94 2.06.94-2.06 2.06-.94-2.06-.94-.94-2.06-.94 2.06-2.06.94z\"/><path d=\"M17.41 7.96l-1.37-1.37c-.4-.4-.92-.59-1.43-.59-.52 0-1.04.2-1.43.59L10.3 9.45l-7.72 7.72c-.78.78-.78 2.05 0 2.83L4 21.41c.39.39.9.59 1.41.59.51 0 1.02-.2 1.41-.59l7.78-7.78 2.81-2.81c.8-.78.8-2.07 0-2.86zM5.41 20L4 18.59l7.72-7.72 1.47 1.35L5.41 20z\"/>\n  </svg>\n      </button>\n      \n  <style>\n    .colab-df-container {\n      display:flex;\n      flex-wrap:wrap;\n      gap: 12px;\n    }\n\n    .colab-df-convert {\n      background-color: #E8F0FE;\n      border: none;\n      border-radius: 50%;\n      cursor: pointer;\n      display: none;\n      fill: #1967D2;\n      height: 32px;\n      padding: 0 0 0 0;\n      width: 32px;\n    }\n\n    .colab-df-convert:hover {\n      background-color: #E2EBFA;\n      box-shadow: 0px 1px 2px rgba(60, 64, 67, 0.3), 0px 1px 3px 1px rgba(60, 64, 67, 0.15);\n      fill: #174EA6;\n    }\n\n    [theme=dark] .colab-df-convert {\n      background-color: #3B4455;\n      fill: #D2E3FC;\n    }\n\n    [theme=dark] .colab-df-convert:hover {\n      background-color: #434B5C;\n      box-shadow: 0px 1px 3px 1px rgba(0, 0, 0, 0.15);\n      filter: drop-shadow(0px 1px 2px rgba(0, 0, 0, 0.3));\n      fill: #FFFFFF;\n    }\n  </style>\n\n      <script>\n        const buttonEl =\n          document.querySelector('#df-71d094bf-1617-481a-9dd6-b1c14457a605 button.colab-df-convert');\n        buttonEl.style.display =\n          google.colab.kernel.accessAllowed ? 'block' : 'none';\n\n        async function convertToInteractive(key) {\n          const element = document.querySelector('#df-71d094bf-1617-481a-9dd6-b1c14457a605');\n          const dataTable =\n            await google.colab.kernel.invokeFunction('convertToInteractive',\n                                                     [key], {});\n          if (!dataTable) return;\n\n          const docLinkHtml = 'Like what you see? Visit the ' +\n            '<a target=\"_blank\" href=https://colab.research.google.com/notebooks/data_table.ipynb>data table notebook</a>'\n            + ' to learn more about interactive tables.';\n          element.innerHTML = '';\n          dataTable['output_type'] = 'display_data';\n          await google.colab.output.renderOutput(dataTable, element);\n          const docLink = document.createElement('div');\n          docLink.innerHTML = docLinkHtml;\n          element.appendChild(docLink);\n        }\n      </script>\n    </div>\n  </div>\n  "
                },
                "metadata": {}
              }
            ]
          }
        },
        "832b389ee19d4e40abd01864c68294f7": {
          "model_module": "@jupyter-widgets/base",
          "model_name": "LayoutModel",
          "model_module_version": "1.2.0",
          "state": {
            "_model_module": "@jupyter-widgets/base",
            "_model_module_version": "1.2.0",
            "_model_name": "LayoutModel",
            "_view_count": null,
            "_view_module": "@jupyter-widgets/base",
            "_view_module_version": "1.2.0",
            "_view_name": "LayoutView",
            "align_content": null,
            "align_items": null,
            "align_self": null,
            "border": null,
            "bottom": null,
            "display": null,
            "flex": null,
            "flex_flow": null,
            "grid_area": null,
            "grid_auto_columns": null,
            "grid_auto_flow": null,
            "grid_auto_rows": null,
            "grid_column": null,
            "grid_gap": null,
            "grid_row": null,
            "grid_template_areas": null,
            "grid_template_columns": null,
            "grid_template_rows": null,
            "height": null,
            "justify_content": null,
            "justify_items": null,
            "left": null,
            "margin": null,
            "max_height": null,
            "max_width": null,
            "min_height": null,
            "min_width": null,
            "object_fit": null,
            "object_position": null,
            "order": null,
            "overflow": null,
            "overflow_x": null,
            "overflow_y": null,
            "padding": null,
            "right": null,
            "top": null,
            "visibility": null,
            "width": null
          }
        },
        "c7780b312e684d9494470aedcf57a097": {
          "model_module": "@jupyter-widgets/base",
          "model_name": "LayoutModel",
          "model_module_version": "1.2.0",
          "state": {
            "_model_module": "@jupyter-widgets/base",
            "_model_module_version": "1.2.0",
            "_model_name": "LayoutModel",
            "_view_count": null,
            "_view_module": "@jupyter-widgets/base",
            "_view_module_version": "1.2.0",
            "_view_name": "LayoutView",
            "align_content": null,
            "align_items": null,
            "align_self": null,
            "border": null,
            "bottom": null,
            "display": null,
            "flex": null,
            "flex_flow": null,
            "grid_area": null,
            "grid_auto_columns": null,
            "grid_auto_flow": null,
            "grid_auto_rows": null,
            "grid_column": null,
            "grid_gap": null,
            "grid_row": null,
            "grid_template_areas": null,
            "grid_template_columns": null,
            "grid_template_rows": null,
            "height": null,
            "justify_content": null,
            "justify_items": null,
            "left": null,
            "margin": null,
            "max_height": null,
            "max_width": null,
            "min_height": null,
            "min_width": null,
            "object_fit": null,
            "object_position": null,
            "order": null,
            "overflow": null,
            "overflow_x": null,
            "overflow_y": null,
            "padding": null,
            "right": null,
            "top": null,
            "visibility": null,
            "width": null
          }
        },
        "84aaf4522b4d40aaa298431c1a6163d8": {
          "model_module": "@jupyter-widgets/controls",
          "model_name": "DescriptionStyleModel",
          "model_module_version": "1.5.0",
          "state": {
            "_model_module": "@jupyter-widgets/controls",
            "_model_module_version": "1.5.0",
            "_model_name": "DescriptionStyleModel",
            "_view_count": null,
            "_view_module": "@jupyter-widgets/base",
            "_view_module_version": "1.2.0",
            "_view_name": "StyleView",
            "description_width": ""
          }
        },
        "c81b3f0c928846eea3573a474b065930": {
          "model_module": "@jupyter-widgets/base",
          "model_name": "LayoutModel",
          "model_module_version": "1.2.0",
          "state": {
            "_model_module": "@jupyter-widgets/base",
            "_model_module_version": "1.2.0",
            "_model_name": "LayoutModel",
            "_view_count": null,
            "_view_module": "@jupyter-widgets/base",
            "_view_module_version": "1.2.0",
            "_view_name": "LayoutView",
            "align_content": null,
            "align_items": null,
            "align_self": null,
            "border": null,
            "bottom": null,
            "display": null,
            "flex": null,
            "flex_flow": null,
            "grid_area": null,
            "grid_auto_columns": null,
            "grid_auto_flow": null,
            "grid_auto_rows": null,
            "grid_column": null,
            "grid_gap": null,
            "grid_row": null,
            "grid_template_areas": null,
            "grid_template_columns": null,
            "grid_template_rows": null,
            "height": null,
            "justify_content": null,
            "justify_items": null,
            "left": null,
            "margin": null,
            "max_height": null,
            "max_width": null,
            "min_height": null,
            "min_width": null,
            "object_fit": null,
            "object_position": null,
            "order": null,
            "overflow": null,
            "overflow_x": null,
            "overflow_y": null,
            "padding": null,
            "right": null,
            "top": null,
            "visibility": null,
            "width": null
          }
        },
        "ac64e5e98da843e89a34be5b7d98ce1a": {
          "model_module": "@jupyter-widgets/controls",
          "model_name": "DescriptionStyleModel",
          "model_module_version": "1.5.0",
          "state": {
            "_model_module": "@jupyter-widgets/controls",
            "_model_module_version": "1.5.0",
            "_model_name": "DescriptionStyleModel",
            "_view_count": null,
            "_view_module": "@jupyter-widgets/base",
            "_view_module_version": "1.2.0",
            "_view_name": "StyleView",
            "description_width": ""
          }
        },
        "3b446deca3b84316b8db5e0be8854c0f": {
          "model_module": "@jupyter-widgets/base",
          "model_name": "LayoutModel",
          "model_module_version": "1.2.0",
          "state": {
            "_model_module": "@jupyter-widgets/base",
            "_model_module_version": "1.2.0",
            "_model_name": "LayoutModel",
            "_view_count": null,
            "_view_module": "@jupyter-widgets/base",
            "_view_module_version": "1.2.0",
            "_view_name": "LayoutView",
            "align_content": null,
            "align_items": null,
            "align_self": null,
            "border": null,
            "bottom": null,
            "display": null,
            "flex": null,
            "flex_flow": null,
            "grid_area": null,
            "grid_auto_columns": null,
            "grid_auto_flow": null,
            "grid_auto_rows": null,
            "grid_column": null,
            "grid_gap": null,
            "grid_row": null,
            "grid_template_areas": null,
            "grid_template_columns": null,
            "grid_template_rows": null,
            "height": null,
            "justify_content": null,
            "justify_items": null,
            "left": null,
            "margin": null,
            "max_height": null,
            "max_width": null,
            "min_height": null,
            "min_width": null,
            "object_fit": null,
            "object_position": null,
            "order": null,
            "overflow": null,
            "overflow_x": null,
            "overflow_y": null,
            "padding": null,
            "right": null,
            "top": null,
            "visibility": null,
            "width": null
          }
        }
      }
    }
  },
  "cells": [
    {
      "cell_type": "markdown",
      "source": [
        "# Token Frequency Visualization - Word Clouds \n",
        "\n"
      ],
      "metadata": {
        "id": "mfMvzdQEBQrN"
      }
    },
    {
      "cell_type": "markdown",
      "source": [
        "## Mount Google Drive\n",
        "In order to persist working files/data across multiple runs of the notebook. "
      ],
      "metadata": {
        "id": "qEawqwsuBZJi"
      }
    },
    {
      "cell_type": "code",
      "execution_count": 17,
      "metadata": {
        "colab": {
          "base_uri": "https://localhost:8080/"
        },
        "id": "pi953VF7BP7m",
        "outputId": "ab4ea2c4-6670-4a82-91a7-9782a390b776"
      },
      "outputs": [
        {
          "output_type": "stream",
          "name": "stdout",
          "text": [
            "Drive already mounted at /content/drive; to attempt to forcibly remount, call drive.mount(\"/content/drive\", force_remount=True).\n"
          ]
        }
      ],
      "source": [
        "from google.colab import drive\n",
        "drive.mount(\"/content/drive\")"
      ]
    },
    {
      "cell_type": "markdown",
      "source": [
        "## Load AOYTK\n",
        "Downloads and imports the All Our Yesterdays Toolkit "
      ],
      "metadata": {
        "id": "py18s1wJBoo7"
      }
    },
    {
      "cell_type": "code",
      "source": [
        "#!wget \"https://raw.githubusercontent.com/BrockDSL/AOYTK/SL/aoytk.py\"\n",
        "import aoytk"
      ],
      "metadata": {
        "id": "jnU44S1_Bkc4"
      },
      "execution_count": 5,
      "outputs": []
    },
    {
      "cell_type": "markdown",
      "source": [
        "## Download and Install Dependencies\n",
        "These are dependencies specific to Word Cloud creation. "
      ],
      "metadata": {
        "id": "6Uyv82BYcEUt"
      }
    },
    {
      "cell_type": "code",
      "source": [
        "!pip install spacy==3.2.0\n",
        "!python -m spacy download en_core_web_md"
      ],
      "metadata": {
        "id": "thOdRFZUEmZR"
      },
      "execution_count": null,
      "outputs": []
    },
    {
      "cell_type": "code",
      "source": [
        "import spacy \n",
        "from wordcloud import WordCloud"
      ],
      "metadata": {
        "id": "eoheV2QXEjGd"
      },
      "execution_count": 5,
      "outputs": []
    },
    {
      "cell_type": "markdown",
      "source": [
        "## Set Working Directory\n",
        "Select a working folder for reading and writing data. By default, this path will be set to `/content/drive/MyDrive/AOY/`. "
      ],
      "metadata": {
        "id": "2Bbp0-ZgBrLJ"
      }
    },
    {
      "cell_type": "code",
      "source": [
        "  aoytk.display_path_select()"
      ],
      "metadata": {
        "colab": {
          "base_uri": "https://localhost:8080/",
          "height": 81,
          "referenced_widgets": [
            "c38004c0a70f4b2b99e8f95d551452fe",
            "343c483002514f158b1dab2d18d06768",
            "dd47df034c92488486a56bea93cbe235",
            "dd7ee9da5ee846ffb47ea87287ba7b2e",
            "2269afe837944f65ac16c63aa93dd12b",
            "8d90e14c6fd94a02bee631a4e0decdb5"
          ]
        },
        "id": "GvseZdCoBs5Y",
        "outputId": "e494b362-ea60-4be2-ed4b-7b6afa70e049"
      },
      "execution_count": 2,
      "outputs": [
        {
          "output_type": "display_data",
          "data": {
            "text/plain": [
              "Text(value='/content/drive/MyDrive/AOY/', description='Folder path:', placeholder='Enter your folder path')"
            ],
            "application/vnd.jupyter.widget-view+json": {
              "version_major": 2,
              "version_minor": 0,
              "model_id": "c38004c0a70f4b2b99e8f95d551452fe"
            }
          },
          "metadata": {}
        },
        {
          "output_type": "display_data",
          "data": {
            "text/plain": [
              "Button(description='Submit', style=ButtonStyle())"
            ],
            "application/vnd.jupyter.widget-view+json": {
              "version_major": 2,
              "version_minor": 0,
              "model_id": "dd7ee9da5ee846ffb47ea87287ba7b2e"
            }
          },
          "metadata": {}
        }
      ]
    },
    {
      "cell_type": "markdown",
      "source": [
        "# Token Frequency Analysis\n",
        "## Word Clouds\n",
        "\n",
        "* add info / resource links about basic frequency analysis\n",
        "* add info / resource links about TF-IDF\n",
        "\n"
      ],
      "metadata": {
        "id": "iTkg8BzPCFDf"
      }
    },
    {
      "cell_type": "code",
      "source": [
        "atk = aoytk.Analyzer()"
      ],
      "metadata": {
        "id": "50ytL0xSFhv5"
      },
      "execution_count": 6,
      "outputs": []
    },
    {
      "cell_type": "code",
      "source": [
        "atk.load_data()"
      ],
      "metadata": {
        "colab": {
          "base_uri": "https://localhost:8080/",
          "height": 116,
          "referenced_widgets": [
            "a31aec18540b4a7eb75a13f39c013443",
            "255565086dcd44eb872fefe1efe0c1c9",
            "132121db599e47b8aa918ea68c8d15da",
            "79599e75cb7f4d489936f2c3af7c49f6",
            "757af073f0184e1dbb7172a69cd00361",
            "82c75d952e7e491ab199b0125d52810e",
            "8f0f077efb574b5d973940e7bc6a14ba",
            "6fe2122719c54d4a825a0c1135a27e2e",
            "292663b0e7be48e2b9788f6e21c070fb",
            "56e4ecdabd5a41588c6f41d59240757c",
            "abf633538e5c466a8b906eb5e94ad4d1"
          ]
        },
        "id": "es-zferqFknh",
        "outputId": "060af2b9-82df-4525-91b3-19f497dcafc6"
      },
      "execution_count": 7,
      "outputs": [
        {
          "output_type": "display_data",
          "data": {
            "text/plain": [
              "HBox(children=(Label(value='Derivative file to analyze '), Dropdown(options=('niagara_sample.csv', 'uoft-canpo…"
            ],
            "application/vnd.jupyter.widget-view+json": {
              "version_major": 2,
              "version_minor": 0,
              "model_id": "a31aec18540b4a7eb75a13f39c013443"
            }
          },
          "metadata": {}
        },
        {
          "output_type": "display_data",
          "data": {
            "text/plain": [
              "Button(description='Select file', style=ButtonStyle())"
            ],
            "application/vnd.jupyter.widget-view+json": {
              "version_major": 2,
              "version_minor": 0,
              "model_id": "292663b0e7be48e2b9788f6e21c070fb"
            }
          },
          "metadata": {}
        },
        {
          "output_type": "stream",
          "name": "stdout",
          "text": [
            "Loading data...\n",
            "Data loaded from: /content/drive/MyDrive/AOY//niagara_sample.csv\n"
          ]
        }
      ]
    },
    {
      "cell_type": "code",
      "source": [
        "atk.display_search()"
      ],
      "metadata": {
        "colab": {
          "base_uri": "https://localhost:8080/",
          "height": 1000,
          "referenced_widgets": [
            "da3be667415341cdad3f3b1bae34f456",
            "a62a641d22bc4054bcef257c9af4808a",
            "1cfdcac2d5c54b55aee5df80e707c1e6",
            "d779eeb1955e4dad84162921914ecaae",
            "832b389ee19d4e40abd01864c68294f7",
            "c7780b312e684d9494470aedcf57a097",
            "84aaf4522b4d40aaa298431c1a6163d8",
            "c81b3f0c928846eea3573a474b065930",
            "ac64e5e98da843e89a34be5b7d98ce1a",
            "3b446deca3b84316b8db5e0be8854c0f"
          ]
        },
        "id": "LntTbHWkNaG3",
        "outputId": "f313608c-f6cf-4e06-c1ab-576dafc57378"
      },
      "execution_count": 8,
      "outputs": [
        {
          "output_type": "display_data",
          "data": {
            "text/plain": [
              "VBox(children=(Label(value=\"Search for entires with 'url' containing the following: \"), Text(value=''), Output…"
            ],
            "application/vnd.jupyter.widget-view+json": {
              "version_major": 2,
              "version_minor": 0,
              "model_id": "da3be667415341cdad3f3b1bae34f456"
            }
          },
          "metadata": {}
        }
      ]
    },
    {
      "cell_type": "code",
      "source": [
        "# select pages by URL"
      ],
      "metadata": {
        "id": "Nknf6KB4YoWk"
      },
      "execution_count": 12,
      "outputs": []
    },
    {
      "cell_type": "code",
      "source": [
        "# preprocess the text -- remove stopwords "
      ],
      "metadata": {
        "id": "MnoHMli4CdqQ"
      },
      "execution_count": null,
      "outputs": []
    },
    {
      "cell_type": "code",
      "source": [
        "# create the raw frequency dict"
      ],
      "metadata": {
        "id": "yMqoyblyCicM"
      },
      "execution_count": null,
      "outputs": []
    }
  ]
}