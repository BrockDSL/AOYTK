{
  "cells": [
    {
      "cell_type": "markdown",
      "metadata": {
        "id": "mfMvzdQEBQrN"
      },
      "source": [
        "# Token Frequency Visualization - Word Clouds \n",
        "\n"
      ]
    },
    {
      "cell_type": "markdown",
      "metadata": {
        "id": "qEawqwsuBZJi"
      },
      "source": [
        "## Mount Google Drive\n",
        "In order to persist working files/data across multiple runs of the notebook. "
      ]
    },
    {
      "cell_type": "code",
      "execution_count": 1,
      "metadata": {
        "colab": {
          "base_uri": "https://localhost:8080/"
        },
        "id": "pi953VF7BP7m",
        "outputId": "fdc82f08-eca0-42a8-bdf1-45db67de1bc7"
      },
      "outputs": [
        {
          "name": "stdout",
          "output_type": "stream",
          "text": [
            "Mounted at /content/drive\n"
          ]
        }
      ],
      "source": [
        "from google.colab import drive\n",
        "drive.mount(\"/content/drive\")"
      ]
    },
    {
      "cell_type": "markdown",
      "metadata": {
        "id": "py18s1wJBoo7"
      },
      "source": [
        "## Load AOYTK\n",
        "Downloads and imports the All Our Yesterdays Toolkit "
      ]
    },
    {
      "cell_type": "code",
      "execution_count": 1,
      "metadata": {
        "id": "jnU44S1_Bkc4"
      },
      "outputs": [],
      "source": [
        "!wget \"https://raw.githubusercontent.com/BrockDSL/AOYTK/main/aoytk.py\"\n",
        "import aoytk"
      ]
    },
    {
      "cell_type": "markdown",
      "metadata": {
        "id": "6Uyv82BYcEUt"
      },
      "source": [
        "## Download and Install Dependencies\n",
        "These are dependencies specific to Word Cloud creation. "
      ]
    },
    {
      "cell_type": "code",
      "execution_count": null,
      "metadata": {
        "id": "thOdRFZUEmZR"
      },
      "outputs": [],
      "source": [
        "!pip install spacy==3.2.0\n",
        "!python -m spacy download en_core_web_md"
      ]
    },
    {
      "cell_type": "markdown",
      "metadata": {
        "id": "2Bbp0-ZgBrLJ"
      },
      "source": [
        "## Set Working Directory\n",
        "Select a working folder for reading and writing data. By default, this path will be set to `/content/drive/MyDrive/AOY/`. "
      ]
    },
    {
      "cell_type": "code",
      "execution_count": 2,
      "metadata": {
        "colab": {
          "base_uri": "https://localhost:8080/",
          "height": 81,
          "referenced_widgets": [
            "555da49a4c584a68841d97fa5f3d665a",
            "1b2ad05b25c04372854f9ad4fef39457",
            "9324ca1a115e4714aa010a7ec99aa3ed",
            "056f6f4fb1074bf3ae3d9ad0715e7d36",
            "2174e1d5c38648339478b5a836b77ba5",
            "812f962fef0e452496c95e85e8e90e24"
          ]
        },
        "id": "GvseZdCoBs5Y",
        "outputId": "3ac91246-bdb8-4e34-80e5-db40cdceee3a"
      },
      "outputs": [
        {
          "data": {
            "application/vnd.jupyter.widget-view+json": {
              "model_id": "555da49a4c584a68841d97fa5f3d665a",
              "version_major": 2,
              "version_minor": 0
            },
            "text/plain": [
              "Text(value='/content/drive/MyDrive/AOY/', description='Folder path:', placeholder='Enter your folder path')"
            ]
          },
          "metadata": {},
          "output_type": "display_data"
        },
        {
          "data": {
            "application/vnd.jupyter.widget-view+json": {
              "model_id": "056f6f4fb1074bf3ae3d9ad0715e7d36",
              "version_major": 2,
              "version_minor": 0
            },
            "text/plain": [
              "Button(description='Submit', style=ButtonStyle())"
            ]
          },
          "metadata": {},
          "output_type": "display_data"
        }
      ],
      "source": [
        "aoytk.display_path_select()"
      ]
    },
    {
      "cell_type": "markdown",
      "metadata": {
        "id": "iTkg8BzPCFDf"
      },
      "source": [
        "# Token Frequency Analysis\n",
        "## Word Clouds\n",
        "\n",
        "* add info / resource links about basic frequency analysis\n",
        "* add info / resource links about TF-IDF\n",
        "\n"
      ]
    },
    {
      "cell_type": "code",
      "execution_count": 3,
      "metadata": {
        "id": "50ytL0xSFhv5"
      },
      "outputs": [],
      "source": [
        "atk = aoytk.Analyzer()"
      ]
    },
    {
      "cell_type": "code",
      "execution_count": 4,
      "metadata": {
        "colab": {
          "base_uri": "https://localhost:8080/",
          "height": 116,
          "referenced_widgets": [
            "cbd6171ae8184300974ca6988df5f76a",
            "03daf94dd3fc4fddbfd57ef626d54b49",
            "feae0022c93143f3a019872527a7568e",
            "0cf3a4c8106e4ba9a6d9174ee28df552",
            "90f48fe4959946c79752705657a402d5",
            "a96f60216d6448f0a5fbbf4edd31d253",
            "1c7335fe083b4bf39a68338601db0d97",
            "0aef0db6626b4584bab707b6a04a35e9",
            "924457ca9fb14fb7a8955bd7e9bb600f",
            "0c0044e29e124b90a9d4815255d38638",
            "60867adce4db45c88b5ba951acc6d1b9"
          ]
        },
        "id": "es-zferqFknh",
        "outputId": "f0fc9713-34ab-4e74-89fb-98ff8a336b27"
      },
      "outputs": [
        {
          "data": {
            "application/vnd.jupyter.widget-view+json": {
              "model_id": "cbd6171ae8184300974ca6988df5f76a",
              "version_major": 2,
              "version_minor": 0
            },
            "text/plain": [
              "HBox(children=(Label(value='Derivative file to analyze '), Dropdown(options=('niagara_sample.csv', 'uoft-canpo…"
            ]
          },
          "metadata": {},
          "output_type": "display_data"
        },
        {
          "data": {
            "application/vnd.jupyter.widget-view+json": {
              "model_id": "924457ca9fb14fb7a8955bd7e9bb600f",
              "version_major": 2,
              "version_minor": 0
            },
            "text/plain": [
              "Button(description='Select file', style=ButtonStyle())"
            ]
          },
          "metadata": {},
          "output_type": "display_data"
        },
        {
          "name": "stdout",
          "output_type": "stream",
          "text": [
            "Loading data...\n",
            "Data loaded from: /content/drive/MyDrive/AOY//niagara_sample.csv\n"
          ]
        }
      ],
      "source": [
        "atk.load_data()"
      ]
    },
    {
      "cell_type": "code",
      "execution_count": 5,
      "metadata": {
        "colab": {
          "base_uri": "https://localhost:8080/",
          "height": 534,
          "referenced_widgets": [
            "8f267499448c4225a21edbdff9e80da0",
            "4b8b43141bbb4d0b9679139ca74da794",
            "b2ef257073ff498980fa6f39778b21d0",
            "8ee186e72dc54f8eb860be1c9759baf4",
            "e9959218e7ac4496ba823fa4a382da2a",
            "42bcd44975744ed7ac994e91bdbd126d",
            "ae877914308b4130a9945368271f8a9b",
            "642e708d83384fdebf562bd52b27330b",
            "ca93939aecca4ee9843f7ada46d74263",
            "a56927209d354e4cbe635cb774b71ce1",
            "4b98591136ec45d3ae3c7c916ed62b8a",
            "561446086e584fe294458e6b55c0cb9a",
            "27f0dbc22ae64128a6fb6145ca67d79a",
            "8dfa3ac51a1b42a0a85339a192a41156",
            "bf5cc5067dcd41cf9929180d28aaacf0",
            "0c65240251ef4a0d92f8905904735184",
            "12a621a22d2241d48d36497d7410a98e",
            "ee1bc15763bd4ea4a5106f093e8b971a",
            "7d5136e49c72431d84c83431f0813e5f",
            "09279da4184c4fa7a36a0ad16778c449",
            "79430e5ec0264e9e9e7366bbecefdc93"
          ]
        },
        "id": "g4b9qJ3fck6f",
        "outputId": "02ff1300-6a6b-4c0d-ef8d-2bd5395d7735"
      },
      "outputs": [
        {
          "data": {
            "application/vnd.jupyter.widget-view+json": {
              "model_id": "8f267499448c4225a21edbdff9e80da0",
              "version_major": 2,
              "version_minor": 0
            },
            "text/plain": [
              "Dropdown(description='Domain: ', options=('brocku.ca', 'twitter.com', 'youtube.com', 'gncc.ca', 'portcolborne.…"
            ]
          },
          "metadata": {},
          "output_type": "display_data"
        },
        {
          "data": {
            "application/vnd.jupyter.widget-view+json": {
              "model_id": "8ee186e72dc54f8eb860be1c9759baf4",
              "version_major": 2,
              "version_minor": 0
            },
            "text/plain": [
              "Dropdown(description='URL:', options=('https://discover.brocku.ca/event-registration/?regevent_action=register…"
            ]
          },
          "metadata": {},
          "output_type": "display_data"
        },
        {
          "data": {
            "application/vnd.jupyter.widget-view+json": {
              "model_id": "ae877914308b4130a9945368271f8a9b",
              "version_major": 2,
              "version_minor": 0
            },
            "text/plain": [
              "Dropdown(description='Crawl date:', options=(datetime.date(2021, 1, 16), datetime.date(2021, 2, 13)), value=da…"
            ]
          },
          "metadata": {},
          "output_type": "display_data"
        },
        {
          "data": {
            "application/vnd.jupyter.widget-view+json": {
              "model_id": "a56927209d354e4cbe635cb774b71ce1",
              "version_major": 2,
              "version_minor": 0
            },
            "text/plain": [
              "Label(value='Text preprocessing options: ')"
            ]
          },
          "metadata": {},
          "output_type": "display_data"
        },
        {
          "data": {
            "application/vnd.jupyter.widget-view+json": {
              "model_id": "27f0dbc22ae64128a6fb6145ca67d79a",
              "version_major": 2,
              "version_minor": 0
            },
            "text/plain": [
              "Checkbox(value=False, description='Remove punctation')"
            ]
          },
          "metadata": {},
          "output_type": "display_data"
        },
        {
          "data": {
            "application/vnd.jupyter.widget-view+json": {
              "model_id": "0c65240251ef4a0d92f8905904735184",
              "version_major": 2,
              "version_minor": 0
            },
            "text/plain": [
              "Checkbox(value=False, description='Remove stopwords')"
            ]
          },
          "metadata": {},
          "output_type": "display_data"
        },
        {
          "data": {
            "application/vnd.jupyter.widget-view+json": {
              "model_id": "7d5136e49c72431d84c83431f0813e5f",
              "version_major": 2,
              "version_minor": 0
            },
            "text/plain": [
              "Button(description='Create Word Cloud', style=ButtonStyle())"
            ]
          },
          "metadata": {},
          "output_type": "display_data"
        },
        {
          "name": "stdout",
          "output_type": "stream",
          "text": [
            "Processing data... (this may take a few minutes)\n",
            "Creating Word Cloud ... \n"
          ]
        },
        {
          "data": {
            "image/png": "[encoded data removed]",
            "text/plain": [
              "<Figure size 640x480 with 1 Axes>"
            ]
          },
          "metadata": {},
          "output_type": "display_data"
        }
      ],
      "source": [
        "atk.display_wordcloud_options()"
      ]
    }
  ],
  "metadata": {
    "colab": {
      "provenance": []
    },
    "kernelspec": {
      "display_name": "Python 3",
      "name": "python3"
    },
    "language_info": {
      "name": "python"
    },
    "widgets": {
      "application/vnd.jupyter.widget-state+json": {
        "03daf94dd3fc4fddbfd57ef626d54b49": {
          "model_module": "@jupyter-widgets/controls",
          "model_module_version": "1.5.0",
          "model_name": "LabelModel",
          "state": {
            "_dom_classes": [],
            "_model_module": "@jupyter-widgets/controls",
            "_model_module_version": "1.5.0",
            "_model_name": "LabelModel",
            "_view_count": null,
            "_view_module": "@jupyter-widgets/controls",
            "_view_module_version": "1.5.0",
            "_view_name": "LabelView",
            "description": "",
            "description_tooltip": null,
            "layout": "IPY_MODEL_90f48fe4959946c79752705657a402d5",
            "placeholder": "​",
            "style": "IPY_MODEL_a96f60216d6448f0a5fbbf4edd31d253",
            "value": "Derivative file to analyze "
          }
        },
        "056f6f4fb1074bf3ae3d9ad0715e7d36": {
          "model_module": "@jupyter-widgets/controls",
          "model_module_version": "1.5.0",
          "model_name": "ButtonModel",
          "state": {
            "_dom_classes": [],
            "_model_module": "@jupyter-widgets/controls",
            "_model_module_version": "1.5.0",
            "_model_name": "ButtonModel",
            "_view_count": null,
            "_view_module": "@jupyter-widgets/controls",
            "_view_module_version": "1.5.0",
            "_view_name": "ButtonView",
            "button_style": "",
            "description": "Submit",
            "disabled": false,
            "icon": "",
            "layout": "IPY_MODEL_2174e1d5c38648339478b5a836b77ba5",
            "style": "IPY_MODEL_812f962fef0e452496c95e85e8e90e24",
            "tooltip": ""
          }
        },
        "09279da4184c4fa7a36a0ad16778c449": {
          "model_module": "@jupyter-widgets/base",
          "model_module_version": "1.2.0",
          "model_name": "LayoutModel",
          "state": {
            "_model_module": "@jupyter-widgets/base",
            "_model_module_version": "1.2.0",
            "_model_name": "LayoutModel",
            "_view_count": null,
            "_view_module": "@jupyter-widgets/base",
            "_view_module_version": "1.2.0",
            "_view_name": "LayoutView",
            "align_content": null,
            "align_items": null,
            "align_self": null,
            "border": null,
            "bottom": null,
            "display": null,
            "flex": null,
            "flex_flow": null,
            "grid_area": null,
            "grid_auto_columns": null,
            "grid_auto_flow": null,
            "grid_auto_rows": null,
            "grid_column": null,
            "grid_gap": null,
            "grid_row": null,
            "grid_template_areas": null,
            "grid_template_columns": null,
            "grid_template_rows": null,
            "height": null,
            "justify_content": null,
            "justify_items": null,
            "left": null,
            "margin": null,
            "max_height": null,
            "max_width": null,
            "min_height": null,
            "min_width": null,
            "object_fit": null,
            "object_position": null,
            "order": null,
            "overflow": null,
            "overflow_x": null,
            "overflow_y": null,
            "padding": null,
            "right": null,
            "top": null,
            "visibility": null,
            "width": null
          }
        },
        "0aef0db6626b4584bab707b6a04a35e9": {
          "model_module": "@jupyter-widgets/controls",
          "model_module_version": "1.5.0",
          "model_name": "DescriptionStyleModel",
          "state": {
            "_model_module": "@jupyter-widgets/controls",
            "_model_module_version": "1.5.0",
            "_model_name": "DescriptionStyleModel",
            "_view_count": null,
            "_view_module": "@jupyter-widgets/base",
            "_view_module_version": "1.2.0",
            "_view_name": "StyleView",
            "description_width": ""
          }
        },
        "0c0044e29e124b90a9d4815255d38638": {
          "model_module": "@jupyter-widgets/base",
          "model_module_version": "1.2.0",
          "model_name": "LayoutModel",
          "state": {
            "_model_module": "@jupyter-widgets/base",
            "_model_module_version": "1.2.0",
            "_model_name": "LayoutModel",
            "_view_count": null,
            "_view_module": "@jupyter-widgets/base",
            "_view_module_version": "1.2.0",
            "_view_name": "LayoutView",
            "align_content": null,
            "align_items": null,
            "align_self": null,
            "border": null,
            "bottom": null,
            "display": null,
            "flex": null,
            "flex_flow": null,
            "grid_area": null,
            "grid_auto_columns": null,
            "grid_auto_flow": null,
            "grid_auto_rows": null,
            "grid_column": null,
            "grid_gap": null,
            "grid_row": null,
            "grid_template_areas": null,
            "grid_template_columns": null,
            "grid_template_rows": null,
            "height": null,
            "justify_content": null,
            "justify_items": null,
            "left": null,
            "margin": null,
            "max_height": null,
            "max_width": null,
            "min_height": null,
            "min_width": null,
            "object_fit": null,
            "object_position": null,
            "order": null,
            "overflow": null,
            "overflow_x": null,
            "overflow_y": null,
            "padding": null,
            "right": null,
            "top": null,
            "visibility": null,
            "width": null
          }
        },
        "0c65240251ef4a0d92f8905904735184": {
          "model_module": "@jupyter-widgets/controls",
          "model_module_version": "1.5.0",
          "model_name": "CheckboxModel",
          "state": {
            "_dom_classes": [],
            "_model_module": "@jupyter-widgets/controls",
            "_model_module_version": "1.5.0",
            "_model_name": "CheckboxModel",
            "_view_count": null,
            "_view_module": "@jupyter-widgets/controls",
            "_view_module_version": "1.5.0",
            "_view_name": "CheckboxView",
            "description": "Remove stopwords",
            "description_tooltip": null,
            "disabled": false,
            "indent": true,
            "layout": "IPY_MODEL_12a621a22d2241d48d36497d7410a98e",
            "style": "IPY_MODEL_ee1bc15763bd4ea4a5106f093e8b971a",
            "value": true
          }
        },
        "0cf3a4c8106e4ba9a6d9174ee28df552": {
          "model_module": "@jupyter-widgets/base",
          "model_module_version": "1.2.0",
          "model_name": "LayoutModel",
          "state": {
            "_model_module": "@jupyter-widgets/base",
            "_model_module_version": "1.2.0",
            "_model_name": "LayoutModel",
            "_view_count": null,
            "_view_module": "@jupyter-widgets/base",
            "_view_module_version": "1.2.0",
            "_view_name": "LayoutView",
            "align_content": null,
            "align_items": null,
            "align_self": null,
            "border": null,
            "bottom": null,
            "display": null,
            "flex": null,
            "flex_flow": null,
            "grid_area": null,
            "grid_auto_columns": null,
            "grid_auto_flow": null,
            "grid_auto_rows": null,
            "grid_column": null,
            "grid_gap": null,
            "grid_row": null,
            "grid_template_areas": null,
            "grid_template_columns": null,
            "grid_template_rows": null,
            "height": null,
            "justify_content": null,
            "justify_items": null,
            "left": null,
            "margin": null,
            "max_height": null,
            "max_width": null,
            "min_height": null,
            "min_width": null,
            "object_fit": null,
            "object_position": null,
            "order": null,
            "overflow": null,
            "overflow_x": null,
            "overflow_y": null,
            "padding": null,
            "right": null,
            "top": null,
            "visibility": null,
            "width": null
          }
        },
        "12a621a22d2241d48d36497d7410a98e": {
          "model_module": "@jupyter-widgets/base",
          "model_module_version": "1.2.0",
          "model_name": "LayoutModel",
          "state": {
            "_model_module": "@jupyter-widgets/base",
            "_model_module_version": "1.2.0",
            "_model_name": "LayoutModel",
            "_view_count": null,
            "_view_module": "@jupyter-widgets/base",
            "_view_module_version": "1.2.0",
            "_view_name": "LayoutView",
            "align_content": null,
            "align_items": null,
            "align_self": null,
            "border": null,
            "bottom": null,
            "display": null,
            "flex": null,
            "flex_flow": null,
            "grid_area": null,
            "grid_auto_columns": null,
            "grid_auto_flow": null,
            "grid_auto_rows": null,
            "grid_column": null,
            "grid_gap": null,
            "grid_row": null,
            "grid_template_areas": null,
            "grid_template_columns": null,
            "grid_template_rows": null,
            "height": null,
            "justify_content": null,
            "justify_items": null,
            "left": null,
            "margin": null,
            "max_height": null,
            "max_width": null,
            "min_height": null,
            "min_width": null,
            "object_fit": null,
            "object_position": null,
            "order": null,
            "overflow": null,
            "overflow_x": null,
            "overflow_y": null,
            "padding": null,
            "right": null,
            "top": null,
            "visibility": null,
            "width": null
          }
        },
        "1b2ad05b25c04372854f9ad4fef39457": {
          "model_module": "@jupyter-widgets/base",
          "model_module_version": "1.2.0",
          "model_name": "LayoutModel",
          "state": {
            "_model_module": "@jupyter-widgets/base",
            "_model_module_version": "1.2.0",
            "_model_name": "LayoutModel",
            "_view_count": null,
            "_view_module": "@jupyter-widgets/base",
            "_view_module_version": "1.2.0",
            "_view_name": "LayoutView",
            "align_content": null,
            "align_items": null,
            "align_self": null,
            "border": null,
            "bottom": null,
            "display": null,
            "flex": null,
            "flex_flow": null,
            "grid_area": null,
            "grid_auto_columns": null,
            "grid_auto_flow": null,
            "grid_auto_rows": null,
            "grid_column": null,
            "grid_gap": null,
            "grid_row": null,
            "grid_template_areas": null,
            "grid_template_columns": null,
            "grid_template_rows": null,
            "height": null,
            "justify_content": null,
            "justify_items": null,
            "left": null,
            "margin": null,
            "max_height": null,
            "max_width": null,
            "min_height": null,
            "min_width": null,
            "object_fit": null,
            "object_position": null,
            "order": null,
            "overflow": null,
            "overflow_x": null,
            "overflow_y": null,
            "padding": null,
            "right": null,
            "top": null,
            "visibility": null,
            "width": null
          }
        },
        "1c7335fe083b4bf39a68338601db0d97": {
          "model_module": "@jupyter-widgets/base",
          "model_module_version": "1.2.0",
          "model_name": "LayoutModel",
          "state": {
            "_model_module": "@jupyter-widgets/base",
            "_model_module_version": "1.2.0",
            "_model_name": "LayoutModel",
            "_view_count": null,
            "_view_module": "@jupyter-widgets/base",
            "_view_module_version": "1.2.0",
            "_view_name": "LayoutView",
            "align_content": null,
            "align_items": null,
            "align_self": null,
            "border": null,
            "bottom": null,
            "display": null,
            "flex": null,
            "flex_flow": null,
            "grid_area": null,
            "grid_auto_columns": null,
            "grid_auto_flow": null,
            "grid_auto_rows": null,
            "grid_column": null,
            "grid_gap": null,
            "grid_row": null,
            "grid_template_areas": null,
            "grid_template_columns": null,
            "grid_template_rows": null,
            "height": null,
            "justify_content": null,
            "justify_items": null,
            "left": null,
            "margin": null,
            "max_height": null,
            "max_width": null,
            "min_height": null,
            "min_width": null,
            "object_fit": null,
            "object_position": null,
            "order": null,
            "overflow": null,
            "overflow_x": null,
            "overflow_y": null,
            "padding": null,
            "right": null,
            "top": null,
            "visibility": null,
            "width": null
          }
        },
        "2174e1d5c38648339478b5a836b77ba5": {
          "model_module": "@jupyter-widgets/base",
          "model_module_version": "1.2.0",
          "model_name": "LayoutModel",
          "state": {
            "_model_module": "@jupyter-widgets/base",
            "_model_module_version": "1.2.0",
            "_model_name": "LayoutModel",
            "_view_count": null,
            "_view_module": "@jupyter-widgets/base",
            "_view_module_version": "1.2.0",
            "_view_name": "LayoutView",
            "align_content": null,
            "align_items": null,
            "align_self": null,
            "border": null,
            "bottom": null,
            "display": null,
            "flex": null,
            "flex_flow": null,
            "grid_area": null,
            "grid_auto_columns": null,
            "grid_auto_flow": null,
            "grid_auto_rows": null,
            "grid_column": null,
            "grid_gap": null,
            "grid_row": null,
            "grid_template_areas": null,
            "grid_template_columns": null,
            "grid_template_rows": null,
            "height": null,
            "justify_content": null,
            "justify_items": null,
            "left": null,
            "margin": null,
            "max_height": null,
            "max_width": null,
            "min_height": null,
            "min_width": null,
            "object_fit": null,
            "object_position": null,
            "order": null,
            "overflow": null,
            "overflow_x": null,
            "overflow_y": null,
            "padding": null,
            "right": null,
            "top": null,
            "visibility": null,
            "width": null
          }
        },
        "27f0dbc22ae64128a6fb6145ca67d79a": {
          "model_module": "@jupyter-widgets/controls",
          "model_module_version": "1.5.0",
          "model_name": "CheckboxModel",
          "state": {
            "_dom_classes": [],
            "_model_module": "@jupyter-widgets/controls",
            "_model_module_version": "1.5.0",
            "_model_name": "CheckboxModel",
            "_view_count": null,
            "_view_module": "@jupyter-widgets/controls",
            "_view_module_version": "1.5.0",
            "_view_name": "CheckboxView",
            "description": "Remove punctation",
            "description_tooltip": null,
            "disabled": false,
            "indent": true,
            "layout": "IPY_MODEL_8dfa3ac51a1b42a0a85339a192a41156",
            "style": "IPY_MODEL_bf5cc5067dcd41cf9929180d28aaacf0",
            "value": true
          }
        },
        "42bcd44975744ed7ac994e91bdbd126d": {
          "model_module": "@jupyter-widgets/controls",
          "model_module_version": "1.5.0",
          "model_name": "DescriptionStyleModel",
          "state": {
            "_model_module": "@jupyter-widgets/controls",
            "_model_module_version": "1.5.0",
            "_model_name": "DescriptionStyleModel",
            "_view_count": null,
            "_view_module": "@jupyter-widgets/base",
            "_view_module_version": "1.2.0",
            "_view_name": "StyleView",
            "description_width": ""
          }
        },
        "4b8b43141bbb4d0b9679139ca74da794": {
          "model_module": "@jupyter-widgets/base",
          "model_module_version": "1.2.0",
          "model_name": "LayoutModel",
          "state": {
            "_model_module": "@jupyter-widgets/base",
            "_model_module_version": "1.2.0",
            "_model_name": "LayoutModel",
            "_view_count": null,
            "_view_module": "@jupyter-widgets/base",
            "_view_module_version": "1.2.0",
            "_view_name": "LayoutView",
            "align_content": null,
            "align_items": null,
            "align_self": null,
            "border": null,
            "bottom": null,
            "display": null,
            "flex": null,
            "flex_flow": null,
            "grid_area": null,
            "grid_auto_columns": null,
            "grid_auto_flow": null,
            "grid_auto_rows": null,
            "grid_column": null,
            "grid_gap": null,
            "grid_row": null,
            "grid_template_areas": null,
            "grid_template_columns": null,
            "grid_template_rows": null,
            "height": null,
            "justify_content": null,
            "justify_items": null,
            "left": null,
            "margin": null,
            "max_height": null,
            "max_width": null,
            "min_height": null,
            "min_width": null,
            "object_fit": null,
            "object_position": null,
            "order": null,
            "overflow": null,
            "overflow_x": null,
            "overflow_y": null,
            "padding": null,
            "right": null,
            "top": null,
            "visibility": null,
            "width": null
          }
        },
        "4b98591136ec45d3ae3c7c916ed62b8a": {
          "model_module": "@jupyter-widgets/base",
          "model_module_version": "1.2.0",
          "model_name": "LayoutModel",
          "state": {
            "_model_module": "@jupyter-widgets/base",
            "_model_module_version": "1.2.0",
            "_model_name": "LayoutModel",
            "_view_count": null,
            "_view_module": "@jupyter-widgets/base",
            "_view_module_version": "1.2.0",
            "_view_name": "LayoutView",
            "align_content": null,
            "align_items": null,
            "align_self": null,
            "border": null,
            "bottom": null,
            "display": null,
            "flex": null,
            "flex_flow": null,
            "grid_area": null,
            "grid_auto_columns": null,
            "grid_auto_flow": null,
            "grid_auto_rows": null,
            "grid_column": null,
            "grid_gap": null,
            "grid_row": null,
            "grid_template_areas": null,
            "grid_template_columns": null,
            "grid_template_rows": null,
            "height": null,
            "justify_content": null,
            "justify_items": null,
            "left": null,
            "margin": null,
            "max_height": null,
            "max_width": null,
            "min_height": null,
            "min_width": null,
            "object_fit": null,
            "object_position": null,
            "order": null,
            "overflow": null,
            "overflow_x": null,
            "overflow_y": null,
            "padding": null,
            "right": null,
            "top": null,
            "visibility": null,
            "width": null
          }
        },
        "555da49a4c584a68841d97fa5f3d665a": {
          "model_module": "@jupyter-widgets/controls",
          "model_module_version": "1.5.0",
          "model_name": "TextModel",
          "state": {
            "_dom_classes": [],
            "_model_module": "@jupyter-widgets/controls",
            "_model_module_version": "1.5.0",
            "_model_name": "TextModel",
            "_view_count": null,
            "_view_module": "@jupyter-widgets/controls",
            "_view_module_version": "1.5.0",
            "_view_name": "TextView",
            "continuous_update": true,
            "description": "Folder path:",
            "description_tooltip": null,
            "disabled": false,
            "layout": "IPY_MODEL_1b2ad05b25c04372854f9ad4fef39457",
            "placeholder": "Enter your folder path",
            "style": "IPY_MODEL_9324ca1a115e4714aa010a7ec99aa3ed",
            "value": "/content/drive/MyDrive/AOY/"
          }
        },
        "561446086e584fe294458e6b55c0cb9a": {
          "model_module": "@jupyter-widgets/controls",
          "model_module_version": "1.5.0",
          "model_name": "DescriptionStyleModel",
          "state": {
            "_model_module": "@jupyter-widgets/controls",
            "_model_module_version": "1.5.0",
            "_model_name": "DescriptionStyleModel",
            "_view_count": null,
            "_view_module": "@jupyter-widgets/base",
            "_view_module_version": "1.2.0",
            "_view_name": "StyleView",
            "description_width": ""
          }
        },
        "60867adce4db45c88b5ba951acc6d1b9": {
          "model_module": "@jupyter-widgets/controls",
          "model_module_version": "1.5.0",
          "model_name": "ButtonStyleModel",
          "state": {
            "_model_module": "@jupyter-widgets/controls",
            "_model_module_version": "1.5.0",
            "_model_name": "ButtonStyleModel",
            "_view_count": null,
            "_view_module": "@jupyter-widgets/base",
            "_view_module_version": "1.2.0",
            "_view_name": "StyleView",
            "button_color": null,
            "font_weight": ""
          }
        },
        "642e708d83384fdebf562bd52b27330b": {
          "model_module": "@jupyter-widgets/base",
          "model_module_version": "1.2.0",
          "model_name": "LayoutModel",
          "state": {
            "_model_module": "@jupyter-widgets/base",
            "_model_module_version": "1.2.0",
            "_model_name": "LayoutModel",
            "_view_count": null,
            "_view_module": "@jupyter-widgets/base",
            "_view_module_version": "1.2.0",
            "_view_name": "LayoutView",
            "align_content": null,
            "align_items": null,
            "align_self": null,
            "border": null,
            "bottom": null,
            "display": null,
            "flex": null,
            "flex_flow": null,
            "grid_area": null,
            "grid_auto_columns": null,
            "grid_auto_flow": null,
            "grid_auto_rows": null,
            "grid_column": null,
            "grid_gap": null,
            "grid_row": null,
            "grid_template_areas": null,
            "grid_template_columns": null,
            "grid_template_rows": null,
            "height": null,
            "justify_content": null,
            "justify_items": null,
            "left": null,
            "margin": null,
            "max_height": null,
            "max_width": null,
            "min_height": null,
            "min_width": null,
            "object_fit": null,
            "object_position": null,
            "order": null,
            "overflow": null,
            "overflow_x": null,
            "overflow_y": null,
            "padding": null,
            "right": null,
            "top": null,
            "visibility": null,
            "width": null
          }
        },
        "79430e5ec0264e9e9e7366bbecefdc93": {
          "model_module": "@jupyter-widgets/controls",
          "model_module_version": "1.5.0",
          "model_name": "ButtonStyleModel",
          "state": {
            "_model_module": "@jupyter-widgets/controls",
            "_model_module_version": "1.5.0",
            "_model_name": "ButtonStyleModel",
            "_view_count": null,
            "_view_module": "@jupyter-widgets/base",
            "_view_module_version": "1.2.0",
            "_view_name": "StyleView",
            "button_color": null,
            "font_weight": ""
          }
        },
        "7d5136e49c72431d84c83431f0813e5f": {
          "model_module": "@jupyter-widgets/controls",
          "model_module_version": "1.5.0",
          "model_name": "ButtonModel",
          "state": {
            "_dom_classes": [],
            "_model_module": "@jupyter-widgets/controls",
            "_model_module_version": "1.5.0",
            "_model_name": "ButtonModel",
            "_view_count": null,
            "_view_module": "@jupyter-widgets/controls",
            "_view_module_version": "1.5.0",
            "_view_name": "ButtonView",
            "button_style": "",
            "description": "Create Word Cloud",
            "disabled": false,
            "icon": "",
            "layout": "IPY_MODEL_09279da4184c4fa7a36a0ad16778c449",
            "style": "IPY_MODEL_79430e5ec0264e9e9e7366bbecefdc93",
            "tooltip": ""
          }
        },
        "812f962fef0e452496c95e85e8e90e24": {
          "model_module": "@jupyter-widgets/controls",
          "model_module_version": "1.5.0",
          "model_name": "ButtonStyleModel",
          "state": {
            "_model_module": "@jupyter-widgets/controls",
            "_model_module_version": "1.5.0",
            "_model_name": "ButtonStyleModel",
            "_view_count": null,
            "_view_module": "@jupyter-widgets/base",
            "_view_module_version": "1.2.0",
            "_view_name": "StyleView",
            "button_color": null,
            "font_weight": ""
          }
        },
        "8dfa3ac51a1b42a0a85339a192a41156": {
          "model_module": "@jupyter-widgets/base",
          "model_module_version": "1.2.0",
          "model_name": "LayoutModel",
          "state": {
            "_model_module": "@jupyter-widgets/base",
            "_model_module_version": "1.2.0",
            "_model_name": "LayoutModel",
            "_view_count": null,
            "_view_module": "@jupyter-widgets/base",
            "_view_module_version": "1.2.0",
            "_view_name": "LayoutView",
            "align_content": null,
            "align_items": null,
            "align_self": null,
            "border": null,
            "bottom": null,
            "display": null,
            "flex": null,
            "flex_flow": null,
            "grid_area": null,
            "grid_auto_columns": null,
            "grid_auto_flow": null,
            "grid_auto_rows": null,
            "grid_column": null,
            "grid_gap": null,
            "grid_row": null,
            "grid_template_areas": null,
            "grid_template_columns": null,
            "grid_template_rows": null,
            "height": null,
            "justify_content": null,
            "justify_items": null,
            "left": null,
            "margin": null,
            "max_height": null,
            "max_width": null,
            "min_height": null,
            "min_width": null,
            "object_fit": null,
            "object_position": null,
            "order": null,
            "overflow": null,
            "overflow_x": null,
            "overflow_y": null,
            "padding": null,
            "right": null,
            "top": null,
            "visibility": null,
            "width": null
          }
        },
        "8ee186e72dc54f8eb860be1c9759baf4": {
          "model_module": "@jupyter-widgets/controls",
          "model_module_version": "1.5.0",
          "model_name": "DropdownModel",
          "state": {
            "_dom_classes": [],
            "_model_module": "@jupyter-widgets/controls",
            "_model_module_version": "1.5.0",
            "_model_name": "DropdownModel",
            "_options_labels": [
              "https://www.cbc.ca/sitemap",
              "https://www.cbc.ca/player/play/1921718339629",
              "https://www.cbc.ca/news/canada/hamilton/nursing-homes-and-hospitals-limit-visitors-malls-reduce-store-hours-amid-covid-19-concerns-1.5498498",
              "https://www.cbc.ca/player/play/1961995331945",
              "https://www.cbc.ca/news/canada/hamilton/10-coronavirus-hamilton-1.5499082",
              "https://www.cbc.ca/amp/1.5502659",
              "https://www.cbc.ca/news/canada/hamilton/ak.bpcip",
              "https://www.cbc.ca/news/business/james-dunne-1.4456446",
              "https://www.cbc.ca/news/politics/economic-aid-package-coronavirus-1.5501037",
              "https://www.cbc.ca/",
              "https://www.cbc.ca/news/christine-rankin-1.5130833",
              "https://www.cbc.ca/news/canada/hamilton/niagara-covid-19-1.5496841",
              "https://www.cbc.ca/news/canada/hamilton/virus-outbreak-us-canada-border-1.5503375",
              "https://www.cbc.ca/listen/",
              "https://www.cbc.ca/amp/1.5502659",
              "https://www.cbc.ca/news/politics/covid-19-modelling-1-million-cases-1.5965297",
              "https://www.cbc.ca/news/politics/trudeau-possible-vaccination-campaign-ends-sooner-1.5934994",
              "https://www.cbc.ca/news/canada/hamilton/dillons-distillers-1.5500843",
              "https://www.cbc.ca/news/health/variants-askcbc-feb19-1.5918554",
              "https://www.cbc.ca/news/politics/quarantine-border-trudeau-ford-penalties-1.6008876",
              "https://www.cbc.ca/news/canada/hamilton/covid-19-libraries-recreation-centres-shut-down-1.5498301",
              "https://www.cbc.ca/news/business/google-antitrust-1.5769105",
              "https://www.cbc.ca/news/canada/montreal/quebec-farmers-covid19-1.5501421",
              "https://www.cbc.ca/listen/",
              "https://www.cbc.ca/news/canada/montreal/quebec-farmers-covid19-1.5501421",
              "https://www.cbc.ca/news/canada/hamilton/author/samantha-craggs-1.4288081",
              "https://www.cbc.ca/news/canada/hamilton/author/dan-taekema-1.4128355",
              "https://www.cbc.ca/player/play/1938285635569",
              "https://www.cbc.ca/news/canada/hamilton/dillon-s-1.5501945",
              "https://www.cbc.ca/news/business/pandemic-taxes-questions-1.5953626",
              "https://www.cbc.ca/news/canada/toronto/covid-19-ontario-shutdown-hospital-intensive-care-icu-patients-1.5969831",
              "https://www.cbc.ca/news/business/budget-tax-1.5993593",
              "https://www.cbc.ca/news/health/covid19-coronavirus-what-to-do-1.5498986",
              "https://www.cbc.ca/news/canada/hamilton/covid-19-libraries-recreation-centres-shut-down-1.5498301",
              "https://www.cbc.ca/news/canada/hamilton/hamilton-covid-19-1.5500943",
              "https://www.cbc.ca/news/canada/hamilton/dillons-distillers-1.5500843?__vfz=medium%3Dsharebar",
              "https://www.cbc.ca/news/canada/hamilton/ak.cp",
              "https://www.cbc.ca/"
            ],
            "_view_count": null,
            "_view_module": "@jupyter-widgets/controls",
            "_view_module_version": "1.5.0",
            "_view_name": "DropdownView",
            "description": "URL:",
            "description_tooltip": null,
            "disabled": false,
            "index": 9,
            "layout": "IPY_MODEL_e9959218e7ac4496ba823fa4a382da2a",
            "style": "IPY_MODEL_42bcd44975744ed7ac994e91bdbd126d"
          }
        },
        "8f267499448c4225a21edbdff9e80da0": {
          "model_module": "@jupyter-widgets/controls",
          "model_module_version": "1.5.0",
          "model_name": "DropdownModel",
          "state": {
            "_dom_classes": [],
            "_model_module": "@jupyter-widgets/controls",
            "_model_module_version": "1.5.0",
            "_model_name": "DropdownModel",
            "_options_labels": [
              "brocku.ca",
              "twitter.com",
              "youtube.com",
              "gncc.ca",
              "portcolborne.ca",
              "niagaraanglican.ca",
              "gobadgers.ca",
              "pelhamlibrary.on.ca",
              "niagarahealth.on.ca",
              "google.com",
              "stcatharinesstandard.ca",
              "notl.com",
              "niagararegion.ca",
              "pinterest.com",
              "thehopecentre.net",
              "niagarafallsreview.ca",
              "niagaracollege.ca",
              "cbc.ca",
              "mozilla.org",
              "eventbrite.ca",
              "tripadvisor.ca",
              "zoomprospector.com",
              "thorold.ca",
              "wainfleet.ca",
              "niagarathisweek.com",
              "wordpress.org",
              "niagaraevergreen.ca",
              "nflibrary.ca",
              "ontario.ca",
              "canada.ca",
              "iheartradio.ca",
              "wordpress.com",
              "theglobeandmail.com",
              "chch.com",
              "ourwindsor.ca",
              "mppapi.io",
              "wivb.com",
              "eyereturn.com",
              "wikipedia.org",
              "anglican.ca",
              "freeskreen.com",
              "polarcdn-terrax.com",
              "googlesyndication.com",
              "theweathernetwork.com",
              "zuza.com",
              "thecanadianencyclopedia.ca",
              "videopress.com",
              "microsoftonline.com",
              "googletagmanager.com",
              "windstream.net",
              "niagaraparks.com",
              "archive.org",
              "publichealthontario.ca",
              "forterie.ca",
              "niagarafallstourism.com",
              "collisionrepairmag.com",
              "moatads.com",
              "shawfest.com",
              "eventbrite.com",
              "lincoln.ca",
              "westlincoln.ca",
              "cmhc-schl.gc.ca",
              "projectshare.ca",
              "adobe.com",
              "notlpubliclibrary.org",
              "dillons.ca",
              "who.int",
              "apple.com",
              "grimsby.ca",
              "cathedralhamilton.ca",
              "rcaanc-cirnac.gc.ca",
              "communitycarestca.ca",
              "ebscohost.com",
              "wixapps.net",
              "vimeo.com",
              "eventbrite.ch",
              "tripadvisor.be",
              "futureaccess.ca",
              "google.com.mx",
              "eventbrite.co",
              "aol.com",
              "niagaraindependent.ca",
              "blog.google",
              "gilliansplace.com",
              "thoroldpubliclibrary.ca",
              "tourismhr.ca",
              "ibotta.com",
              "t-online.de",
              "loop11.com",
              "niagaracc.com",
              "niagaracanada.com",
              "wikidata.org",
              "ic.gc.ca",
              "twoo.com",
              "mississauga.com",
              "notl.org",
              "ywcaniagararegion.ca",
              "active.com",
              "welcomeniagaracanada.com",
              "mailchimp.com",
              "hnhbhealthline.ca",
              "eventbrite.sg",
              "eventbrite.es",
              "ncteachingdistillery.ca",
              "torstar.com",
              "cupe1287.com",
              "meteomedia.com",
              "schema.org",
              "churchofengland.org",
              "latamautos.com",
              "pelham.ca",
              "canadahelps.org",
              "eventbrite.ie",
              "reuters.com",
              "ncteachinghairsalon.ca",
              "bankofcanada.ca",
              "ownlocal.com",
              "facsniagara.on.ca",
              "digg.com",
              "overdrive.com",
              "simplesurvey.com",
              "centurylink.net",
              "youtube-nocookie.com",
              "jquery.com",
              "datatables.net",
              "materialsmarketplace.org",
              "pinterest.se",
              "mozbot.fr",
              "universitytickets.com",
              "asc-csa.gc.ca",
              "bramptonguardian.com",
              "therecord.com",
              "safetoplay.ca",
              "ok.ru",
              "tripadvisor.sk",
              "pm.gc.ca",
              "granicus.com",
              "eventbrite.fi",
              "weebly.com",
              "tvo.org",
              "niagara2021.ca",
              "tripadvisor.com.ph",
              "statcan.gc.ca",
              "sachem.ca",
              "proximus.be",
              "pinterest.nz",
              "bethlehemhousing.ca",
              "google.be",
              "thepeterboroughexaminer.com",
              "thestar.com",
              "niagaraworship.ca",
              "fda.gov",
              "facebook.com",
              "showroomprive.com",
              "ctvnews.ca",
              "landmarkshops.in",
              "eventbrite.dk",
              "thoroldnews.com",
              "thespec.com",
              "domain.com",
              "gmx.com",
              "nexstar.tv",
              "pinterest.com.au",
              "follow.it",
              "dimagi.com",
              "globalnews.ca",
              "pinterest.it",
              "dsbn.org",
              "yumpu.com",
              "stripe.com",
              "torontostar.com",
              "contaazul.com",
              "southniagaracc.com",
              "github.com",
              "economist.com",
              "tripadvisor.com",
              "saintcd.com",
              "insidehalton.com",
              "focusmanagement.ca",
              "winesinniagara.com",
              "google.co.il",
              "pinterest.co.kr",
              "stmatthewshouse.ca",
              "verizon.com",
              "aol.de",
              "theconversation.com",
              "tripadvisor.co.hu",
              "twnmm.com",
              "hushmail.com",
              "tripadvisor.dk",
              "wainfleetbic.com",
              "libero.it",
              "newhamburgindependent.ca",
              "muskokaregion.com",
              "optimizely.com",
              "ncteachingspa.ca",
              "person.org",
              "google.ca",
              "tripadvisor.at",
              "eventbrite.com.au",
              "eventbrite.de",
              "eventbrite.com.ar",
              "stcatharines.ca",
              "niagarafalls.ca",
              "eventbrite.be",
              "niagarabrucetrail.club",
              "acodata.space",
              "uol.com.br",
              "fepl.ca",
              "eventbrite.at",
              "ymcaofniagara.org",
              "nwic.ca",
              "guelphmercury.com",
              "cablevisionfibertel.com.ar",
              "cambridgetimes.ca",
              "vk.com",
              "innovateniagara.com",
              "ringcentral.com",
              "wbfo.org",
              "mppglobal.com",
              "eventbrite.com.br",
              "live.com",
              "activecommunities.com",
              "eb.com",
              "niagaracatholic.ca",
              "niagarapolice.ca",
              "pinterest.de",
              "flamboroughreview.com",
              "financialpost.com",
              "wix.com",
              "list-manage.com",
              "tripadvisor.se",
              "google.ge",
              "thoroldtoday.ca",
              "invoca.com",
              "bestreviews.com",
              "gmx.net",
              "pelhamcares.org",
              "snapwidget.com",
              "ig.com.br",
              "crowdriff.com",
              "sky.com",
              "cleo.on.ca",
              "ncteachingbrewery.ca",
              "siteblindado.com",
              "pwrdf.org",
              "constantcontactpages.com",
              "chamber.ca",
              "tripadvisor.com.pe",
              "waterloochronicle.ca",
              "brockbusu.ca"
            ],
            "_view_count": null,
            "_view_module": "@jupyter-widgets/controls",
            "_view_module_version": "1.5.0",
            "_view_name": "DropdownView",
            "description": "Domain: ",
            "description_tooltip": null,
            "disabled": false,
            "index": 17,
            "layout": "IPY_MODEL_4b8b43141bbb4d0b9679139ca74da794",
            "style": "IPY_MODEL_b2ef257073ff498980fa6f39778b21d0"
          }
        },
        "90f48fe4959946c79752705657a402d5": {
          "model_module": "@jupyter-widgets/base",
          "model_module_version": "1.2.0",
          "model_name": "LayoutModel",
          "state": {
            "_model_module": "@jupyter-widgets/base",
            "_model_module_version": "1.2.0",
            "_model_name": "LayoutModel",
            "_view_count": null,
            "_view_module": "@jupyter-widgets/base",
            "_view_module_version": "1.2.0",
            "_view_name": "LayoutView",
            "align_content": null,
            "align_items": null,
            "align_self": null,
            "border": null,
            "bottom": null,
            "display": null,
            "flex": null,
            "flex_flow": null,
            "grid_area": null,
            "grid_auto_columns": null,
            "grid_auto_flow": null,
            "grid_auto_rows": null,
            "grid_column": null,
            "grid_gap": null,
            "grid_row": null,
            "grid_template_areas": null,
            "grid_template_columns": null,
            "grid_template_rows": null,
            "height": null,
            "justify_content": null,
            "justify_items": null,
            "left": null,
            "margin": null,
            "max_height": null,
            "max_width": null,
            "min_height": null,
            "min_width": null,
            "object_fit": null,
            "object_position": null,
            "order": null,
            "overflow": null,
            "overflow_x": null,
            "overflow_y": null,
            "padding": null,
            "right": null,
            "top": null,
            "visibility": null,
            "width": null
          }
        },
        "924457ca9fb14fb7a8955bd7e9bb600f": {
          "model_module": "@jupyter-widgets/controls",
          "model_module_version": "1.5.0",
          "model_name": "ButtonModel",
          "state": {
            "_dom_classes": [],
            "_model_module": "@jupyter-widgets/controls",
            "_model_module_version": "1.5.0",
            "_model_name": "ButtonModel",
            "_view_count": null,
            "_view_module": "@jupyter-widgets/controls",
            "_view_module_version": "1.5.0",
            "_view_name": "ButtonView",
            "button_style": "",
            "description": "Select file",
            "disabled": false,
            "icon": "",
            "layout": "IPY_MODEL_0c0044e29e124b90a9d4815255d38638",
            "style": "IPY_MODEL_60867adce4db45c88b5ba951acc6d1b9",
            "tooltip": ""
          }
        },
        "9324ca1a115e4714aa010a7ec99aa3ed": {
          "model_module": "@jupyter-widgets/controls",
          "model_module_version": "1.5.0",
          "model_name": "DescriptionStyleModel",
          "state": {
            "_model_module": "@jupyter-widgets/controls",
            "_model_module_version": "1.5.0",
            "_model_name": "DescriptionStyleModel",
            "_view_count": null,
            "_view_module": "@jupyter-widgets/base",
            "_view_module_version": "1.2.0",
            "_view_name": "StyleView",
            "description_width": ""
          }
        },
        "a56927209d354e4cbe635cb774b71ce1": {
          "model_module": "@jupyter-widgets/controls",
          "model_module_version": "1.5.0",
          "model_name": "LabelModel",
          "state": {
            "_dom_classes": [],
            "_model_module": "@jupyter-widgets/controls",
            "_model_module_version": "1.5.0",
            "_model_name": "LabelModel",
            "_view_count": null,
            "_view_module": "@jupyter-widgets/controls",
            "_view_module_version": "1.5.0",
            "_view_name": "LabelView",
            "description": "",
            "description_tooltip": null,
            "layout": "IPY_MODEL_4b98591136ec45d3ae3c7c916ed62b8a",
            "placeholder": "​",
            "style": "IPY_MODEL_561446086e584fe294458e6b55c0cb9a",
            "value": "Text preprocessing options: "
          }
        },
        "a96f60216d6448f0a5fbbf4edd31d253": {
          "model_module": "@jupyter-widgets/controls",
          "model_module_version": "1.5.0",
          "model_name": "DescriptionStyleModel",
          "state": {
            "_model_module": "@jupyter-widgets/controls",
            "_model_module_version": "1.5.0",
            "_model_name": "DescriptionStyleModel",
            "_view_count": null,
            "_view_module": "@jupyter-widgets/base",
            "_view_module_version": "1.2.0",
            "_view_name": "StyleView",
            "description_width": ""
          }
        },
        "ae877914308b4130a9945368271f8a9b": {
          "model_module": "@jupyter-widgets/controls",
          "model_module_version": "1.5.0",
          "model_name": "DropdownModel",
          "state": {
            "_dom_classes": [],
            "_model_module": "@jupyter-widgets/controls",
            "_model_module_version": "1.5.0",
            "_model_name": "DropdownModel",
            "_options_labels": [
              "2021-03-26",
              "2021-08-20"
            ],
            "_view_count": null,
            "_view_module": "@jupyter-widgets/controls",
            "_view_module_version": "1.5.0",
            "_view_name": "DropdownView",
            "description": "Crawl date:",
            "description_tooltip": null,
            "disabled": false,
            "index": 0,
            "layout": "IPY_MODEL_642e708d83384fdebf562bd52b27330b",
            "style": "IPY_MODEL_ca93939aecca4ee9843f7ada46d74263"
          }
        },
        "b2ef257073ff498980fa6f39778b21d0": {
          "model_module": "@jupyter-widgets/controls",
          "model_module_version": "1.5.0",
          "model_name": "DescriptionStyleModel",
          "state": {
            "_model_module": "@jupyter-widgets/controls",
            "_model_module_version": "1.5.0",
            "_model_name": "DescriptionStyleModel",
            "_view_count": null,
            "_view_module": "@jupyter-widgets/base",
            "_view_module_version": "1.2.0",
            "_view_name": "StyleView",
            "description_width": ""
          }
        },
        "bf5cc5067dcd41cf9929180d28aaacf0": {
          "model_module": "@jupyter-widgets/controls",
          "model_module_version": "1.5.0",
          "model_name": "DescriptionStyleModel",
          "state": {
            "_model_module": "@jupyter-widgets/controls",
            "_model_module_version": "1.5.0",
            "_model_name": "DescriptionStyleModel",
            "_view_count": null,
            "_view_module": "@jupyter-widgets/base",
            "_view_module_version": "1.2.0",
            "_view_name": "StyleView",
            "description_width": ""
          }
        },
        "ca93939aecca4ee9843f7ada46d74263": {
          "model_module": "@jupyter-widgets/controls",
          "model_module_version": "1.5.0",
          "model_name": "DescriptionStyleModel",
          "state": {
            "_model_module": "@jupyter-widgets/controls",
            "_model_module_version": "1.5.0",
            "_model_name": "DescriptionStyleModel",
            "_view_count": null,
            "_view_module": "@jupyter-widgets/base",
            "_view_module_version": "1.2.0",
            "_view_name": "StyleView",
            "description_width": ""
          }
        },
        "cbd6171ae8184300974ca6988df5f76a": {
          "model_module": "@jupyter-widgets/controls",
          "model_module_version": "1.5.0",
          "model_name": "HBoxModel",
          "state": {
            "_dom_classes": [],
            "_model_module": "@jupyter-widgets/controls",
            "_model_module_version": "1.5.0",
            "_model_name": "HBoxModel",
            "_view_count": null,
            "_view_module": "@jupyter-widgets/controls",
            "_view_module_version": "1.5.0",
            "_view_name": "HBoxView",
            "box_style": "",
            "children": [
              "IPY_MODEL_03daf94dd3fc4fddbfd57ef626d54b49",
              "IPY_MODEL_feae0022c93143f3a019872527a7568e"
            ],
            "layout": "IPY_MODEL_0cf3a4c8106e4ba9a6d9174ee28df552"
          }
        },
        "e9959218e7ac4496ba823fa4a382da2a": {
          "model_module": "@jupyter-widgets/base",
          "model_module_version": "1.2.0",
          "model_name": "LayoutModel",
          "state": {
            "_model_module": "@jupyter-widgets/base",
            "_model_module_version": "1.2.0",
            "_model_name": "LayoutModel",
            "_view_count": null,
            "_view_module": "@jupyter-widgets/base",
            "_view_module_version": "1.2.0",
            "_view_name": "LayoutView",
            "align_content": null,
            "align_items": null,
            "align_self": null,
            "border": null,
            "bottom": null,
            "display": null,
            "flex": null,
            "flex_flow": null,
            "grid_area": null,
            "grid_auto_columns": null,
            "grid_auto_flow": null,
            "grid_auto_rows": null,
            "grid_column": null,
            "grid_gap": null,
            "grid_row": null,
            "grid_template_areas": null,
            "grid_template_columns": null,
            "grid_template_rows": null,
            "height": null,
            "justify_content": null,
            "justify_items": null,
            "left": null,
            "margin": null,
            "max_height": null,
            "max_width": null,
            "min_height": null,
            "min_width": null,
            "object_fit": null,
            "object_position": null,
            "order": null,
            "overflow": null,
            "overflow_x": null,
            "overflow_y": null,
            "padding": null,
            "right": null,
            "top": null,
            "visibility": null,
            "width": null
          }
        },
        "ee1bc15763bd4ea4a5106f093e8b971a": {
          "model_module": "@jupyter-widgets/controls",
          "model_module_version": "1.5.0",
          "model_name": "DescriptionStyleModel",
          "state": {
            "_model_module": "@jupyter-widgets/controls",
            "_model_module_version": "1.5.0",
            "_model_name": "DescriptionStyleModel",
            "_view_count": null,
            "_view_module": "@jupyter-widgets/base",
            "_view_module_version": "1.2.0",
            "_view_name": "StyleView",
            "description_width": ""
          }
        },
        "feae0022c93143f3a019872527a7568e": {
          "model_module": "@jupyter-widgets/controls",
          "model_module_version": "1.5.0",
          "model_name": "DropdownModel",
          "state": {
            "_dom_classes": [],
            "_model_module": "@jupyter-widgets/controls",
            "_model_module_version": "1.5.0",
            "_model_name": "DropdownModel",
            "_options_labels": [
              "niagara_sample.csv",
              "uoft-canpol/ARCHIVEIT-227-UOFTORONTO-CANPOLPINT-20060622205612-00009-crawling025.csv"
            ],
            "_view_count": null,
            "_view_module": "@jupyter-widgets/controls",
            "_view_module_version": "1.5.0",
            "_view_name": "DropdownView",
            "description": "",
            "description_tooltip": null,
            "disabled": false,
            "index": 0,
            "layout": "IPY_MODEL_1c7335fe083b4bf39a68338601db0d97",
            "style": "IPY_MODEL_0aef0db6626b4584bab707b6a04a35e9"
          }
        }
      }
    }
  },
  "nbformat": 4,
  "nbformat_minor": 0
}
