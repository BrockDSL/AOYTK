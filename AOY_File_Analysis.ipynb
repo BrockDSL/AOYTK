{
  "cells": [
    {
      "cell_type": "markdown",
      "metadata": {
        "id": "PcZ2bwN99lFC"
      },
      "source": [
        "![AOY Logo](https://raw.githubusercontent.com/BrockDSL/AOYTK/main/AOY_Logo.png)\n",
        "\n",
        "All Our Yesterdays - A toolkit to explore web archives\n",
        "\n",
        "[Homepage](https://brockdsl.github.io/AOTYK)"
      ]
    },
    {
      "cell_type": "markdown",
      "metadata": {
        "id": "Zx_YH3tQ9lFH"
      },
      "source": [
        "# File Format Analysis\n",
        "\n",
        "This notebook provides some basic tools for looking at file type derivatives.\n",
        "\n",
        "Currently being developed with an image graph derivative from ARCH, but should be able to be extended to other file type derivatives."
      ]
    },
    {
      "cell_type": "markdown",
      "metadata": {
        "id": "yxkgmyA69lFI"
      },
      "source": [
        "### Mount Google Drive\n",
        "In order to persist working files/data across multiple runs of the notebook.\n"
      ]
    },
    {
      "cell_type": "code",
      "execution_count": null,
      "metadata": {
        "colab": {
          "base_uri": "https://localhost:8080/"
        },
        "id": "TNPFY4Dq9lFK",
        "outputId": "20f3bae8-ea33-48df-ae85-88c413bf2db3"
      },
      "outputs": [
        {
          "output_type": "stream",
          "name": "stdout",
          "text": [
            "Mounted at /content/drive/\n"
          ]
        }
      ],
      "source": [
        "from google.colab import drive\n",
        "drive.mount(\"/content/drive/\")"
      ]
    },
    {
      "cell_type": "markdown",
      "metadata": {
        "id": "5sggy-Bw9lFL"
      },
      "source": [
        "### Load AOYTK\n",
        "\n",
        "Downloads and imports the All Our Yesterdays Toolkit"
      ]
    },
    {
      "cell_type": "code",
      "execution_count": null,
      "metadata": {
        "id": "5AhD6Oay9lFM"
      },
      "outputs": [],
      "source": [
        "!wget \"https://raw.githubusercontent.com/BrockDSL/AOYTK/main/aoytk.py\"\n",
        "import aoytk"
      ]
    },
    {
      "cell_type": "markdown",
      "metadata": {
        "id": "LFfhU6qc9lFN"
      },
      "source": [
        "### Set Working Directory\n",
        "Select a working folder for reading and writing data. By default, this path will be set to `/content/drive/MyDrive/AOY/`."
      ]
    },
    {
      "cell_type": "code",
      "execution_count": null,
      "metadata": {
        "colab": {
          "base_uri": "https://localhost:8080/",
          "height": 99,
          "referenced_widgets": [
            "07b9fd52ec254ad79653b26b4e26b640",
            "1e7b89915b9e4937b73eb0c7fb96c853",
            "b9aeec71ea17446686fa0ae84577798f",
            "4de79dc801d0418e96de66c4526d7e4e",
            "3b3586237e9040398401ab7b2ab6b064",
            "39a230c8a9ad499dacf69a4a3a5cf099"
          ]
        },
        "id": "nMQQc8Sq9lFO",
        "outputId": "de786291-9ac8-4225-fd8a-93be196b9863"
      },
      "outputs": [
        {
          "output_type": "display_data",
          "data": {
            "text/plain": [
              "Text(value='/content/drive/MyDrive/AOY/', description='Folder path:', placeholder='Enter your folder path')"
            ],
            "application/vnd.jupyter.widget-view+json": {
              "version_major": 2,
              "version_minor": 0,
              "model_id": "07b9fd52ec254ad79653b26b4e26b640"
            }
          },
          "metadata": {}
        },
        {
          "output_type": "display_data",
          "data": {
            "text/plain": [
              "Button(description='Submit', style=ButtonStyle())"
            ],
            "application/vnd.jupyter.widget-view+json": {
              "version_major": 2,
              "version_minor": 0,
              "model_id": "4de79dc801d0418e96de66c4526d7e4e"
            }
          },
          "metadata": {}
        },
        {
          "output_type": "stream",
          "name": "stdout",
          "text": [
            "Folder path set to: /content/drive/MyDrive/AOY/\n"
          ]
        }
      ],
      "source": [
        "aoytk.display_path_select()"
      ]
    },
    {
      "cell_type": "markdown",
      "metadata": {
        "id": "QKw_iixX9lFQ"
      },
      "source": [
        "### Set up analysis environment and load data\n",
        "Next we'll load in our analyzer which will give us access to a variety of tools for analyzing our data, and then load up the data file we want to work with."
      ]
    },
    {
      "cell_type": "code",
      "execution_count": null,
      "metadata": {
        "id": "YCRCFP739lFR"
      },
      "outputs": [],
      "source": [
        "atk = aoytk.Analyzer()"
      ]
    },
    {
      "cell_type": "code",
      "source": [
        "atk.load_data()"
      ],
      "metadata": {
        "id": "Crz3gnwzAD1-"
      },
      "execution_count": null,
      "outputs": []
    },
    {
      "cell_type": "markdown",
      "metadata": {
        "id": "_ABHTZNo9lFS"
      },
      "source": [
        "Now we can have a look at the data we've loaded in!"
      ]
    },
    {
      "cell_type": "code",
      "execution_count": null,
      "metadata": {
        "id": "QEt2vy0x9lFU"
      },
      "outputs": [],
      "source": [
        "atk.data"
      ]
    }
  ],
  "metadata": {
    "kernelspec": {
      "display_name": "base",
      "language": "python",
      "name": "python3"
    },
    "language_info": {
      "codemirror_mode": {
        "name": "ipython",
        "version": 3
      },
      "file_extension": ".py",
      "mimetype": "text/x-python",
      "name": "python",
      "nbconvert_exporter": "python",
      "pygments_lexer": "ipython3",
      "version": "3.11.3"
    },
    "orig_nbformat": 4,
    "colab": {
      "provenance": []
    },
    "widgets": {
      "application/vnd.jupyter.widget-state+json": {
        "07b9fd52ec254ad79653b26b4e26b640": {
          "model_module": "@jupyter-widgets/controls",
          "model_name": "TextModel",
          "model_module_version": "1.5.0",
          "state": {
            "_dom_classes": [],
            "_model_module": "@jupyter-widgets/controls",
            "_model_module_version": "1.5.0",
            "_model_name": "TextModel",
            "_view_count": null,
            "_view_module": "@jupyter-widgets/controls",
            "_view_module_version": "1.5.0",
            "_view_name": "TextView",
            "continuous_update": true,
            "description": "Folder path:",
            "description_tooltip": null,
            "disabled": false,
            "layout": "IPY_MODEL_1e7b89915b9e4937b73eb0c7fb96c853",
            "placeholder": "Enter your folder path",
            "style": "IPY_MODEL_b9aeec71ea17446686fa0ae84577798f",
            "value": "/content/drive/MyDrive/AOY/"
          }
        },
        "1e7b89915b9e4937b73eb0c7fb96c853": {
          "model_module": "@jupyter-widgets/base",
          "model_name": "LayoutModel",
          "model_module_version": "1.2.0",
          "state": {
            "_model_module": "@jupyter-widgets/base",
            "_model_module_version": "1.2.0",
            "_model_name": "LayoutModel",
            "_view_count": null,
            "_view_module": "@jupyter-widgets/base",
            "_view_module_version": "1.2.0",
            "_view_name": "LayoutView",
            "align_content": null,
            "align_items": null,
            "align_self": null,
            "border": null,
            "bottom": null,
            "display": null,
            "flex": null,
            "flex_flow": null,
            "grid_area": null,
            "grid_auto_columns": null,
            "grid_auto_flow": null,
            "grid_auto_rows": null,
            "grid_column": null,
            "grid_gap": null,
            "grid_row": null,
            "grid_template_areas": null,
            "grid_template_columns": null,
            "grid_template_rows": null,
            "height": null,
            "justify_content": null,
            "justify_items": null,
            "left": null,
            "margin": null,
            "max_height": null,
            "max_width": null,
            "min_height": null,
            "min_width": null,
            "object_fit": null,
            "object_position": null,
            "order": null,
            "overflow": null,
            "overflow_x": null,
            "overflow_y": null,
            "padding": null,
            "right": null,
            "top": null,
            "visibility": null,
            "width": null
          }
        },
        "b9aeec71ea17446686fa0ae84577798f": {
          "model_module": "@jupyter-widgets/controls",
          "model_name": "DescriptionStyleModel",
          "model_module_version": "1.5.0",
          "state": {
            "_model_module": "@jupyter-widgets/controls",
            "_model_module_version": "1.5.0",
            "_model_name": "DescriptionStyleModel",
            "_view_count": null,
            "_view_module": "@jupyter-widgets/base",
            "_view_module_version": "1.2.0",
            "_view_name": "StyleView",
            "description_width": ""
          }
        },
        "4de79dc801d0418e96de66c4526d7e4e": {
          "model_module": "@jupyter-widgets/controls",
          "model_name": "ButtonModel",
          "model_module_version": "1.5.0",
          "state": {
            "_dom_classes": [],
            "_model_module": "@jupyter-widgets/controls",
            "_model_module_version": "1.5.0",
            "_model_name": "ButtonModel",
            "_view_count": null,
            "_view_module": "@jupyter-widgets/controls",
            "_view_module_version": "1.5.0",
            "_view_name": "ButtonView",
            "button_style": "",
            "description": "Submit",
            "disabled": false,
            "icon": "",
            "layout": "IPY_MODEL_3b3586237e9040398401ab7b2ab6b064",
            "style": "IPY_MODEL_39a230c8a9ad499dacf69a4a3a5cf099",
            "tooltip": ""
          }
        },
        "3b3586237e9040398401ab7b2ab6b064": {
          "model_module": "@jupyter-widgets/base",
          "model_name": "LayoutModel",
          "model_module_version": "1.2.0",
          "state": {
            "_model_module": "@jupyter-widgets/base",
            "_model_module_version": "1.2.0",
            "_model_name": "LayoutModel",
            "_view_count": null,
            "_view_module": "@jupyter-widgets/base",
            "_view_module_version": "1.2.0",
            "_view_name": "LayoutView",
            "align_content": null,
            "align_items": null,
            "align_self": null,
            "border": null,
            "bottom": null,
            "display": null,
            "flex": null,
            "flex_flow": null,
            "grid_area": null,
            "grid_auto_columns": null,
            "grid_auto_flow": null,
            "grid_auto_rows": null,
            "grid_column": null,
            "grid_gap": null,
            "grid_row": null,
            "grid_template_areas": null,
            "grid_template_columns": null,
            "grid_template_rows": null,
            "height": null,
            "justify_content": null,
            "justify_items": null,
            "left": null,
            "margin": null,
            "max_height": null,
            "max_width": null,
            "min_height": null,
            "min_width": null,
            "object_fit": null,
            "object_position": null,
            "order": null,
            "overflow": null,
            "overflow_x": null,
            "overflow_y": null,
            "padding": null,
            "right": null,
            "top": null,
            "visibility": null,
            "width": null
          }
        },
        "39a230c8a9ad499dacf69a4a3a5cf099": {
          "model_module": "@jupyter-widgets/controls",
          "model_name": "ButtonStyleModel",
          "model_module_version": "1.5.0",
          "state": {
            "_model_module": "@jupyter-widgets/controls",
            "_model_module_version": "1.5.0",
            "_model_name": "ButtonStyleModel",
            "_view_count": null,
            "_view_module": "@jupyter-widgets/base",
            "_view_module_version": "1.2.0",
            "_view_name": "StyleView",
            "button_color": null,
            "font_weight": ""
          }
        }
      }
    }
  },
  "nbformat": 4,
  "nbformat_minor": 0
}