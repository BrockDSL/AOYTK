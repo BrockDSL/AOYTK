{
  "cells": [
    {
      "cell_type": "markdown",
      "metadata": {
        "id": "PcZ2bwN99lFC"
      },
      "source": [
        "![AOY Logo](https://raw.githubusercontent.com/BrockDSL/AOYTK/main/AOY_Logo.png)\n",
        "\n",
        "All Our Yesterdays - A toolkit to explore web archives\n",
        "\n",
        "[Homepage](https://brockdsl.github.io/AOTYK)"
      ]
    },
    {
      "cell_type": "markdown",
      "metadata": {
        "id": "Zx_YH3tQ9lFH"
      },
      "source": [
        "# File Format Analysis\n",
        "\n",
        "This notebook provides some basic tools for looking at file type derivatives.\n",
        "\n",
        "Some of the tools in this notebook are specific to derivatives containing information about image files, these tools are collected at the end of the notebook."
      ]
    },
    {
      "cell_type": "markdown",
      "metadata": {
        "id": "yxkgmyA69lFI"
      },
      "source": [
        "### Mount Google Drive\n",
        "In order to persist working files/data across multiple runs of the notebook.\n"
      ]
    },
    {
      "cell_type": "code",
      "execution_count": null,
      "metadata": {
        "id": "TNPFY4Dq9lFK"
      },
      "outputs": [],
      "source": [
        "from google.colab import drive\n",
        "drive.mount(\"/content/drive/\")"
      ]
    },
    {
      "cell_type": "markdown",
      "metadata": {
        "id": "5sggy-Bw9lFL"
      },
      "source": [
        "### Load AOYTK\n",
        "\n",
        "Downloads and imports the All Our Yesterdays Toolkit"
      ]
    },
    {
      "cell_type": "code",
      "execution_count": null,
      "metadata": {
        "id": "5AhD6Oay9lFM"
      },
      "outputs": [],
      "source": [
        "!wget \"https://raw.githubusercontent.com/BrockDSL/AOYTK/main/aoytk.py\"\n",
        "import aoytk"
      ]
    },
    {
      "cell_type": "markdown",
      "metadata": {
        "id": "LFfhU6qc9lFN"
      },
      "source": [
        "### Set Working Directory\n",
        "Select a working folder for reading and writing data. By default, this path will be set to `/content/drive/MyDrive/AOY/`."
      ]
    },
    {
      "cell_type": "code",
      "execution_count": null,
      "metadata": {
        "id": "nMQQc8Sq9lFO"
      },
      "outputs": [],
      "source": [
        "aoytk.display_path_select()"
      ]
    },
    {
      "cell_type": "markdown",
      "metadata": {
        "id": "QKw_iixX9lFQ"
      },
      "source": [
        "### Set up analysis environment and load data\n",
        "Next we'll load in our analyzer which will give us access to a variety of tools for analyzing our data, and then load up the data file we want to work with."
      ]
    },
    {
      "cell_type": "code",
      "execution_count": null,
      "metadata": {
        "id": "YCRCFP739lFR"
      },
      "outputs": [],
      "source": [
        "atk = aoytk.Analyzer()"
      ]
    },
    {
      "cell_type": "code",
      "source": [
        "atk.load_data()"
      ],
      "metadata": {
        "id": "Crz3gnwzAD1-"
      },
      "execution_count": null,
      "outputs": []
    },
    {
      "cell_type": "markdown",
      "metadata": {
        "id": "_ABHTZNo9lFS"
      },
      "source": [
        "Now we can have a look at the data we've loaded in!"
      ]
    },
    {
      "cell_type": "code",
      "execution_count": null,
      "metadata": {
        "id": "QEt2vy0x9lFU"
      },
      "outputs": [],
      "source": [
        "atk.data"
      ]
    },
    {
      "cell_type": "markdown",
      "source": [
        "## File Derivative Summary\n",
        "The following cell will generate a brief summary of the information contained in the file derivative, including the number of files and domains represented and the number and type of different extensions present.\n"
      ],
      "metadata": {
        "id": "wM1B7LUn3ErM"
      }
    },
    {
      "cell_type": "code",
      "source": [
        "atk.display_file_summary()"
      ],
      "metadata": {
        "id": "tHB8LszI17zM"
      },
      "execution_count": null,
      "outputs": []
    },
    {
      "cell_type": "markdown",
      "source": [
        "## Most Common Files\n",
        "The following widget will display the top `x` files occurring in the dataset, where the number of occurances is counted either by MD5 hash or by URL.\n"
      ],
      "metadata": {
        "id": "uuFwIpxx4Ze3"
      }
    },
    {
      "cell_type": "code",
      "source": [
        "atk.display_top_files()"
      ],
      "metadata": {
        "id": "GDd3D5mVHT5s"
      },
      "execution_count": null,
      "outputs": []
    },
    {
      "cell_type": "markdown",
      "source": [
        "### Files with the same MD5 hash shared between different domains\n",
        "\n",
        "The following widget will print the hashes of files which appear in multiple different domains in the dataset, along with a list of the domains in which they appear."
      ],
      "metadata": {
        "id": "-PUuTJNy91Do"
      }
    },
    {
      "cell_type": "code",
      "source": [
        "atk.same_hash_different_domains()"
      ],
      "metadata": {
        "id": "uXhkmb5kExMs"
      },
      "execution_count": null,
      "outputs": []
    },
    {
      "cell_type": "markdown",
      "source": [
        "## Image-specific Features\n",
        "\n",
        "The following functions are specifically for use with derivatives containing information about image files.\n",
        "\n"
      ],
      "metadata": {
        "id": "ew9-mUxC7tj2"
      }
    },
    {
      "cell_type": "markdown",
      "source": [
        "### Display Image\n",
        "The following widget allows you to view an image using its corresponding URL or MD5 hash value, either directly from your derivative CSV or found using one of the tools above. The widget will also produce a link to view the image on the Internet Archive's WayBack Machine site, in case it does not display correctly within the notebook. Please note: images may take some time to load into the notebook!"
      ],
      "metadata": {
        "id": "tzcMQMI7ejrw"
      }
    },
    {
      "cell_type": "code",
      "source": [
        "atk.view_image()"
      ],
      "metadata": {
        "id": "TjQeDAwqFpTf"
      },
      "execution_count": null,
      "outputs": []
    },
    {
      "cell_type": "markdown",
      "source": [
        "### Temporal Distribution of an Image\n",
        "\n",
        "The following widget will generate a link that will allow you to view the number of times the specified image has been saved by the Internet Archive's Wayback Machine, and when it was saved."
      ],
      "metadata": {
        "id": "mzvbWkGj5g5-"
      }
    },
    {
      "cell_type": "code",
      "source": [
        "atk.get_image_temporal_distribution()"
      ],
      "metadata": {
        "id": "2rETEq6He0mD"
      },
      "execution_count": null,
      "outputs": []
    },
    {
      "cell_type": "markdown",
      "source": [
        "### Download Images\n",
        "Download the top `x` images, where top images are defined by link or MD5 hash, to the specified output folder. The output folder will be created if it does not already exist. This folder will be a subfolder of the working folder set using the `aoytk.display_path_select()` function earlier in the notebook (under \"Set Working Directory\"). By default, this is the `/content/drive/MyDrive/AOY` folder. To download all images in the derivative, move the slider to the maximum.\n",
        "\n",
        "**Note:** Downloading large numbers of images may require significant storage space, be mindful of this when saving large numbers of images to your Google Drive!\n",
        "\n",
        "Files will be saved under their original filename, with the domain added as a prefix. An image with the name `hello_world.jpg` from domain `example.org` would be saved as `example_org_hello_world.jpg`."
      ],
      "metadata": {
        "id": "3elO8hzr9tEi"
      }
    },
    {
      "cell_type": "code",
      "source": [
        "atk.display_download_images()"
      ],
      "metadata": {
        "id": "Y-kkBZgrzlQ1"
      },
      "execution_count": null,
      "outputs": []
    }
  ],
  "metadata": {
    "kernelspec": {
      "display_name": "base",
      "language": "python",
      "name": "python3"
    },
    "language_info": {
      "codemirror_mode": {
        "name": "ipython",
        "version": 3
      },
      "file_extension": ".py",
      "mimetype": "text/x-python",
      "name": "python",
      "nbconvert_exporter": "python",
      "pygments_lexer": "ipython3",
      "version": "3.11.3"
    },
    "orig_nbformat": 4,
    "colab": {
      "provenance": []
    }
  },
  "nbformat": 4,
  "nbformat_minor": 0
}