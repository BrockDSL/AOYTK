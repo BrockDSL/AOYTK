{
  "nbformat": 4,
  "nbformat_minor": 0,
  "metadata": {
    "colab": {
      "provenance": [],
      "authorship_tag": "ABX9TyOWnokgeMQ0d1LUZvZ79hSq",
      "include_colab_link": true
    },
    "kernelspec": {
      "name": "python3",
      "display_name": "Python 3"
    },
    "language_info": {
      "name": "python"
    },
    "widgets": {
      "application/vnd.jupyter.widget-state+json": {
        "e701f8c6ead84e678d77985f0e967ae9": {
          "model_module": "@jupyter-widgets/controls",
          "model_name": "TextModel",
          "model_module_version": "1.5.0",
          "state": {
            "_dom_classes": [],
            "_model_module": "@jupyter-widgets/controls",
            "_model_module_version": "1.5.0",
            "_model_name": "TextModel",
            "_view_count": null,
            "_view_module": "@jupyter-widgets/controls",
            "_view_module_version": "1.5.0",
            "_view_name": "TextView",
            "continuous_update": true,
            "description": "Folder path:",
            "description_tooltip": null,
            "disabled": false,
            "layout": "IPY_MODEL_9ad553242d744e7cb710c9d173c447ea",
            "placeholder": "​",
            "style": "IPY_MODEL_36980d1fc21d41b8b51b23a6816eafe9",
            "value": ""
          }
        },
        "9ad553242d744e7cb710c9d173c447ea": {
          "model_module": "@jupyter-widgets/base",
          "model_name": "LayoutModel",
          "model_module_version": "1.2.0",
          "state": {
            "_model_module": "@jupyter-widgets/base",
            "_model_module_version": "1.2.0",
            "_model_name": "LayoutModel",
            "_view_count": null,
            "_view_module": "@jupyter-widgets/base",
            "_view_module_version": "1.2.0",
            "_view_name": "LayoutView",
            "align_content": null,
            "align_items": null,
            "align_self": null,
            "border": null,
            "bottom": null,
            "display": null,
            "flex": null,
            "flex_flow": null,
            "grid_area": null,
            "grid_auto_columns": null,
            "grid_auto_flow": null,
            "grid_auto_rows": null,
            "grid_column": null,
            "grid_gap": null,
            "grid_row": null,
            "grid_template_areas": null,
            "grid_template_columns": null,
            "grid_template_rows": null,
            "height": null,
            "justify_content": null,
            "justify_items": null,
            "left": null,
            "margin": null,
            "max_height": null,
            "max_width": null,
            "min_height": null,
            "min_width": null,
            "object_fit": null,
            "object_position": null,
            "order": null,
            "overflow": null,
            "overflow_x": null,
            "overflow_y": null,
            "padding": null,
            "right": null,
            "top": null,
            "visibility": null,
            "width": null
          }
        },
        "36980d1fc21d41b8b51b23a6816eafe9": {
          "model_module": "@jupyter-widgets/controls",
          "model_name": "DescriptionStyleModel",
          "model_module_version": "1.5.0",
          "state": {
            "_model_module": "@jupyter-widgets/controls",
            "_model_module_version": "1.5.0",
            "_model_name": "DescriptionStyleModel",
            "_view_count": null,
            "_view_module": "@jupyter-widgets/base",
            "_view_module_version": "1.2.0",
            "_view_name": "StyleView",
            "description_width": ""
          }
        },
        "1ee931b4ee644bf791ec224f5661a9ba": {
          "model_module": "@jupyter-widgets/controls",
          "model_name": "ButtonModel",
          "model_module_version": "1.5.0",
          "state": {
            "_dom_classes": [],
            "_model_module": "@jupyter-widgets/controls",
            "_model_module_version": "1.5.0",
            "_model_name": "ButtonModel",
            "_view_count": null,
            "_view_module": "@jupyter-widgets/controls",
            "_view_module_version": "1.5.0",
            "_view_name": "ButtonView",
            "button_style": "",
            "description": "Submit",
            "disabled": false,
            "icon": "",
            "layout": "IPY_MODEL_83208a3e62ba40f6bb63447576fbde0e",
            "style": "IPY_MODEL_59e3fc46992d4bfc8810bab296878c26",
            "tooltip": ""
          }
        },
        "83208a3e62ba40f6bb63447576fbde0e": {
          "model_module": "@jupyter-widgets/base",
          "model_name": "LayoutModel",
          "model_module_version": "1.2.0",
          "state": {
            "_model_module": "@jupyter-widgets/base",
            "_model_module_version": "1.2.0",
            "_model_name": "LayoutModel",
            "_view_count": null,
            "_view_module": "@jupyter-widgets/base",
            "_view_module_version": "1.2.0",
            "_view_name": "LayoutView",
            "align_content": null,
            "align_items": null,
            "align_self": null,
            "border": null,
            "bottom": null,
            "display": null,
            "flex": null,
            "flex_flow": null,
            "grid_area": null,
            "grid_auto_columns": null,
            "grid_auto_flow": null,
            "grid_auto_rows": null,
            "grid_column": null,
            "grid_gap": null,
            "grid_row": null,
            "grid_template_areas": null,
            "grid_template_columns": null,
            "grid_template_rows": null,
            "height": null,
            "justify_content": null,
            "justify_items": null,
            "left": null,
            "margin": null,
            "max_height": null,
            "max_width": null,
            "min_height": null,
            "min_width": null,
            "object_fit": null,
            "object_position": null,
            "order": null,
            "overflow": null,
            "overflow_x": null,
            "overflow_y": null,
            "padding": null,
            "right": null,
            "top": null,
            "visibility": null,
            "width": null
          }
        },
        "59e3fc46992d4bfc8810bab296878c26": {
          "model_module": "@jupyter-widgets/controls",
          "model_name": "ButtonStyleModel",
          "model_module_version": "1.5.0",
          "state": {
            "_model_module": "@jupyter-widgets/controls",
            "_model_module_version": "1.5.0",
            "_model_name": "ButtonStyleModel",
            "_view_count": null,
            "_view_module": "@jupyter-widgets/base",
            "_view_module_version": "1.2.0",
            "_view_name": "StyleView",
            "button_color": null,
            "font_weight": ""
          }
        }
      }
    }
  },
  "cells": [
    {
      "cell_type": "markdown",
      "metadata": {
        "id": "view-in-github",
        "colab_type": "text"
      },
      "source": [
        "<a href=\"https://colab.research.google.com/github/BrockDSL/AOYTK/blob/main/AOY_Text_Topic_Modeling.ipynb\" target=\"_parent\"><img src=\"https://colab.research.google.com/assets/colab-badge.svg\" alt=\"Open In Colab\"/></a>"
      ]
    },
    {
      "cell_type": "markdown",
      "source": [
        "![AOY Logo](https://raw.githubusercontent.com/BrockDSL/AOYTK/main/AOY_Logo.png) \n",
        "\n",
        "# All Our Yesterdays\n",
        "\n",
        "A [toolkit](https://brockdsl.github.io/AOTYK) to explore web archives.\n",
        "\n",
        "\n",
        "## Topic Modelling\n",
        "\n",
        "This notebook will open a derivative csv file and go through the basic setup and execution of an LDA topic model using SciKit"
      ],
      "metadata": {
        "id": "wrN-Typd-TXO"
      }
    },
    {
      "cell_type": "code",
      "source": [
        "#Set Environment\n",
        "\n",
        "!pip -q install pyLDAvis\n",
        "!wget \"https://raw.githubusercontent.com/BrockDSL/AOYTK/main/aoytk.py\"\n",
        "\n",
        "\n",
        "\n",
        "import pandas as pd\n",
        "import gensim\n",
        "import pyLDAvis\n",
        "import pyLDAvis.gensim_models\n",
        "import gensim.corpora as corpora\n",
        "from gensim.utils import simple_preprocess\n",
        "from gensim.models import CoherenceModel\n",
        "from google.colab import drive \n",
        "\n",
        "import aoytk\n",
        "\n",
        "#Bootstap environment\n",
        "drive.mount(\"/content/drive/\")\n",
        "\n",
        "\n",
        "#additions to aoytk\n",
        "from IPython.display import clear_output\n",
        "clear_output()\n",
        "\n",
        "\n",
        "print(\"Select the Path where your AOY files are\")\n",
        "aoytk.display_path_select()\n",
        "\n",
        "\n",
        "\n"
      ],
      "metadata": {
        "id": "ESBra_53-4Gq",
        "colab": {
          "base_uri": "https://localhost:8080/",
          "height": 101,
          "referenced_widgets": [
            "e701f8c6ead84e678d77985f0e967ae9",
            "9ad553242d744e7cb710c9d173c447ea",
            "36980d1fc21d41b8b51b23a6816eafe9",
            "1ee931b4ee644bf791ec224f5661a9ba",
            "83208a3e62ba40f6bb63447576fbde0e",
            "59e3fc46992d4bfc8810bab296878c26"
          ]
        },
        "outputId": "b26f1851-8407-4981-a153-d408d7c43b3f"
      },
      "execution_count": 9,
      "outputs": [
        {
          "output_type": "stream",
          "name": "stdout",
          "text": [
            "Select the Path where your AOY files are\n"
          ]
        },
        {
          "output_type": "display_data",
          "data": {
            "text/plain": [
              "Text(value='', description='Folder path:')"
            ],
            "application/vnd.jupyter.widget-view+json": {
              "version_major": 2,
              "version_minor": 0,
              "model_id": "e701f8c6ead84e678d77985f0e967ae9"
            }
          },
          "metadata": {}
        },
        {
          "output_type": "display_data",
          "data": {
            "text/plain": [
              "Button(description='Submit', style=ButtonStyle())"
            ],
            "application/vnd.jupyter.widget-view+json": {
              "version_major": 2,
              "version_minor": 0,
              "model_id": "1ee931b4ee644bf791ec224f5661a9ba"
            }
          },
          "metadata": {}
        }
      ]
    },
    {
      "cell_type": "code",
      "source": [
        "#WoZ demo\n",
        "!wget -O niagara_sample.csv \"https://github.com/BrockDSL/ARCH_Data_Explore/blob/main/niagara_sample.csv?raw=true\"\n"
      ],
      "metadata": {
        "id": "rIqSTemyqXHI"
      },
      "execution_count": null,
      "outputs": []
    },
    {
      "cell_type": "markdown",
      "source": [
        "\n",
        "## Prepare Texts\n",
        "\n",
        "Run the following Cell to prepare the webpage text for modelling.\n"
      ],
      "metadata": {
        "id": "jpzGVugwqZpO"
      }
    },
    {
      "cell_type": "code",
      "source": [
        "wpd = pd.read_csv(\"niagara_sample.csv\")"
      ],
      "metadata": {
        "id": "yWd4Z7aYqplV"
      },
      "execution_count": 14,
      "outputs": []
    },
    {
      "cell_type": "markdown",
      "source": [
        "\n",
        "## Build Models\n",
        "\n",
        "Run the next cell to build the LDA model and see a basic visualization of it"
      ],
      "metadata": {
        "id": "sPfNyCp0qqQj"
      }
    },
    {
      "cell_type": "code",
      "source": [
        "\n",
        "\n",
        "#Model parameters\n",
        "\n",
        "NUM_TOPICS = 19            #default 100\n",
        "\n",
        "\n",
        "#\n",
        "ALPHA ='auto'             #default 'symmetric'\n",
        "CHUNKSIZE = 100           #default 2000\n",
        "COHERENCE_METHOD = 'c_v'\n",
        "ITERATIONS = 200          #default 50\n",
        "PASSES = 10               #default 1\n",
        "PER_WORD_TOPICS = False   #default False\n",
        "RANDOM_STATE = 100\n",
        "UPDATE_EVERY = 1          #default 1\n",
        "TOPICS_TO_SHOW = 15\n",
        "\n",
        "#Generate Model and get basic dynamics of it\n",
        "lda_model = gensim.models.ldamodel.LdaModel(corpus=corpus,\\\n",
        "                                                id2word=id2word,\\\n",
        "                                                num_topics=NUM_TOPICS,\\\n",
        "                                                random_state = RANDOM_STATE,\\\n",
        "                                                update_every = UPDATE_EVERY,\\\n",
        "                                                chunksize = CHUNKSIZE,\\\n",
        "                                                passes = PASSES,\\\n",
        "                                                alpha = ALPHA,\\\n",
        "                                                iterations = ITERATIONS,\\\n",
        "                                                per_word_topics = PER_WORD_TOPICS)\n",
        "\n",
        "coherence_model_lda = CoherenceModel(model=lda_model, texts=texts, dictionary=id2word, coherence = COHERENCE_METHOD)\n",
        "#print(\"Perplexity: \", lda_model.log_perplexity(corpus))\n",
        "#print(\"Coherence: \", coherence_model_lda.get_coherence())\n",
        "\n",
        "pyLDAvis.enable_notebook()\n",
        "#Projection parameter\n",
        "# tsne\n",
        "# mmds\n",
        "# pcoa\n",
        "vis = pyLDAvis.gensim_models.prepare(lda_model,corpus,id2word,mds=\"mmds\")\n",
        "vis"
      ],
      "metadata": {
        "id": "b63zVgBR_riR"
      },
      "execution_count": null,
      "outputs": []
    },
    {
      "cell_type": "code",
      "source": [
        "#Power down Dev Environment - Deleted this cell when finalized\n",
        "\n",
        "from google.colab import files\n",
        "files.download('aoytk.py')\n"
      ],
      "metadata": {
        "id": "wscz-2G3-9wa"
      },
      "execution_count": null,
      "outputs": []
    }
  ]
}