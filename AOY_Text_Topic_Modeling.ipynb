{
  "nbformat": 4,
  "nbformat_minor": 0,
  "metadata": {
    "colab": {
      "provenance": [],
      "authorship_tag": "ABX9TyMUMo1hG2i/UNZiqY3Ijt47",
      "include_colab_link": true
    },
    "kernelspec": {
      "name": "python3",
      "display_name": "Python 3"
    },
    "language_info": {
      "name": "python"
    }
  },
  "cells": [
    {
      "cell_type": "markdown",
      "metadata": {
        "id": "view-in-github",
        "colab_type": "text"
      },
      "source": [
        "<a href=\"https://colab.research.google.com/github/BrockDSL/AOYTK/blob/main/AOY_Text_Topic_Modeling.ipynb\" target=\"_parent\"><img src=\"https://colab.research.google.com/assets/colab-badge.svg\" alt=\"Open In Colab\"/></a>"
      ]
    },
    {
      "cell_type": "markdown",
      "source": [
        "![AOY Logo](https://raw.githubusercontent.com/BrockDSL/AOYTK/main/AOY_Logo.png) \n",
        "\n",
        "# All Our Yesterdays\n",
        "\n",
        "A [toolkit](https://brockdsl.github.io/AOTYK) to explore web archives.\n",
        "\n",
        "\n",
        "## Topic Modelling\n",
        "\n",
        "This notebook will open a derivative csv file and go through the basic setup and execution of an LDA topic model using SciKit"
      ],
      "metadata": {
        "id": "wrN-Typd-TXO"
      }
    },
    {
      "cell_type": "code",
      "source": [
        "print(\"Setting up AOYTK please wait...\")\n",
        "!wget \"https://raw.githubusercontent.com/BrockDSL/AOYTK/tim_branch/aoytk.py\"\n",
        "\n",
        "#LDA Specific\n",
        "!pip -q install pyLDAvis\n",
        "import gensim\n",
        "import pyLDAvis\n",
        "import pyLDAvis.gensim_models\n",
        "import gensim.corpora as corpora\n",
        "from gensim.utils import simple_preprocess\n",
        "from gensim.models import CoherenceModel\n",
        "import aoytk\n",
        "\n",
        "drive.mount(\"/content/drive/\")\n",
        "clear_output()\n",
        "print(\"Ready to proceed.\")\n"
      ],
      "metadata": {
        "id": "ESBra_53-4Gq",
        "colab": {
          "base_uri": "https://localhost:8080/"
        },
        "outputId": "52882f00-9900-4df1-df82-1c445384d18f"
      },
      "execution_count": 59,
      "outputs": [
        {
          "output_type": "stream",
          "name": "stdout",
          "text": [
            "Ready to proceed.\n"
          ]
        }
      ]
    },
    {
      "cell_type": "code",
      "source": [
        "#These two lines are for dev\n",
        "import importlib\n",
        "importlib.reload(aoytk)\n",
        "\n",
        "#Set up pieces for AOYTK object\n",
        "atk = aoytk.Analyzer()\n",
        "atk.load_data()\n",
        "atk.set_LDA_model_topics()"
      ],
      "metadata": {
        "id": "z2BtzELrTFF5"
      },
      "execution_count": null,
      "outputs": []
    },
    {
      "cell_type": "code",
      "source": [
        "#Run this cell if you want to see the whole derivative\n",
        "atk.data"
      ],
      "metadata": {
        "id": "Qq3DxAtikM_P"
      },
      "execution_count": null,
      "outputs": []
    },
    {
      "cell_type": "markdown",
      "source": [
        "\n",
        "## Prepare Text\n"
      ],
      "metadata": {
        "id": "jpzGVugwqZpO"
      }
    },
    {
      "cell_type": "code",
      "source": [],
      "metadata": {
        "id": "XRELiO4Dmc0R"
      },
      "execution_count": null,
      "outputs": []
    },
    {
      "cell_type": "markdown",
      "source": [
        "\n",
        "## Build Model"
      ],
      "metadata": {
        "id": "sPfNyCp0qqQj"
      }
    },
    {
      "cell_type": "code",
      "source": [
        "#Model parameters\n",
        "\n",
        "NUM_TOPICS = atk.number_LDA_Topics # change if you want to set to arbitrary value\n",
        "\n",
        "ALPHA ='auto'             #default 'symmetric'\n",
        "CHUNKSIZE = 100           #default 2000\n",
        "COHERENCE_METHOD = 'c_v'\n",
        "ITERATIONS = 200          #default 50\n",
        "PASSES = 10               #default 1\n",
        "PER_WORD_TOPICS = False   #default False\n",
        "RANDOM_STATE = 100\n",
        "UPDATE_EVERY = 1          #default 1\n",
        "TOPICS_TO_SHOW = 15\n",
        "\n",
        "#Generate Model and get basic dynamics of it\n",
        "lda_model = gensim.models.ldamodel.LdaModel(corpus=corpus,\\\n",
        "                                                id2word=id2word,\\\n",
        "                                                num_topics=NUM_TOPICS,\\\n",
        "                                                random_state = RANDOM_STATE,\\\n",
        "                                                update_every = UPDATE_EVERY,\\\n",
        "                                                chunksize = CHUNKSIZE,\\\n",
        "                                                passes = PASSES,\\\n",
        "                                                alpha = ALPHA,\\\n",
        "                                                iterations = ITERATIONS,\\\n",
        "                                                per_word_topics = PER_WORD_TOPICS)\n",
        "\n",
        "#coherence_model_lda = CoherenceModel(model=lda_model, texts=texts, dictionary=id2word, coherence = COHERENCE_METHOD)\n",
        "#print(\"Perplexity: \", lda_model.log_perplexity(corpus))\n",
        "#print(\"Coherence: \", coherence_model_lda.get_coherence())\n",
        "\n",
        "pyLDAvis.enable_notebook()\n",
        "#Projection parameter\n",
        "# tsne\n",
        "# mmds\n",
        "# pcoa\n",
        "vis = pyLDAvis.gensim_models.prepare(lda_model,corpus,id2word,mds=\"mmds\")\n",
        "vis"
      ],
      "metadata": {
        "id": "b63zVgBR_riR"
      },
      "execution_count": null,
      "outputs": []
    },
    {
      "cell_type": "markdown",
      "source": [
        "\n",
        "## Dev Cells\n",
        "\n",
        "are below"
      ],
      "metadata": {
        "id": "5V4cPVDBby9e"
      }
    },
    {
      "cell_type": "code",
      "source": [
        "#Run to reload aoytk after making changes\n",
        "import importlib\n",
        "importlib.reload(aoytk)"
      ],
      "metadata": {
        "id": "rSwzjAJIWmOz"
      },
      "execution_count": null,
      "outputs": []
    },
    {
      "cell_type": "code",
      "source": [
        "#Power down Dev Environment - Deleted this cell when finalized\n",
        "\n",
        "from google.colab import files\n",
        "files.download('aoytk.py')\n"
      ],
      "metadata": {
        "id": "wscz-2G3-9wa",
        "colab": {
          "base_uri": "https://localhost:8080/",
          "height": 17
        },
        "outputId": "5f88634d-0c62-4b20-e987-8b0697e8e088"
      },
      "execution_count": 85,
      "outputs": [
        {
          "output_type": "display_data",
          "data": {
            "text/plain": [
              "<IPython.core.display.Javascript object>"
            ],
            "application/javascript": [
              "\n",
              "    async function download(id, filename, size) {\n",
              "      if (!google.colab.kernel.accessAllowed) {\n",
              "        return;\n",
              "      }\n",
              "      const div = document.createElement('div');\n",
              "      const label = document.createElement('label');\n",
              "      label.textContent = `Downloading \"${filename}\": `;\n",
              "      div.appendChild(label);\n",
              "      const progress = document.createElement('progress');\n",
              "      progress.max = size;\n",
              "      div.appendChild(progress);\n",
              "      document.body.appendChild(div);\n",
              "\n",
              "      const buffers = [];\n",
              "      let downloaded = 0;\n",
              "\n",
              "      const channel = await google.colab.kernel.comms.open(id);\n",
              "      // Send a message to notify the kernel that we're ready.\n",
              "      channel.send({})\n",
              "\n",
              "      for await (const message of channel.messages) {\n",
              "        // Send a message to notify the kernel that we're ready.\n",
              "        channel.send({})\n",
              "        if (message.buffers) {\n",
              "          for (const buffer of message.buffers) {\n",
              "            buffers.push(buffer);\n",
              "            downloaded += buffer.byteLength;\n",
              "            progress.value = downloaded;\n",
              "          }\n",
              "        }\n",
              "      }\n",
              "      const blob = new Blob(buffers, {type: 'application/binary'});\n",
              "      const a = document.createElement('a');\n",
              "      a.href = window.URL.createObjectURL(blob);\n",
              "      a.download = filename;\n",
              "      div.appendChild(a);\n",
              "      a.click();\n",
              "      div.remove();\n",
              "    }\n",
              "  "
            ]
          },
          "metadata": {}
        },
        {
          "output_type": "display_data",
          "data": {
            "text/plain": [
              "<IPython.core.display.Javascript object>"
            ],
            "application/javascript": [
              "download(\"download_bbfac24c-04c7-4d64-895f-6e23aec832fa\", \"aoytk.py\", 16322)"
            ]
          },
          "metadata": {}
        }
      ]
    }
  ]
}