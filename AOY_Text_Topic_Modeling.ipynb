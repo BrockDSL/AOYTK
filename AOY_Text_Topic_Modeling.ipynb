{
  "nbformat": 4,
  "nbformat_minor": 0,
  "metadata": {
    "colab": {
      "provenance": [],
      "authorship_tag": "ABX9TyMDABRLYmAsvkT6Tzusn3Ky",
      "include_colab_link": true
    },
    "kernelspec": {
      "name": "python3",
      "display_name": "Python 3"
    },
    "language_info": {
      "name": "python"
    }
  },
  "cells": [
    {
      "cell_type": "markdown",
      "metadata": {
        "id": "view-in-github",
        "colab_type": "text"
      },
      "source": [
        "<a href=\"https://colab.research.google.com/github/BrockDSL/AOYTK/blob/main/AOY_Text_Topic_Modeling.ipynb\" target=\"_parent\"><img src=\"https://colab.research.google.com/assets/colab-badge.svg\" alt=\"Open In Colab\"/></a>"
      ]
    },
    {
      "cell_type": "markdown",
      "source": [
        "![AOY Logo](https://raw.githubusercontent.com/BrockDSL/AOYTK/main/AOY_Logo.png) \n",
        "\n",
        "All Our Yesterdays - A toolkit to explore web archives\n",
        "[Homepage](https://brockdsl.github.io/AOTYK)\n",
        "\n",
        "\n",
        "## Topic Modelling\n",
        "\n",
        "This notebook will open a derivative csv file and go through the basic setup and execution of an LDA topic model using SciKit"
      ],
      "metadata": {
        "id": "wrN-Typd-TXO"
      }
    },
    {
      "cell_type": "code",
      "source": [
        "#Setup Dev Environment - Delete this cell when finalized\n",
        "\n",
        "!wget \"https://github.com/BrockDSL/AOYTK/blob/main/aoytk.py\""
      ],
      "metadata": {
        "id": "ESBra_53-4Gq"
      },
      "execution_count": null,
      "outputs": []
    },
    {
      "cell_type": "code",
      "source": [
        "#Libraries etc\n",
        "\n",
        "import pandas as pd"
      ],
      "metadata": {
        "id": "M_G0BQK1_cBQ"
      },
      "execution_count": null,
      "outputs": []
    },
    {
      "cell_type": "code",
      "source": [
        "# Pick CSV file from AOY data via widget "
      ],
      "metadata": {
        "id": "2w8otMkP_fEO"
      },
      "execution_count": null,
      "outputs": []
    },
    {
      "cell_type": "code",
      "source": [
        "# Do the modeling and visualize model with pyLDAViz"
      ],
      "metadata": {
        "id": "b63zVgBR_riR"
      },
      "execution_count": null,
      "outputs": []
    },
    {
      "cell_type": "code",
      "source": [
        "# Write out model / assorted CSV files somehow?"
      ],
      "metadata": {
        "id": "I-XSMj_2_xsk"
      },
      "execution_count": null,
      "outputs": []
    },
    {
      "cell_type": "code",
      "source": [
        "#Power down Dev Environment - Deleted this cell when finalized\n",
        "\n",
        "from google.colab import files\n",
        "files.download('aoytk.py')\n"
      ],
      "metadata": {
        "id": "wscz-2G3-9wa"
      },
      "execution_count": null,
      "outputs": []
    }
  ]
}