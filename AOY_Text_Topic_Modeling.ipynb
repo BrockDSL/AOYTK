{
  "nbformat": 4,
  "nbformat_minor": 0,
  "metadata": {
    "colab": {
      "provenance": [],
      "authorship_tag": "ABX9TyN28bbsxPlZStEXE4dtxVlj"
    },
    "kernelspec": {
      "name": "python3",
      "display_name": "Python 3"
    },
    "language_info": {
      "name": "python"
    }
  },
  "cells": [
    {
      "cell_type": "markdown",
      "source": [
        "![AOY Logo](https://raw.githubusercontent.com/BrockDSL/AOYTK/main/AOY_Logo.png) \n",
        "\n",
        "# All Our Yesterdays\n",
        "\n",
        "A [toolkit](https://brockdsl.github.io/AOTYK) to explore web archives.\n",
        "\n",
        "\n",
        "## Topic Modelling\n",
        "\n",
        "This notebook will open a derivative csv file and go through the basic setup and execution of an LDA topic model using SciKit"
      ],
      "metadata": {
        "id": "wrN-Typd-TXO"
      }
    },
    {
      "cell_type": "code",
      "source": [
        "print(\"Setting up AOYTK please wait...\")\n",
        "!wget \"https://raw.githubusercontent.com/BrockDSL/AOYTK/tim_branch/aoytk.py\"\n",
        "\n",
        "#LDA Specific\n",
        "!pip -q install pyLDAvis\n",
        "!pip -q install spacy\n",
        "!python -m spacy download en_core_web_md\n",
        "import aoytk\n",
        "import spacy\n",
        "import nltk\n",
        "import gensim\n",
        "import pandas as pd\n",
        "import pyLDAvis\n",
        "import warnings\n",
        "import pickle\n",
        "import os\n",
        "import pyLDAvis.gensim_models\n",
        "import gensim.corpora as corpora\n",
        "from gensim.utils import simple_preprocess\n",
        "from gensim.models import CoherenceModel\n",
        "from nltk.corpus import stopwords\n",
        "from google.colab import drive\n",
        "from IPython.display import clear_output\n",
        "\n",
        "warnings.filterwarnings(\"ignore\", category=DeprecationWarning)\n",
        "\n",
        "\n",
        "drive.mount(\"/content/drive/\")\n",
        "clear_output()\n",
        "print(\"Ready to proceed.\")\n"
      ],
      "metadata": {
        "id": "ESBra_53-4Gq"
      },
      "execution_count": null,
      "outputs": []
    },
    {
      "cell_type": "code",
      "source": [
        "#These two lines are for dev\n",
        "import importlib\n",
        "importlib.reload(aoytk)\n",
        "\n",
        "#Set up pieces for AOYTK object\n",
        "atk = aoytk.Analyzer()\n",
        "atk.load_data()\n",
        "atk.set_LDA_model_topics()"
      ],
      "metadata": {
        "id": "z2BtzELrTFF5"
      },
      "execution_count": null,
      "outputs": []
    },
    {
      "cell_type": "code",
      "source": [
        "#Run this cell if you want to see the whole derivative\n",
        "atk.data"
      ],
      "metadata": {
        "id": "Qq3DxAtikM_P"
      },
      "execution_count": null,
      "outputs": []
    },
    {
      "cell_type": "markdown",
      "source": [
        "\n",
        "## Prepare Text\n"
      ],
      "metadata": {
        "id": "jpzGVugwqZpO"
      }
    },
    {
      "cell_type": "code",
      "source": [
        "#What parts of speech to keep?\n",
        "ALLOWED_POSTAGS = [\n",
        "    \"ADJ\",\n",
        "    \"ADP\",\n",
        "    \"ADV\",\n",
        "    \"AUX\",\n",
        "    \"CONJ\"\n",
        "    \"CCONJ\",\n",
        "    \"DET\",\n",
        "    \"INTJ\",\n",
        "    \"NOUN\",\n",
        "#    \"PART\",\n",
        "    \"PRON\",\n",
        "#    \"PROPN\",\n",
        "    \"SCONJ\",\n",
        "    \"VERB\"\n",
        "]\n",
        "\n",
        "#If you have extra stopwords put them here\n",
        "EXTRA_STOPWORDS = [\n",
        "]\n",
        "\n",
        "\n",
        "#Stop words\n",
        "nltk.download('stopwords')\n",
        "stop_words = stopwords.words('english')\n",
        "for word in EXTRA_STOPWORDS:\n",
        "  stop_words.append(word)\n",
        "\n",
        "nlp = spacy.load('en_core_web_md', disable=['parser', 'ner'])\n",
        "\n",
        "def sent_to_words(sentences):\n",
        "    for sentence in sentences:\n",
        "        yield(gensim.utils.simple_preprocess(str(sentence), deacc=True))\n",
        "\n",
        "def remove_stopwords(texts):\n",
        "    return [[word for word in simple_preprocess(str(doc)) if word not in stop_words] for doc in texts]\n",
        "\n",
        "def lemmatization(texts, allowed_postags):\n",
        "    texts_out = []\n",
        "    for sent in texts:\n",
        "        doc = nlp(\" \".join(sent)) \n",
        "        texts_out.append([token.lemma_ for token in doc if token.pos_ in allowed_postags])\n",
        "    return texts_out\n",
        "\n",
        "data = atk.data.dropna(subset=['content'])\n",
        "data = data[data.language == 'en'].content.values.tolist()\n",
        "\n",
        "data_words = list(sent_to_words(data))\n",
        "data_words_nostops = remove_stopwords(data_words)\n",
        "data_lemmatized = lemmatization(data_words_nostops, allowed_postags=ALLOWED_POSTAGS)\n",
        "\n",
        "\n",
        "\n",
        "id2word = corpora.Dictionary(data_lemmatized)\n",
        "texts = data_lemmatized\n",
        "corpus = [id2word.doc2bow(text) for text in texts]\n",
        "\n",
        "print(\"\\nDone Prepping text!\")"
      ],
      "metadata": {
        "id": "XRELiO4Dmc0R"
      },
      "execution_count": null,
      "outputs": []
    },
    {
      "cell_type": "markdown",
      "source": [
        "\n",
        "## Build Model"
      ],
      "metadata": {
        "id": "sPfNyCp0qqQj"
      }
    },
    {
      "cell_type": "code",
      "source": [
        "#Model parameters\n",
        "\n",
        "NUM_TOPICS = atk.number_LDA_Topics # change if you want to set to arbitrary value\n",
        "\n",
        "ALPHA ='auto'             #default 'symmetric'\n",
        "CHUNKSIZE = 100           #default 2000\n",
        "COHERENCE_METHOD = 'c_v'\n",
        "ITERATIONS = 200          #default 50\n",
        "PASSES = 10               #default 1\n",
        "PER_WORD_TOPICS = False   #default False\n",
        "RANDOM_STATE = 100\n",
        "UPDATE_EVERY = 1          #default 1\n",
        "TOPICS_TO_SHOW = 15\n",
        "\n",
        "#Generate Model and get basic dynamics of it\n",
        "print(\"Building model... This may take serveral minutes\")\n",
        "lda_model = gensim.models.ldamodel.LdaModel(corpus=corpus,\\\n",
        "                                                id2word=id2word,\\\n",
        "                                                num_topics=NUM_TOPICS,\\\n",
        "                                                random_state = RANDOM_STATE,\\\n",
        "                                                update_every = UPDATE_EVERY,\\\n",
        "                                                chunksize = CHUNKSIZE,\\\n",
        "                                                passes = PASSES,\\\n",
        "                                                alpha = ALPHA,\\\n",
        "                                                iterations = ITERATIONS,\\\n",
        "                                                per_word_topics = PER_WORD_TOPICS)\n",
        "\n",
        "pyLDAvis.enable_notebook()\n",
        "#Projection parameter\n",
        "# tsne\n",
        "# mmds\n",
        "# pcoa\n",
        "vis = pyLDAvis.gensim_models.prepare(lda_model,corpus,id2word,mds=\"mmds\")\n",
        "vis"
      ],
      "metadata": {
        "id": "b63zVgBR_riR"
      },
      "execution_count": null,
      "outputs": []
    },
    {
      "cell_type": "markdown",
      "source": [
        "\n",
        "# Save Model"
      ],
      "metadata": {
        "id": "3uxKn4uLy_Ul"
      }
    },
    {
      "cell_type": "code",
      "source": [
        "#model files will be_prefaced with this\n",
        "model_name = \"niagara_sample\"\n",
        "\n",
        "try:\n",
        "  os.mkdir('models')\n",
        "except:\n",
        "  pass\n",
        "\n",
        "pickle.dump(texts,open(aoytk.path+\"models/\"+model_name+\"_text.pkl\",\"wb\"))\n",
        "#Corpus\n",
        "pickle.dump(corpus,open(aoytk.path\"models/\"+model_name+\"_corpus.pkl\",\"wb\"))\n",
        "#Dictionary\n",
        "pickle.dump(id2word,open(aoytk.path\"models/\"+model_name+\"_id2word.pkl\",\"wb\"))\n",
        "\n",
        "print(\"Models successfully save to: \"+aoytk.path+\"models/\"+model_name+\"_*.*\")"
      ],
      "metadata": {
        "id": "p8EZaJkd3Qli"
      },
      "execution_count": null,
      "outputs": []
    }
  ]
}