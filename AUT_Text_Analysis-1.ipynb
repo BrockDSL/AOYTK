{
  "nbformat": 4,
  "nbformat_minor": 0,
  "metadata": {
    "colab": {
      "provenance": [],
      "collapsed_sections": []
    },
    "kernelspec": {
      "name": "python3",
      "display_name": "Python 3"
    },
    "language_info": {
      "name": "python"
    },
    "widgets": {
      "application/vnd.jupyter.widget-state+json": {
        "7a26ac9b50aa43f99c20b4fb455f910d": {
          "model_module": "@jupyter-widgets/controls",
          "model_name": "TextModel",
          "model_module_version": "1.5.0",
          "state": {
            "_dom_classes": [],
            "_model_module": "@jupyter-widgets/controls",
            "_model_module_version": "1.5.0",
            "_model_name": "TextModel",
            "_view_count": null,
            "_view_module": "@jupyter-widgets/controls",
            "_view_module_version": "1.5.0",
            "_view_name": "TextView",
            "continuous_update": true,
            "description": "Folder path:",
            "description_tooltip": null,
            "disabled": false,
            "layout": "IPY_MODEL_63ce7100e6be479587c50d06001286a9",
            "placeholder": "​",
            "style": "IPY_MODEL_905bb8dda29143238ef7927fef2f2d4b",
            "value": "/content/drive/MyDrive/AOY"
          }
        },
        "63ce7100e6be479587c50d06001286a9": {
          "model_module": "@jupyter-widgets/base",
          "model_name": "LayoutModel",
          "model_module_version": "1.2.0",
          "state": {
            "_model_module": "@jupyter-widgets/base",
            "_model_module_version": "1.2.0",
            "_model_name": "LayoutModel",
            "_view_count": null,
            "_view_module": "@jupyter-widgets/base",
            "_view_module_version": "1.2.0",
            "_view_name": "LayoutView",
            "align_content": null,
            "align_items": null,
            "align_self": null,
            "border": null,
            "bottom": null,
            "display": null,
            "flex": null,
            "flex_flow": null,
            "grid_area": null,
            "grid_auto_columns": null,
            "grid_auto_flow": null,
            "grid_auto_rows": null,
            "grid_column": null,
            "grid_gap": null,
            "grid_row": null,
            "grid_template_areas": null,
            "grid_template_columns": null,
            "grid_template_rows": null,
            "height": null,
            "justify_content": null,
            "justify_items": null,
            "left": null,
            "margin": null,
            "max_height": null,
            "max_width": null,
            "min_height": null,
            "min_width": null,
            "object_fit": null,
            "object_position": null,
            "order": null,
            "overflow": null,
            "overflow_x": null,
            "overflow_y": null,
            "padding": null,
            "right": null,
            "top": null,
            "visibility": null,
            "width": null
          }
        },
        "905bb8dda29143238ef7927fef2f2d4b": {
          "model_module": "@jupyter-widgets/controls",
          "model_name": "DescriptionStyleModel",
          "model_module_version": "1.5.0",
          "state": {
            "_model_module": "@jupyter-widgets/controls",
            "_model_module_version": "1.5.0",
            "_model_name": "DescriptionStyleModel",
            "_view_count": null,
            "_view_module": "@jupyter-widgets/base",
            "_view_module_version": "1.2.0",
            "_view_name": "StyleView",
            "description_width": ""
          }
        },
        "8b7be847a5f244fa9e363a6d0d29cb7c": {
          "model_module": "@jupyter-widgets/controls",
          "model_name": "ButtonModel",
          "model_module_version": "1.5.0",
          "state": {
            "_dom_classes": [],
            "_model_module": "@jupyter-widgets/controls",
            "_model_module_version": "1.5.0",
            "_model_name": "ButtonModel",
            "_view_count": null,
            "_view_module": "@jupyter-widgets/controls",
            "_view_module_version": "1.5.0",
            "_view_name": "ButtonView",
            "button_style": "",
            "description": "Submit",
            "disabled": false,
            "icon": "",
            "layout": "IPY_MODEL_85fb2d92a1a140cb819c9b2c71167826",
            "style": "IPY_MODEL_fb3160df433542b9b055ebf595100a6d",
            "tooltip": ""
          }
        },
        "85fb2d92a1a140cb819c9b2c71167826": {
          "model_module": "@jupyter-widgets/base",
          "model_name": "LayoutModel",
          "model_module_version": "1.2.0",
          "state": {
            "_model_module": "@jupyter-widgets/base",
            "_model_module_version": "1.2.0",
            "_model_name": "LayoutModel",
            "_view_count": null,
            "_view_module": "@jupyter-widgets/base",
            "_view_module_version": "1.2.0",
            "_view_name": "LayoutView",
            "align_content": null,
            "align_items": null,
            "align_self": null,
            "border": null,
            "bottom": null,
            "display": null,
            "flex": null,
            "flex_flow": null,
            "grid_area": null,
            "grid_auto_columns": null,
            "grid_auto_flow": null,
            "grid_auto_rows": null,
            "grid_column": null,
            "grid_gap": null,
            "grid_row": null,
            "grid_template_areas": null,
            "grid_template_columns": null,
            "grid_template_rows": null,
            "height": null,
            "justify_content": null,
            "justify_items": null,
            "left": null,
            "margin": null,
            "max_height": null,
            "max_width": null,
            "min_height": null,
            "min_width": null,
            "object_fit": null,
            "object_position": null,
            "order": null,
            "overflow": null,
            "overflow_x": null,
            "overflow_y": null,
            "padding": null,
            "right": null,
            "top": null,
            "visibility": null,
            "width": null
          }
        },
        "fb3160df433542b9b055ebf595100a6d": {
          "model_module": "@jupyter-widgets/controls",
          "model_name": "ButtonStyleModel",
          "model_module_version": "1.5.0",
          "state": {
            "_model_module": "@jupyter-widgets/controls",
            "_model_module_version": "1.5.0",
            "_model_name": "ButtonStyleModel",
            "_view_count": null,
            "_view_module": "@jupyter-widgets/base",
            "_view_module_version": "1.2.0",
            "_view_name": "StyleView",
            "button_color": null,
            "font_weight": ""
          }
        },
        "f008f39c77964de8bd3f3a2a8f133c25": {
          "model_module": "@jupyter-widgets/controls",
          "model_name": "TextModel",
          "model_module_version": "1.5.0",
          "state": {
            "_dom_classes": [],
            "_model_module": "@jupyter-widgets/controls",
            "_model_module_version": "1.5.0",
            "_model_name": "TextModel",
            "_view_count": null,
            "_view_module": "@jupyter-widgets/controls",
            "_view_module_version": "1.5.0",
            "_view_name": "TextView",
            "continuous_update": true,
            "description": "W/ARC URL: ",
            "description_tooltip": null,
            "disabled": false,
            "layout": "IPY_MODEL_abf5fe6177714527bf9ef204b79d3dc0",
            "placeholder": "​",
            "style": "IPY_MODEL_3c087eab7d364c95b91d3cbd3f1a55f2",
            "value": "https://github.com/archivesunleashed/aut-resources/blob/master/Sample-Data/ARCHIVEIT-227-QUARTERLY-XUGECV-20091218231727-00039-crawling06.us.archive.org-8091.warc.gz?raw=true"
          }
        },
        "abf5fe6177714527bf9ef204b79d3dc0": {
          "model_module": "@jupyter-widgets/base",
          "model_name": "LayoutModel",
          "model_module_version": "1.2.0",
          "state": {
            "_model_module": "@jupyter-widgets/base",
            "_model_module_version": "1.2.0",
            "_model_name": "LayoutModel",
            "_view_count": null,
            "_view_module": "@jupyter-widgets/base",
            "_view_module_version": "1.2.0",
            "_view_name": "LayoutView",
            "align_content": null,
            "align_items": null,
            "align_self": null,
            "border": null,
            "bottom": null,
            "display": null,
            "flex": null,
            "flex_flow": null,
            "grid_area": null,
            "grid_auto_columns": null,
            "grid_auto_flow": null,
            "grid_auto_rows": null,
            "grid_column": null,
            "grid_gap": null,
            "grid_row": null,
            "grid_template_areas": null,
            "grid_template_columns": null,
            "grid_template_rows": null,
            "height": null,
            "justify_content": null,
            "justify_items": null,
            "left": null,
            "margin": null,
            "max_height": null,
            "max_width": null,
            "min_height": null,
            "min_width": null,
            "object_fit": null,
            "object_position": null,
            "order": null,
            "overflow": null,
            "overflow_x": null,
            "overflow_y": null,
            "padding": null,
            "right": null,
            "top": null,
            "visibility": null,
            "width": null
          }
        },
        "3c087eab7d364c95b91d3cbd3f1a55f2": {
          "model_module": "@jupyter-widgets/controls",
          "model_name": "DescriptionStyleModel",
          "model_module_version": "1.5.0",
          "state": {
            "_model_module": "@jupyter-widgets/controls",
            "_model_module_version": "1.5.0",
            "_model_name": "DescriptionStyleModel",
            "_view_count": null,
            "_view_module": "@jupyter-widgets/base",
            "_view_module_version": "1.2.0",
            "_view_name": "StyleView",
            "description_width": ""
          }
        },
        "649e986253344051b62ad9dc1b4ace8d": {
          "model_module": "@jupyter-widgets/controls",
          "model_name": "ButtonModel",
          "model_module_version": "1.5.0",
          "state": {
            "_dom_classes": [],
            "_model_module": "@jupyter-widgets/controls",
            "_model_module_version": "1.5.0",
            "_model_name": "ButtonModel",
            "_view_count": null,
            "_view_module": "@jupyter-widgets/controls",
            "_view_module_version": "1.5.0",
            "_view_name": "ButtonView",
            "button_style": "",
            "description": "Download W/ARC",
            "disabled": false,
            "icon": "",
            "layout": "IPY_MODEL_fdc5f8044a2f41cbb13cd9dea7a37e13",
            "style": "IPY_MODEL_d42d3fff9d9c4c9d92e3a411fd9e03f0",
            "tooltip": ""
          }
        },
        "fdc5f8044a2f41cbb13cd9dea7a37e13": {
          "model_module": "@jupyter-widgets/base",
          "model_name": "LayoutModel",
          "model_module_version": "1.2.0",
          "state": {
            "_model_module": "@jupyter-widgets/base",
            "_model_module_version": "1.2.0",
            "_model_name": "LayoutModel",
            "_view_count": null,
            "_view_module": "@jupyter-widgets/base",
            "_view_module_version": "1.2.0",
            "_view_name": "LayoutView",
            "align_content": null,
            "align_items": null,
            "align_self": null,
            "border": null,
            "bottom": null,
            "display": null,
            "flex": null,
            "flex_flow": null,
            "grid_area": null,
            "grid_auto_columns": null,
            "grid_auto_flow": null,
            "grid_auto_rows": null,
            "grid_column": null,
            "grid_gap": null,
            "grid_row": null,
            "grid_template_areas": null,
            "grid_template_columns": null,
            "grid_template_rows": null,
            "height": null,
            "justify_content": null,
            "justify_items": null,
            "left": null,
            "margin": null,
            "max_height": null,
            "max_width": null,
            "min_height": null,
            "min_width": null,
            "object_fit": null,
            "object_position": null,
            "order": null,
            "overflow": null,
            "overflow_x": null,
            "overflow_y": null,
            "padding": null,
            "right": null,
            "top": null,
            "visibility": null,
            "width": null
          }
        },
        "d42d3fff9d9c4c9d92e3a411fd9e03f0": {
          "model_module": "@jupyter-widgets/controls",
          "model_name": "ButtonStyleModel",
          "model_module_version": "1.5.0",
          "state": {
            "_model_module": "@jupyter-widgets/controls",
            "_model_module_version": "1.5.0",
            "_model_name": "ButtonStyleModel",
            "_view_count": null,
            "_view_module": "@jupyter-widgets/base",
            "_view_module_version": "1.2.0",
            "_view_name": "StyleView",
            "button_color": null,
            "font_weight": ""
          }
        },
        "af34dc4023c448f6bfe6787633e93f1a": {
          "model_module": "@jupyter-widgets/controls",
          "model_name": "IntProgressModel",
          "model_module_version": "1.5.0",
          "state": {
            "_dom_classes": [],
            "_model_module": "@jupyter-widgets/controls",
            "_model_module_version": "1.5.0",
            "_model_name": "IntProgressModel",
            "_view_count": null,
            "_view_module": "@jupyter-widgets/controls",
            "_view_module_version": "1.5.0",
            "_view_name": "ProgressView",
            "bar_style": "info",
            "description": "",
            "description_tooltip": null,
            "layout": "IPY_MODEL_cc32ac12ef544d679411c3aba72e8ca7",
            "max": 100,
            "min": 0,
            "orientation": "horizontal",
            "style": "IPY_MODEL_dd754186191a4a1ab6a86028e29ed069",
            "value": 100
          }
        },
        "cc32ac12ef544d679411c3aba72e8ca7": {
          "model_module": "@jupyter-widgets/base",
          "model_name": "LayoutModel",
          "model_module_version": "1.2.0",
          "state": {
            "_model_module": "@jupyter-widgets/base",
            "_model_module_version": "1.2.0",
            "_model_name": "LayoutModel",
            "_view_count": null,
            "_view_module": "@jupyter-widgets/base",
            "_view_module_version": "1.2.0",
            "_view_name": "LayoutView",
            "align_content": null,
            "align_items": null,
            "align_self": null,
            "border": null,
            "bottom": null,
            "display": null,
            "flex": null,
            "flex_flow": null,
            "grid_area": null,
            "grid_auto_columns": null,
            "grid_auto_flow": null,
            "grid_auto_rows": null,
            "grid_column": null,
            "grid_gap": null,
            "grid_row": null,
            "grid_template_areas": null,
            "grid_template_columns": null,
            "grid_template_rows": null,
            "height": null,
            "justify_content": null,
            "justify_items": null,
            "left": null,
            "margin": null,
            "max_height": null,
            "max_width": null,
            "min_height": null,
            "min_width": null,
            "object_fit": null,
            "object_position": null,
            "order": null,
            "overflow": null,
            "overflow_x": null,
            "overflow_y": null,
            "padding": null,
            "right": null,
            "top": null,
            "visibility": null,
            "width": null
          }
        },
        "dd754186191a4a1ab6a86028e29ed069": {
          "model_module": "@jupyter-widgets/controls",
          "model_name": "ProgressStyleModel",
          "model_module_version": "1.5.0",
          "state": {
            "_model_module": "@jupyter-widgets/controls",
            "_model_module_version": "1.5.0",
            "_model_name": "ProgressStyleModel",
            "_view_count": null,
            "_view_module": "@jupyter-widgets/base",
            "_view_module_version": "1.2.0",
            "_view_name": "StyleView",
            "bar_color": null,
            "description_width": ""
          }
        },
        "ad7b0f337c5a48cc962416547fbd27ba": {
          "model_module": "@jupyter-widgets/controls",
          "model_name": "DropdownModel",
          "model_module_version": "1.5.0",
          "state": {
            "_dom_classes": [],
            "_model_module": "@jupyter-widgets/controls",
            "_model_module_version": "1.5.0",
            "_model_name": "DropdownModel",
            "_options_labels": [
              "ARCHIVEIT-227-QUARTERLY-XUGECV-20091218231727-00039-crawling06.us.archive.org-8091.warc.gz",
              "ARCHIVEIT-227-UOFTORONTO-CANPOLPINT-20060622205612-00009-crawling025.archive.org.arc.gz"
            ],
            "_view_count": null,
            "_view_module": "@jupyter-widgets/controls",
            "_view_module_version": "1.5.0",
            "_view_name": "DropdownView",
            "description": "W/ARC file:",
            "description_tooltip": null,
            "disabled": false,
            "index": 0,
            "layout": "IPY_MODEL_9b2a47fa453d4302be6fa4cf9689ef0c",
            "style": "IPY_MODEL_95a4795e4d4046c689bdfdfa392ed5ad"
          }
        },
        "9b2a47fa453d4302be6fa4cf9689ef0c": {
          "model_module": "@jupyter-widgets/base",
          "model_name": "LayoutModel",
          "model_module_version": "1.2.0",
          "state": {
            "_model_module": "@jupyter-widgets/base",
            "_model_module_version": "1.2.0",
            "_model_name": "LayoutModel",
            "_view_count": null,
            "_view_module": "@jupyter-widgets/base",
            "_view_module_version": "1.2.0",
            "_view_name": "LayoutView",
            "align_content": null,
            "align_items": null,
            "align_self": null,
            "border": null,
            "bottom": null,
            "display": null,
            "flex": null,
            "flex_flow": null,
            "grid_area": null,
            "grid_auto_columns": null,
            "grid_auto_flow": null,
            "grid_auto_rows": null,
            "grid_column": null,
            "grid_gap": null,
            "grid_row": null,
            "grid_template_areas": null,
            "grid_template_columns": null,
            "grid_template_rows": null,
            "height": null,
            "justify_content": null,
            "justify_items": null,
            "left": null,
            "margin": null,
            "max_height": null,
            "max_width": null,
            "min_height": null,
            "min_width": null,
            "object_fit": null,
            "object_position": null,
            "order": null,
            "overflow": null,
            "overflow_x": null,
            "overflow_y": null,
            "padding": null,
            "right": null,
            "top": null,
            "visibility": null,
            "width": null
          }
        },
        "95a4795e4d4046c689bdfdfa392ed5ad": {
          "model_module": "@jupyter-widgets/controls",
          "model_name": "DescriptionStyleModel",
          "model_module_version": "1.5.0",
          "state": {
            "_model_module": "@jupyter-widgets/controls",
            "_model_module_version": "1.5.0",
            "_model_name": "DescriptionStyleModel",
            "_view_count": null,
            "_view_module": "@jupyter-widgets/base",
            "_view_module_version": "1.2.0",
            "_view_name": "StyleView",
            "description_width": ""
          }
        },
        "1d0653ca89784a418f612edc97908afe": {
          "model_module": "@jupyter-widgets/controls",
          "model_name": "TextModel",
          "model_module_version": "1.5.0",
          "state": {
            "_dom_classes": [],
            "_model_module": "@jupyter-widgets/controls",
            "_model_module_version": "1.5.0",
            "_model_name": "TextModel",
            "_view_count": null,
            "_view_module": "@jupyter-widgets/controls",
            "_view_module_version": "1.5.0",
            "_view_name": "TextView",
            "continuous_update": true,
            "description": "Output folder:",
            "description_tooltip": null,
            "disabled": false,
            "layout": "IPY_MODEL_511e5d4a53194355903fc862f21724b1",
            "placeholder": "​",
            "style": "IPY_MODEL_4dfb02717b304606bd9ef3840d4f9628",
            "value": "output/something/"
          }
        },
        "511e5d4a53194355903fc862f21724b1": {
          "model_module": "@jupyter-widgets/base",
          "model_name": "LayoutModel",
          "model_module_version": "1.2.0",
          "state": {
            "_model_module": "@jupyter-widgets/base",
            "_model_module_version": "1.2.0",
            "_model_name": "LayoutModel",
            "_view_count": null,
            "_view_module": "@jupyter-widgets/base",
            "_view_module_version": "1.2.0",
            "_view_name": "LayoutView",
            "align_content": null,
            "align_items": null,
            "align_self": null,
            "border": null,
            "bottom": null,
            "display": null,
            "flex": null,
            "flex_flow": null,
            "grid_area": null,
            "grid_auto_columns": null,
            "grid_auto_flow": null,
            "grid_auto_rows": null,
            "grid_column": null,
            "grid_gap": null,
            "grid_row": null,
            "grid_template_areas": null,
            "grid_template_columns": null,
            "grid_template_rows": null,
            "height": null,
            "justify_content": null,
            "justify_items": null,
            "left": null,
            "margin": null,
            "max_height": null,
            "max_width": null,
            "min_height": null,
            "min_width": null,
            "object_fit": null,
            "object_position": null,
            "order": null,
            "overflow": null,
            "overflow_x": null,
            "overflow_y": null,
            "padding": null,
            "right": null,
            "top": null,
            "visibility": null,
            "width": null
          }
        },
        "4dfb02717b304606bd9ef3840d4f9628": {
          "model_module": "@jupyter-widgets/controls",
          "model_name": "DescriptionStyleModel",
          "model_module_version": "1.5.0",
          "state": {
            "_model_module": "@jupyter-widgets/controls",
            "_model_module_version": "1.5.0",
            "_model_name": "DescriptionStyleModel",
            "_view_count": null,
            "_view_module": "@jupyter-widgets/base",
            "_view_module_version": "1.2.0",
            "_view_name": "StyleView",
            "description_width": ""
          }
        },
        "4ad447d5f37c4eed983f19aa5c428953": {
          "model_module": "@jupyter-widgets/controls",
          "model_name": "DropdownModel",
          "model_module_version": "1.5.0",
          "state": {
            "_dom_classes": [],
            "_model_module": "@jupyter-widgets/controls",
            "_model_module_version": "1.5.0",
            "_model_name": "DropdownModel",
            "_options_labels": [
              "csv",
              "parquet"
            ],
            "_view_count": null,
            "_view_module": "@jupyter-widgets/controls",
            "_view_module_version": "1.5.0",
            "_view_name": "DropdownView",
            "description": "File type:",
            "description_tooltip": null,
            "disabled": false,
            "index": 0,
            "layout": "IPY_MODEL_b9413782741147e0804756990629acac",
            "style": "IPY_MODEL_28445cb2019146de85f7683a7607bec4"
          }
        },
        "b9413782741147e0804756990629acac": {
          "model_module": "@jupyter-widgets/base",
          "model_name": "LayoutModel",
          "model_module_version": "1.2.0",
          "state": {
            "_model_module": "@jupyter-widgets/base",
            "_model_module_version": "1.2.0",
            "_model_name": "LayoutModel",
            "_view_count": null,
            "_view_module": "@jupyter-widgets/base",
            "_view_module_version": "1.2.0",
            "_view_name": "LayoutView",
            "align_content": null,
            "align_items": null,
            "align_self": null,
            "border": null,
            "bottom": null,
            "display": null,
            "flex": null,
            "flex_flow": null,
            "grid_area": null,
            "grid_auto_columns": null,
            "grid_auto_flow": null,
            "grid_auto_rows": null,
            "grid_column": null,
            "grid_gap": null,
            "grid_row": null,
            "grid_template_areas": null,
            "grid_template_columns": null,
            "grid_template_rows": null,
            "height": null,
            "justify_content": null,
            "justify_items": null,
            "left": null,
            "margin": null,
            "max_height": null,
            "max_width": null,
            "min_height": null,
            "min_width": null,
            "object_fit": null,
            "object_position": null,
            "order": null,
            "overflow": null,
            "overflow_x": null,
            "overflow_y": null,
            "padding": null,
            "right": null,
            "top": null,
            "visibility": null,
            "width": null
          }
        },
        "28445cb2019146de85f7683a7607bec4": {
          "model_module": "@jupyter-widgets/controls",
          "model_name": "DescriptionStyleModel",
          "model_module_version": "1.5.0",
          "state": {
            "_model_module": "@jupyter-widgets/controls",
            "_model_module_version": "1.5.0",
            "_model_name": "DescriptionStyleModel",
            "_view_count": null,
            "_view_module": "@jupyter-widgets/base",
            "_view_module_version": "1.2.0",
            "_view_name": "StyleView",
            "description_width": ""
          }
        },
        "f3293319f7ea49baa798d731ad47962f": {
          "model_module": "@jupyter-widgets/controls",
          "model_name": "DropdownModel",
          "model_module_version": "1.5.0",
          "state": {
            "_dom_classes": [],
            "_model_module": "@jupyter-widgets/controls",
            "_model_module_version": "1.5.0",
            "_model_name": "DropdownModel",
            "_options_labels": [
              "All text content",
              "Text content without HTTP headers",
              "Text content without boilerplate"
            ],
            "_view_count": null,
            "_view_module": "@jupyter-widgets/controls",
            "_view_module_version": "1.5.0",
            "_view_name": "DropdownView",
            "description": "Content:",
            "description_tooltip": null,
            "disabled": false,
            "index": 2,
            "layout": "IPY_MODEL_21d275f655e2401b98e0bc856b3a8d68",
            "style": "IPY_MODEL_89d1a38587af473dad9a939d298f8791"
          }
        },
        "21d275f655e2401b98e0bc856b3a8d68": {
          "model_module": "@jupyter-widgets/base",
          "model_name": "LayoutModel",
          "model_module_version": "1.2.0",
          "state": {
            "_model_module": "@jupyter-widgets/base",
            "_model_module_version": "1.2.0",
            "_model_name": "LayoutModel",
            "_view_count": null,
            "_view_module": "@jupyter-widgets/base",
            "_view_module_version": "1.2.0",
            "_view_name": "LayoutView",
            "align_content": null,
            "align_items": null,
            "align_self": null,
            "border": null,
            "bottom": null,
            "display": null,
            "flex": null,
            "flex_flow": null,
            "grid_area": null,
            "grid_auto_columns": null,
            "grid_auto_flow": null,
            "grid_auto_rows": null,
            "grid_column": null,
            "grid_gap": null,
            "grid_row": null,
            "grid_template_areas": null,
            "grid_template_columns": null,
            "grid_template_rows": null,
            "height": null,
            "justify_content": null,
            "justify_items": null,
            "left": null,
            "margin": null,
            "max_height": null,
            "max_width": null,
            "min_height": null,
            "min_width": null,
            "object_fit": null,
            "object_position": null,
            "order": null,
            "overflow": null,
            "overflow_x": null,
            "overflow_y": null,
            "padding": null,
            "right": null,
            "top": null,
            "visibility": null,
            "width": null
          }
        },
        "89d1a38587af473dad9a939d298f8791": {
          "model_module": "@jupyter-widgets/controls",
          "model_name": "DescriptionStyleModel",
          "model_module_version": "1.5.0",
          "state": {
            "_model_module": "@jupyter-widgets/controls",
            "_model_module_version": "1.5.0",
            "_model_name": "DescriptionStyleModel",
            "_view_count": null,
            "_view_module": "@jupyter-widgets/base",
            "_view_module_version": "1.2.0",
            "_view_name": "StyleView",
            "description_width": ""
          }
        },
        "f7bde6f188274570acace6c9af31ce0a": {
          "model_module": "@jupyter-widgets/controls",
          "model_name": "ButtonModel",
          "model_module_version": "1.5.0",
          "state": {
            "_dom_classes": [],
            "_model_module": "@jupyter-widgets/controls",
            "_model_module_version": "1.5.0",
            "_model_name": "ButtonModel",
            "_view_count": null,
            "_view_module": "@jupyter-widgets/controls",
            "_view_module_version": "1.5.0",
            "_view_name": "ButtonView",
            "button_style": "",
            "description": "Create derivative",
            "disabled": false,
            "icon": "",
            "layout": "IPY_MODEL_d47a67f824084d6ab1288c7b18a4dd5c",
            "style": "IPY_MODEL_ee898c87946745cb930583b02591af6e",
            "tooltip": ""
          }
        },
        "d47a67f824084d6ab1288c7b18a4dd5c": {
          "model_module": "@jupyter-widgets/base",
          "model_name": "LayoutModel",
          "model_module_version": "1.2.0",
          "state": {
            "_model_module": "@jupyter-widgets/base",
            "_model_module_version": "1.2.0",
            "_model_name": "LayoutModel",
            "_view_count": null,
            "_view_module": "@jupyter-widgets/base",
            "_view_module_version": "1.2.0",
            "_view_name": "LayoutView",
            "align_content": null,
            "align_items": null,
            "align_self": null,
            "border": null,
            "bottom": null,
            "display": null,
            "flex": null,
            "flex_flow": null,
            "grid_area": null,
            "grid_auto_columns": null,
            "grid_auto_flow": null,
            "grid_auto_rows": null,
            "grid_column": null,
            "grid_gap": null,
            "grid_row": null,
            "grid_template_areas": null,
            "grid_template_columns": null,
            "grid_template_rows": null,
            "height": null,
            "justify_content": null,
            "justify_items": null,
            "left": null,
            "margin": null,
            "max_height": null,
            "max_width": null,
            "min_height": null,
            "min_width": null,
            "object_fit": null,
            "object_position": null,
            "order": null,
            "overflow": null,
            "overflow_x": null,
            "overflow_y": null,
            "padding": null,
            "right": null,
            "top": null,
            "visibility": null,
            "width": null
          }
        },
        "ee898c87946745cb930583b02591af6e": {
          "model_module": "@jupyter-widgets/controls",
          "model_name": "ButtonStyleModel",
          "model_module_version": "1.5.0",
          "state": {
            "_model_module": "@jupyter-widgets/controls",
            "_model_module_version": "1.5.0",
            "_model_name": "ButtonStyleModel",
            "_view_count": null,
            "_view_module": "@jupyter-widgets/base",
            "_view_module_version": "1.2.0",
            "_view_name": "StyleView",
            "button_color": null,
            "font_weight": ""
          }
        }
      }
    }
  },
  "cells": [
    {
      "cell_type": "markdown",
      "source": [
        "## Setup AUT and PySpark\n",
        "This section downloads and installs all of the required dependencies for setting up the AUT and PySpark within Google Colab. \n",
        "\n",
        "It is modified from [this notebook](https://github.com/archivesunleashed/notebooks/blob/main/PySpark%20Examples/aut_pyspark.ipynb) created by the Archives Unleashed team. "
      ],
      "metadata": {
        "id": "Bs13aDpV3bIX"
      }
    },
    {
      "cell_type": "code",
      "execution_count": 1,
      "metadata": {
        "id": "YHA8ZK_i3WB5"
      },
      "outputs": [],
      "source": [
        "# download the AUT\n",
        "%%capture\n",
        "!wget \"https://github.com/archivesunleashed/aut/releases/download/aut-1.1.0/aut-1.1.0.zip\"\n",
        "!wget \"https://github.com/archivesunleashed/aut/releases/download/aut-1.1.0/aut-1.1.0-fatjar.jar\""
      ]
    },
    {
      "cell_type": "code",
      "source": [
        "# download the dependencies (Java, Apache Spark, FindSpark (for PySpark))\n",
        "%%capture\n",
        "!apt-get update\n",
        "!apt-get install -y openjdk-11-jdk-headless -qq \n",
        "!apt-get install maven -qq\n",
        "\n",
        "!curl -L \"https://archive.apache.org/dist/spark/spark-3.1.1/spark-3.1.1-bin-hadoop2.7.tgz\" > spark-3.1.1-bin-hadoop2.7.tgz\n",
        "!tar -xvf spark-3.1.1-bin-hadoop2.7.tgz\n",
        "!pip install -q findspark"
      ],
      "metadata": {
        "id": "ijd_LpV34JLi"
      },
      "execution_count": 2,
      "outputs": []
    },
    {
      "cell_type": "code",
      "source": [
        "# create the appropriate environment variables to be able to use Java, Spark and PySpark\n",
        "import os\n",
        "os.environ[\"JAVA_HOME\"] = \"/usr/lib/jvm/java-1.11.0-openjdk-amd64\"\n",
        "os.environ[\"SPARK_HOME\"] = \"/content/spark-3.1.1-bin-hadoop2.7\"\n",
        "os.environ['PYSPARK_SUBMIT_ARGS'] = '--jars aut-1.1.0-fatjar.jar --py-files aut-1.1.0.zip pyspark-shell'\n",
        "# initialize PySpark and the appropriate context variables for use with the AUT\n",
        "import findspark\n",
        "findspark.init()\n",
        "import pyspark\n",
        "sc = pyspark.SparkContext()\n",
        "from pyspark.sql import SQLContext\n",
        "sqlContext = SQLContext(sc)"
      ],
      "metadata": {
        "id": "YhiwEl2r4SzJ"
      },
      "execution_count": 3,
      "outputs": []
    },
    {
      "cell_type": "code",
      "execution_count": 4,
      "metadata": {
        "id": "AB47vlXOtAzM"
      },
      "outputs": [],
      "source": [
        "# borrowing their sample data too for now! (from University of Toronto Libraries, Canadian Political Parties and Interest Groups, Archive-It Collection 227, Canadian Action Party, http://wayback.archive-it.org/227/20051004191340/http://canadianactionparty.ca/Default2.asp)\n",
        "%%capture\n",
        "!mkdir data\n",
        "!wget \"https://github.com/archivesunleashed/aut-resources/blob/master/Sample-Data/ARCHIVEIT-227-UOFTORONTO-CANPOLPINT-20060622205612-00009-crawling025.archive.org.arc.gz?raw=true\" -O data/ARCHIVEIT-227-UOFTORONTO-CANPOLPINT-20060622205612-00009-crawling025.archive.org.arc.gz\n",
        "!wget \"https://github.com/archivesunleashed/aut-resources/blob/master/Sample-Data/ARCHIVEIT-227-QUARTERLY-XUGECV-20091218231727-00039-crawling06.us.archive.org-8091.warc.gz?raw=true\" -O data/ARCHIVEIT-227-QUARTERLY-XUGECV-20091218231727-00039-crawling06.us.archive.org-8091.warc.gz"
      ]
    },
    {
      "cell_type": "code",
      "source": [
        "import ipywidgets as widgets # for creating UI elements \n",
        "import os # for accessing files in folders in the generation step\n",
        "path = 'content/data' # default path folder"
      ],
      "metadata": {
        "id": "tTgFiV4GyoVF"
      },
      "execution_count": 5,
      "outputs": []
    },
    {
      "cell_type": "markdown",
      "source": [
        "## Get Data\n",
        "\n",
        "Before we can produce any derivatives, we first need to make sure we can access our W/ARC files from within the program. Data can either be temporarily saved to and accessed from the session storage in Colab, or \n",
        "\n",
        "To have data persist between sessions in Colab, it is necessary to mount your Google Drive. \n",
        "\n",
        "### Mount Google Drive\n",
        "\n",
        "To save files and have them persist between sessions, it is necessary to mount your Google Drive. \n",
        "\n",
        "This can be done by running the following cells. "
      ],
      "metadata": {
        "id": "Ut0LRUg87fzX"
      }
    },
    {
      "cell_type": "code",
      "source": [
        "from google.colab import drive\n",
        "drive.mount('drive/')"
      ],
      "metadata": {
        "colab": {
          "base_uri": "https://localhost:8080/"
        },
        "id": "gPlJ4yDS7qd_",
        "outputId": "d430de1a-77ca-4637-a823-26db0f331a09"
      },
      "execution_count": 6,
      "outputs": [
        {
          "output_type": "stream",
          "name": "stdout",
          "text": [
            "Drive already mounted at drive/; to attempt to forcibly remount, call drive.mount(\"drive/\", force_remount=True).\n"
          ]
        }
      ]
    },
    {
      "cell_type": "markdown",
      "source": [
        "To specify the folder within your Google Drive that you wish to read data from and save data to specify the path in the text pane below. \n",
        "\n",
        "To get the path: open the `Files` pane to the left of the screen, navigate through the folder structure to find the folder in your Google Drive you wish to read and write data to. (Your Google Drive folders will be accessible under `drive/MyDrive`) Click on the three dots to the right of the folder name and select `Copy Path`. Paste the path into the text pane below. "
      ],
      "metadata": {
        "id": "8ZjFpXkT-cKJ"
      }
    },
    {
      "cell_type": "code",
      "source": [
        "txt_path = widgets.Text(description=\"Folder path:\")\n",
        "def btn_set_path(btn): \n",
        "    global path\n",
        "    path = txt_path.value\n",
        "    print(f\"Folder path set to: {path}\")\n",
        "btn_txt_submit = widgets.Button(description=\"Submit\")\n",
        "btn_txt_submit.on_click(btn_set_path)\n",
        "display(txt_path)\n",
        "display(btn_txt_submit)"
      ],
      "metadata": {
        "colab": {
          "base_uri": "https://localhost:8080/",
          "height": 99,
          "referenced_widgets": [
            "7a26ac9b50aa43f99c20b4fb455f910d",
            "63ce7100e6be479587c50d06001286a9",
            "905bb8dda29143238ef7927fef2f2d4b",
            "8b7be847a5f244fa9e363a6d0d29cb7c",
            "85fb2d92a1a140cb819c9b2c71167826",
            "fb3160df433542b9b055ebf595100a6d"
          ]
        },
        "id": "fuCsnGGzHmqf",
        "outputId": "ca0a3c04-1250-4d36-b041-56c233e3ffdd"
      },
      "execution_count": 8,
      "outputs": [
        {
          "output_type": "display_data",
          "data": {
            "text/plain": [
              "Text(value='', description='Folder path:')"
            ],
            "application/vnd.jupyter.widget-view+json": {
              "version_major": 2,
              "version_minor": 0,
              "model_id": "7a26ac9b50aa43f99c20b4fb455f910d"
            }
          },
          "metadata": {}
        },
        {
          "output_type": "display_data",
          "data": {
            "text/plain": [
              "Button(description='Submit', style=ButtonStyle())"
            ],
            "application/vnd.jupyter.widget-view+json": {
              "version_major": 2,
              "version_minor": 0,
              "model_id": "8b7be847a5f244fa9e363a6d0d29cb7c"
            }
          },
          "metadata": {}
        },
        {
          "output_type": "stream",
          "name": "stdout",
          "text": [
            "Folder path set to: /content/drive/MyDrive/AOY\n"
          ]
        }
      ]
    },
    {
      "cell_type": "markdown",
      "source": [
        "### Download W/ARC Files From Link\n",
        "\n",
        "If your W/ARC files are not already available within your Google Drive folder, you can download them by pasting the URL for the file into the box below. "
      ],
      "metadata": {
        "id": "WnT4yv6OH9ZM"
      }
    },
    {
      "cell_type": "code",
      "source": [
        "# Fletcher's code to download a WARC file from a direct link \n",
        "import requests\n",
        "def download_file(url, filepath='', filename=None, loud=True):\n",
        "  \n",
        "  if not filename:\n",
        "    filename = url.split('/')[-1]\n",
        "    if \"?\" in filename: \n",
        "        filename = filename.split(\"?\")[0]\n",
        "  \n",
        "  r = requests.get(url, stream=True)\n",
        "  if loud:\n",
        "    total_bytes_dl = 0\n",
        "    content_len = int(r.headers['Content-Length'])\n",
        "    prog_bar = widgets.IntProgress(value=1, min=0, max=100, step=1, bar_style='info',orientation='horizontal')\n",
        "    print(f'Download progress of {filename}:')\n",
        "    display(prog_bar)\n",
        "\n",
        "  with open(filepath + filename, 'wb') as fd:\n",
        "      for chunk in r.iter_content(chunk_size=4096):\n",
        "          fd.write(chunk)\n",
        "          if loud:\n",
        "            total_bytes_dl += 4096\n",
        "            percent = int((total_bytes_dl / content_len) * 100.0)\n",
        "            prog_bar.value = percent\n",
        "  r.close()"
      ],
      "metadata": {
        "id": "ID072_DwYtcV"
      },
      "execution_count": 9,
      "outputs": []
    },
    {
      "cell_type": "code",
      "source": [
        "txt_url = widgets.Text(description=\"W/ARC URL: \")\n",
        "btn_download = widgets.Button(description = \"Download W/ARC\")\n",
        "def btn_download_action(btn): \n",
        "    url = txt_url.value\n",
        "    if url != '': \n",
        "        download_file(url, path + \"/\") # download the file to the specified folder set in the above section\n",
        "    else: \n",
        "        print(\"Please specify a URL in the textbox above.\")\n",
        "btn_download.on_click(btn_download_action)\n",
        "display(txt_url)\n",
        "display(btn_download)"
      ],
      "metadata": {
        "colab": {
          "base_uri": "https://localhost:8080/",
          "height": 131,
          "referenced_widgets": [
            "f008f39c77964de8bd3f3a2a8f133c25",
            "abf5fe6177714527bf9ef204b79d3dc0",
            "3c087eab7d364c95b91d3cbd3f1a55f2",
            "649e986253344051b62ad9dc1b4ace8d",
            "fdc5f8044a2f41cbb13cd9dea7a37e13",
            "d42d3fff9d9c4c9d92e3a411fd9e03f0",
            "af34dc4023c448f6bfe6787633e93f1a",
            "cc32ac12ef544d679411c3aba72e8ca7",
            "dd754186191a4a1ab6a86028e29ed069"
          ]
        },
        "id": "n-PbGa34INUC",
        "outputId": "fd0658b3-1675-4f99-9011-ed6f3f1616d0"
      },
      "execution_count": 11,
      "outputs": [
        {
          "output_type": "display_data",
          "data": {
            "text/plain": [
              "Text(value='', description='W/ARC URL: ')"
            ],
            "application/vnd.jupyter.widget-view+json": {
              "version_major": 2,
              "version_minor": 0,
              "model_id": "f008f39c77964de8bd3f3a2a8f133c25"
            }
          },
          "metadata": {}
        },
        {
          "output_type": "display_data",
          "data": {
            "text/plain": [
              "Button(description='Download W/ARC', style=ButtonStyle())"
            ],
            "application/vnd.jupyter.widget-view+json": {
              "version_major": 2,
              "version_minor": 0,
              "model_id": "649e986253344051b62ad9dc1b4ace8d"
            }
          },
          "metadata": {}
        },
        {
          "output_type": "stream",
          "name": "stdout",
          "text": [
            "Download progress of ARCHIVEIT-227-QUARTERLY-XUGECV-20091218231727-00039-crawling06.us.archive.org-8091.warc.gz:\n"
          ]
        },
        {
          "output_type": "display_data",
          "data": {
            "text/plain": [
              "IntProgress(value=1, bar_style='info')"
            ],
            "application/vnd.jupyter.widget-view+json": {
              "version_major": 2,
              "version_minor": 0,
              "model_id": "af34dc4023c448f6bfe6787633e93f1a"
            }
          },
          "metadata": {}
        }
      ]
    },
    {
      "cell_type": "markdown",
      "source": [
        "## Produce a text derivative file\n",
        "\n",
        "Given an ARC or WARC file, produce a text derivative. "
      ],
      "metadata": {
        "id": "RFl_u1z54idA"
      }
    },
    {
      "cell_type": "code",
      "source": [
        "# import the AUT\n",
        "from aut import *\n",
        "from pyspark.sql.functions import col, desc"
      ],
      "metadata": {
        "id": "eDN3SF5bBnxR"
      },
      "execution_count": 12,
      "outputs": []
    },
    {
      "cell_type": "code",
      "source": [
        "# a messy first guess at derivative generation\n",
        "def generate_derivative(source_file, output_folder, file_type=\"csv\", text_filters=0):\n",
        "    # create our WebArchive object from the W/ARC file\n",
        "    archive = WebArchive(sc, sqlContext, source_file)\n",
        "\n",
        "    # almost certainly there is a simpler way of doing this, but I don't know how to modularize out the text filtering options\n",
        "    if text_filters == 0: # all content\n",
        "        archive.webpages() \\\n",
        "            .select(\"crawl_date\", \"domain\", \"url\", remove_html(\"content\")) \\\n",
        "            .write \\\n",
        "            .option(\"timestampFormat\", \"yyyy/MM/dd HH:mm:ss ZZ\") \\\n",
        "            .format(file_type) \\\n",
        "            .option(\"escape\", \"\\\"\") \\\n",
        "            .option(\"encoding\", \"utf-8\") \\\n",
        "            .save(output_folder)\n",
        "    elif text_filters == 1: # remove HTTP headers\n",
        "        archive.webpages() \\\n",
        "            .select(\"crawl_date\", \"domain\", \"url\", remove_html(remove_http_header(\"content\"))) \\\n",
        "            .write \\\n",
        "            .option(\"timestampFormat\", \"yyyy/MM/dd HH:mm:ss ZZ\") \\\n",
        "            .format(file_type) \\\n",
        "            .option(\"escape\", \"\\\"\") \\\n",
        "            .option(\"encoding\", \"utf-8\") \\\n",
        "            .save(output_folder)\n",
        "    else: # remove boilerplate text\n",
        "        archive.webpages() \\\n",
        "            .select(\"crawl_date\", \"domain\", \"url\", extract_boilerplate(remove_http_header(\"content\")).alias(\"content\")) \\\n",
        "            .write \\\n",
        "            .option(\"timestampFormat\", \"yyyy/MM/dd HH:mm:ss ZZ\") \\\n",
        "            .format(file_type) \\\n",
        "            .option(\"escape\", \"\\\"\") \\\n",
        "            .option(\"encoding\", \"utf-8\") \\\n",
        "            .save(output_folder)"
      ],
      "metadata": {
        "id": "2atPnwFl5fal"
      },
      "execution_count": 13,
      "outputs": []
    },
    {
      "cell_type": "code",
      "source": [
        "def btn_create_deriv(btn): \n",
        "    # temporary copy-in, need to address scope issues later\n",
        "    content_options = [\"All text content\", \"Text content without HTTP headers\", \"Text content without boilerplate\"]\n",
        "    input_file = path + \"/\" + file_options.value\n",
        "    output_location = path + \"/\" + out_text.value\n",
        "    content_val = content_options.index(content_choice.value)\n",
        "    generate_derivative(input_file, output_location, format_choice.value, content_val)\n",
        "    print(\"Derivative generated, saved to: \" + output_location)"
      ],
      "metadata": {
        "id": "tAHN3p5A6MRa"
      },
      "execution_count": 37,
      "outputs": []
    },
    {
      "cell_type": "code",
      "source": [
        "# file picker for W/ARC files in the specified folder\n",
        "data_files = [x for x in os.listdir(path) if x.endswith((\".warc\", \".arc\", \"warc.gz\", \".arc.gz\"))]\n",
        "file_options = widgets.Dropdown(description=\"W/ARC file:\", options =  data_files)\n",
        "out_text = widgets.Text(description=\"Output folder:\", value=\"output/\")\n",
        "format_choice = widgets.Dropdown(description=\"File type:\",options=[\"csv\", \"parquet\"], value=\"csv\")\n",
        "# text content choices \n",
        "content_options = [\"All text content\", \"Text content without HTTP headers\", \"Text content without boilerplate\"]\n",
        "content_choice = widgets.Dropdown(description=\"Content:\", options=content_options)\n",
        "content_val = content_options.index(content_choice.value)\n",
        "button = widgets.Button(description=\"Create derivative\")\n",
        "button.on_click(btn_create_deriv)\n",
        "display(file_options)\n",
        "display(out_text)\n",
        "display(format_choice)\n",
        "display(content_choice)\n",
        "display(button)"
      ],
      "metadata": {
        "colab": {
          "base_uri": "https://localhost:8080/",
          "height": 189,
          "referenced_widgets": [
            "ad7b0f337c5a48cc962416547fbd27ba",
            "9b2a47fa453d4302be6fa4cf9689ef0c",
            "95a4795e4d4046c689bdfdfa392ed5ad",
            "1d0653ca89784a418f612edc97908afe",
            "511e5d4a53194355903fc862f21724b1",
            "4dfb02717b304606bd9ef3840d4f9628",
            "4ad447d5f37c4eed983f19aa5c428953",
            "b9413782741147e0804756990629acac",
            "28445cb2019146de85f7683a7607bec4",
            "f3293319f7ea49baa798d731ad47962f",
            "21d275f655e2401b98e0bc856b3a8d68",
            "89d1a38587af473dad9a939d298f8791",
            "f7bde6f188274570acace6c9af31ce0a",
            "d47a67f824084d6ab1288c7b18a4dd5c",
            "ee898c87946745cb930583b02591af6e"
          ]
        },
        "id": "Zj7WB6RH5ArD",
        "outputId": "f6ab3387-76b2-4b36-ffbc-5cbb10b089b9"
      },
      "execution_count": 38,
      "outputs": [
        {
          "output_type": "display_data",
          "data": {
            "text/plain": [
              "Dropdown(description='W/ARC file:', options=('ARCHIVEIT-227-QUARTERLY-XUGECV-20091218231727-00039-crawling06.u…"
            ],
            "application/vnd.jupyter.widget-view+json": {
              "version_major": 2,
              "version_minor": 0,
              "model_id": "ad7b0f337c5a48cc962416547fbd27ba"
            }
          },
          "metadata": {}
        },
        {
          "output_type": "display_data",
          "data": {
            "text/plain": [
              "Text(value='output/', description='Output folder:')"
            ],
            "application/vnd.jupyter.widget-view+json": {
              "version_major": 2,
              "version_minor": 0,
              "model_id": "1d0653ca89784a418f612edc97908afe"
            }
          },
          "metadata": {}
        },
        {
          "output_type": "display_data",
          "data": {
            "text/plain": [
              "Dropdown(description='File type:', options=('csv', 'parquet'), value='csv')"
            ],
            "application/vnd.jupyter.widget-view+json": {
              "version_major": 2,
              "version_minor": 0,
              "model_id": "4ad447d5f37c4eed983f19aa5c428953"
            }
          },
          "metadata": {}
        },
        {
          "output_type": "display_data",
          "data": {
            "text/plain": [
              "Dropdown(description='Content:', options=('All text content', 'Text content without HTTP headers', 'Text conte…"
            ],
            "application/vnd.jupyter.widget-view+json": {
              "version_major": 2,
              "version_minor": 0,
              "model_id": "f3293319f7ea49baa798d731ad47962f"
            }
          },
          "metadata": {}
        },
        {
          "output_type": "display_data",
          "data": {
            "text/plain": [
              "Button(description='Create derivative', style=ButtonStyle())"
            ],
            "application/vnd.jupyter.widget-view+json": {
              "version_major": 2,
              "version_minor": 0,
              "model_id": "f7bde6f188274570acace6c9af31ce0a"
            }
          },
          "metadata": {}
        },
        {
          "output_type": "stream",
          "name": "stdout",
          "text": [
            "Derivative generated, saved to: /content/drive/MyDrive/AOY/output/something/\n"
          ]
        }
      ]
    },
    {
      "cell_type": "code",
      "source": [
        "archive = WebArchive(sc, sqlContext, path + \"/ARCHIVEIT-227-QUARTERLY-XUGECV-20091218231727-00039-crawling06.us.archive.org-8091.warc.gz\")\n",
        "archive.webpages() \\\n",
        "    .select(\"crawl_date\", \"domain\", \"url\", \"content\") \\\n",
        "    .write \\\n",
        "    .option(\"timestampFormat\", \"yyyy/MM/dd HH:mm:ss ZZ\") \\\n",
        "    .format(\"csv\") \\\n",
        "    .option(\"escape\", \"\\\"\") \\\n",
        "    .option(\"encoding\", \"utf-8\") \\\n",
        "    .save(\"html_out/\")"
      ],
      "metadata": {
        "id": "zeYzidEKPVze"
      },
      "execution_count": 17,
      "outputs": []
    },
    {
      "cell_type": "code",
      "source": [],
      "metadata": {
        "id": "mJY8lDcXPVuL"
      },
      "execution_count": null,
      "outputs": []
    }
  ]
}